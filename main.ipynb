{
  "nbformat": 4,
  "nbformat_minor": 0,
  "metadata": {
    "colab": {
      "name": "Untitled4.ipynb",
      "provenance": [],
      "authorship_tag": "ABX9TyP5JBO7A7xHLkIqE6mXo/+8",
      "include_colab_link": true
    },
    "kernelspec": {
      "name": "python3",
      "display_name": "Python 3"
    },
    "language_info": {
      "name": "python"
    },
    "accelerator": "GPU"
  },
  "cells": [
    {
      "cell_type": "markdown",
      "metadata": {
        "id": "view-in-github",
        "colab_type": "text"
      },
      "source": [
        "<a href=\"https://colab.research.google.com/github/KutuDev/AIDataComp/blob/main/main.ipynb\" target=\"_parent\"><img src=\"https://colab.research.google.com/assets/colab-badge.svg\" alt=\"Open In Colab\"/></a>"
      ]
    },
    {
      "cell_type": "markdown",
      "metadata": {
        "id": "bHpFLzYN4MnD"
      },
      "source": [
        "[Announcement worksheet](https://worksheets.codalab.org/worksheets/0x7a8721f11e61436e93ac8f76da83f0e6)"
      ]
    },
    {
      "cell_type": "markdown",
      "metadata": {
        "id": "X-PQQoUv5EYI"
      },
      "source": [
        "[Leaderboard](https://https-deeplearning-ai.github.io/data-centric-comp/?utm_source=thebatch&utm_medium=newsletter&utm_campaign=dc-ai-competition&utm_content=dl-ai)"
      ]
    },
    {
      "cell_type": "markdown",
      "metadata": {
        "id": "P1MosTohoMOU"
      },
      "source": [
        "[Data inspection discoveries](https://drive.google.com/file/d/162_c0DDd9UdTN206I9Q7A6TmJg3Fay96/view?usp=sharing)"
      ]
    },
    {
      "cell_type": "markdown",
      "metadata": {
        "id": "NIEm0b8gkoWk"
      },
      "source": [
        "**Results**\n",
        "* 1. *Baseline dataset*\n",
        "        * Final acc: 0.67, Test acc: 0.52\n",
        "        * Final loss: 0.94, Test loss: 1.38\n",
        "\n",
        "* 2. *Data v2 and label book*\n",
        "        * Final acc: 0.78, Test acc: 0.69\n",
        "        * Final loss: 0.93, Test loss: 1.66\n",
        "\n",
        "* 3. *Data v3 and baseline label book*\n",
        "        * Final acc: 0.83, Test acc: 0.72\n",
        "        * Final loss: 0.096, Test loss: 12.30\n",
        "\n",
        "* 4. *Data v4 and baseline label book*\n",
        "        * Final acc: 0.88, Test acc: 0.48\n",
        "        * Final loss: 0.53, Test loss: 2.41\n",
        "\n",
        "* 5. *Data v4_ext and baseline label book*\n",
        "        * Final acc: 0.88, Test acc: 0.42\n",
        "        * Final loss: 0.50, Test loss: 2.54"
      ]
    },
    {
      "cell_type": "markdown",
      "metadata": {
        "id": "QiZhb6Le4i6Z"
      },
      "source": [
        "**To-Dos**\n",
        "\n",
        "**Aim:** 0.95+ accuracy \n",
        "\n",
        "✅Train the resnet baseline model on their 3k plus data towards obtaining the 0.65 accuracy score. This might require include using their 32 by 32 pixel script for image resizing, deleting corrupted files, and fixing labels.\n",
        "\n",
        "✅Inspect the 3k+ images for bad labels, bad image, etc. Fix all anomalies found. \n",
        "\n",
        "✅Download and read papers that uses the Roman MNIST dataset. We can get links to the dataset and other useful information.  \n",
        "\n",
        "\n",
        "✅Inspect the image classes distribution and take necessary actions. It's important that the dataset isn't skewed. \n",
        "\n",
        "✅Use fastai's image data augmentation functions \n",
        "\n",
        "✅Gather more Roman MNIST data in an increase rate of not more than 10x of the 3k data size. This data gathering can be done using any means available, web scraping inclusive.\n",
        "\n",
        "**N.B:** At the end of each steps above, we retrain the baseline model on the dataset in order to observe the effect on the model accuracy score."
      ]
    },
    {
      "cell_type": "markdown",
      "metadata": {
        "id": "xj3RYY0Rqxqu"
      },
      "source": [
        "# Notes\n",
        "\n",
        "* RENAME EACH FILES. Add an auto-increment serial number at the start of each names. This would aid easy lookup of images. Doing this will require creating a doc that contains the previous and new name.\n",
        "* the noise on some images can be erased using photo editing tools. This tool can also be used for data augmentation such as crop, resize.\n",
        "* the images labelled as 'trash' in [Data inspection discoveries](https://drive.google.com/file/d/162_c0DDd9UdTN206I9Q7A6TmJg3Fay96/view?usp=sharing) should be moved to a new folder having a new class named 'unrecognized'\n",
        "\n",
        "* in the I folder, there are images that look like small figure 1\n",
        "* some images needs to be cropped\n",
        "* some images have 1/2 vertical noisy lines\n",
        "* in the II folder, some images written with marker are so small, hence, they appear like roman numeral I.\n",
        "* in the II folder, some images have a bottom vertical noisy line\n",
        "* images' stroke are either thick or thin\n",
        "* some images are small lettered roman numeral \n",
        "* some images are capital lettered roman numeral\n",
        "* some images are capita+bars lettered roman numeral\n",
        "* some images are dashes\n",
        "* images are black on white background"
      ]
    },
    {
      "cell_type": "code",
      "metadata": {
        "colab": {
          "base_uri": "https://localhost:8080/"
        },
        "id": "mBavItuW3fTg",
        "outputId": "be48849c-d28a-4bd5-f833-16d85a7a5531"
      },
      "source": [
        "!git clone https://github.com/KutuDev/AIDataComp"
      ],
      "execution_count": 1,
      "outputs": [
        {
          "output_type": "stream",
          "text": [
            "Cloning into 'AIDataComp'...\n",
            "remote: Enumerating objects: 217, done.\u001b[K\n",
            "remote: Counting objects: 100% (217/217), done.\u001b[K\n",
            "remote: Compressing objects: 100% (215/215), done.\u001b[K\n",
            "remote: Total 217 (delta 63), reused 0 (delta 0), pack-reused 0\u001b[K\n",
            "Receiving objects: 100% (217/217), 30.25 MiB | 20.75 MiB/s, done.\n",
            "Resolving deltas: 100% (63/63), done.\n"
          ],
          "name": "stdout"
        }
      ]
    },
    {
      "cell_type": "code",
      "metadata": {
        "id": "TNs1zvkp3qbv"
      },
      "source": [
        "def unzipper(in_folderPath, out_folderPath):\n",
        "    import tarfile\n",
        "\n",
        "    file = tarfile.open(in_folderPath)\n",
        "    file.extractall(out_folderPath)\n",
        "    file.close()"
      ],
      "execution_count": 2,
      "outputs": []
    },
    {
      "cell_type": "code",
      "metadata": {
        "id": "UQm38TFf5A0o"
      },
      "source": [
        "dataset_name = 'data_b' \n",
        "\n",
        "unzipper(in_folderPath=f'/content/AIDataComp/{dataset_name}.tar.gz', out_folderPath='./images')\n",
        "unzipper(in_folderPath='/content/AIDataComp/label_book.tar.gz', out_folderPath='./images')"
      ],
      "execution_count": 3,
      "outputs": []
    },
    {
      "cell_type": "markdown",
      "metadata": {
        "id": "SfCCWdolqB_N"
      },
      "source": [
        "# Before running the below code, inspect the file browser and copy and paste the needed part of the file path of the dataset"
      ]
    },
    {
      "cell_type": "code",
      "metadata": {
        "id": "51x_efjdj8aS",
        "colab": {
          "base_uri": "https://localhost:8080/",
          "height": 35
        },
        "outputId": "3aaede4f-5a15-4c75-c901-76c1cd4de326"
      },
      "source": [
        "import shutil\n",
        "\n",
        "shutil.move(f\"/content/images/Users/Samuel/Downloads/{dataset_name}\", \"/content/images\")"
      ],
      "execution_count": null,
      "outputs": [
        {
          "output_type": "execute_result",
          "data": {
            "application/vnd.google.colaboratory.intrinsic+json": {
              "type": "string"
            },
            "text/plain": [
              "'/content/images/data_v4_ext'"
            ]
          },
          "metadata": {
            "tags": []
          },
          "execution_count": 5
        }
      ]
    },
    {
      "cell_type": "code",
      "metadata": {
        "id": "lTnruT3c7UQk"
      },
      "source": [
        "# !pip install pysimplegui"
      ],
      "execution_count": null,
      "outputs": []
    },
    {
      "cell_type": "code",
      "metadata": {
        "id": "Ml8h2fNe93my"
      },
      "source": [
        "# !apt-get install -y xvfb # Install X Virtual Frame Buffer\n",
        "# import os\n",
        "# os.system('Xvfb :1 -screen 0 1600x1200x16  &')    # create virtual display with size 1600x1200 and 16 bit color. Color can be changed to 24 or 8\n",
        "# os.environ['DISPLAY']=':1.0'    # tell X clients to use our virtual DISPLAY :1.0"
      ],
      "execution_count": null,
      "outputs": []
    },
    {
      "cell_type": "code",
      "metadata": {
        "id": "f3DbbEMB7ZA2"
      },
      "source": [
        "# !python '/content/DataCentricAIComp/annotgui.py'"
      ],
      "execution_count": null,
      "outputs": []
    },
    {
      "cell_type": "code",
      "metadata": {
        "id": "TfDIr8zpROj-",
        "colab": {
          "base_uri": "https://localhost:8080/"
        },
        "outputId": "ddeed83a-df5e-4e5c-d51c-0b22d58354f4"
      },
      "source": [
        "import tensorflow as tf\n",
        "from tensorflow import keras\n",
        "import numpy as np\n",
        "import json\n",
        "import sys\n",
        "\n",
        "directory = \"/content/images\" \n",
        "user_data = directory + f\"/{dataset_name}\"\n",
        "valid_data = directory + f\"/{dataset_name}\"\n",
        "test_data = directory + \"/label_book\" # this can be the label book, or any other test set you create\n",
        "\n",
        "### DO NOT MODIFY BELOW THIS LINE, THIS IS THE FIXED MODEL ###\n",
        "batch_size = 8\n",
        "tf.random.set_seed(123)\n",
        "\n",
        "\n",
        "if __name__ == \"__main__\":\n",
        "    train = tf.keras.preprocessing.image_dataset_from_directory(\n",
        "        user_data + '/train',\n",
        "        labels=\"inferred\",\n",
        "        label_mode=\"categorical\",\n",
        "        class_names=[\"i\", \"ii\", \"iii\", \"iv\", \"v\", \"vi\", \"vii\", \"viii\", \"ix\", \"x\"],\n",
        "        shuffle=True,\n",
        "        seed=123,\n",
        "        batch_size=batch_size,\n",
        "        image_size=(32, 32),\n",
        "    )\n",
        "\n",
        "    valid = tf.keras.preprocessing.image_dataset_from_directory(\n",
        "        user_data + '/val',\n",
        "        labels=\"inferred\",\n",
        "        label_mode=\"categorical\",\n",
        "        class_names=[\"i\", \"ii\", \"iii\", \"iv\", \"v\", \"vi\", \"vii\", \"viii\", \"ix\", \"x\"],\n",
        "        shuffle=True,\n",
        "        seed=123,\n",
        "        batch_size=batch_size,\n",
        "        image_size=(32, 32),\n",
        "    )\n",
        "\n",
        "    total_length = ((train.cardinality() + valid.cardinality()) * batch_size).numpy()\n",
        "    if total_length > 10_000:\n",
        "        print(f\"Dataset size larger than 10,000. Got {total_length} examples\")\n",
        "        sys.exit()\n",
        "\n",
        "    test = tf.keras.preprocessing.image_dataset_from_directory(\n",
        "        test_data,\n",
        "        labels=\"inferred\",\n",
        "        label_mode=\"categorical\",\n",
        "        class_names=[\"i\", \"ii\", \"iii\", \"iv\", \"v\", \"vi\", \"vii\", \"viii\", \"ix\", \"x\"],\n",
        "        shuffle=False,\n",
        "        seed=123,\n",
        "        batch_size=batch_size,\n",
        "        image_size=(32, 32),\n",
        "    )\n",
        "\n",
        "    base_model = tf.keras.applications.ResNet50(\n",
        "        input_shape=(32, 32, 3),\n",
        "        include_top=False,\n",
        "        weights=None,\n",
        "    )\n",
        "    base_model = tf.keras.Model(\n",
        "        base_model.inputs, outputs=[base_model.get_layer(\"conv2_block3_out\").output]\n",
        "    )\n",
        "\n",
        "    inputs = tf.keras.Input(shape=(32, 32, 3))\n",
        "    x = tf.keras.applications.resnet.preprocess_input(inputs)\n",
        "    x = base_model(x)\n",
        "    x = tf.keras.layers.GlobalAveragePooling2D()(x)\n",
        "    x = tf.keras.layers.Dense(10)(x)\n",
        "    model = tf.keras.Model(inputs, x)\n",
        "\n",
        "    model.compile(\n",
        "        optimizer=tf.keras.optimizers.Adam(lr=0.0001),\n",
        "        loss=tf.keras.losses.CategoricalCrossentropy(from_logits=True),\n",
        "        metrics=[\"accuracy\"],\n",
        "    )\n",
        "    model.summary()\n",
        "    loss_0, acc_0 = model.evaluate(valid)\n",
        "    print(f\"loss {loss_0}, acc {acc_0}\")\n",
        "\n",
        "    checkpoint = tf.keras.callbacks.ModelCheckpoint(\n",
        "        \"best_model\",\n",
        "        monitor=\"val_accuracy\",\n",
        "        mode=\"max\",\n",
        "        save_best_only=True,\n",
        "        save_weights_only=True,\n",
        "    )\n",
        "\n",
        "    history = model.fit(\n",
        "        train,\n",
        "        validation_data=valid,\n",
        "        epochs=100,\n",
        "        callbacks=[checkpoint],\n",
        "    )\n",
        "\n",
        "    model.load_weights(\"best_model\")\n",
        "\n",
        "    loss, acc = model.evaluate(valid)\n",
        "    print(f\"final loss {loss}, final acc {acc}\")\n",
        "\n",
        "    test_loss, test_acc = model.evaluate(test)\n",
        "    print(f\"test loss {test_loss}, test acc {test_acc}\")"
      ],
      "execution_count": 4,
      "outputs": [
        {
          "output_type": "stream",
          "text": [
            "Found 6323 files belonging to 10 classes.\n",
            "Found 805 files belonging to 10 classes.\n",
            "Found 52 files belonging to 10 classes.\n"
          ],
          "name": "stdout"
        },
        {
          "output_type": "stream",
          "text": [
            "/usr/local/lib/python3.7/dist-packages/tensorflow/python/keras/optimizer_v2/optimizer_v2.py:375: UserWarning: The `lr` argument is deprecated, use `learning_rate` instead.\n",
            "  \"The `lr` argument is deprecated, use `learning_rate` instead.\")\n"
          ],
          "name": "stderr"
        },
        {
          "output_type": "stream",
          "text": [
            "Model: \"model_1\"\n",
            "_________________________________________________________________\n",
            "Layer (type)                 Output Shape              Param #   \n",
            "=================================================================\n",
            "input_2 (InputLayer)         [(None, 32, 32, 3)]       0         \n",
            "_________________________________________________________________\n",
            "tf.__operators__.getitem (Sl (None, 32, 32, 3)         0         \n",
            "_________________________________________________________________\n",
            "tf.nn.bias_add (TFOpLambda)  (None, 32, 32, 3)         0         \n",
            "_________________________________________________________________\n",
            "model (Functional)           (None, 8, 8, 256)         229760    \n",
            "_________________________________________________________________\n",
            "global_average_pooling2d (Gl (None, 256)               0         \n",
            "_________________________________________________________________\n",
            "dense (Dense)                (None, 10)                2570      \n",
            "=================================================================\n",
            "Total params: 232,330\n",
            "Trainable params: 229,386\n",
            "Non-trainable params: 2,944\n",
            "_________________________________________________________________\n",
            "101/101 [==============================] - 31s 8ms/step - loss: 33.4144 - accuracy: 0.0981\n",
            "loss 33.41436767578125, acc 0.09813664853572845\n",
            "Epoch 1/100\n",
            "791/791 [==============================] - 11s 11ms/step - loss: 1.5221 - accuracy: 0.4930 - val_loss: 1.2759 - val_accuracy: 0.5503\n",
            "Epoch 2/100\n",
            "791/791 [==============================] - 9s 12ms/step - loss: 0.9004 - accuracy: 0.7142 - val_loss: 1.0927 - val_accuracy: 0.6050\n",
            "Epoch 3/100\n",
            "791/791 [==============================] - 9s 11ms/step - loss: 0.6603 - accuracy: 0.7923 - val_loss: 0.5641 - val_accuracy: 0.8311\n",
            "Epoch 4/100\n",
            "791/791 [==============================] - 9s 11ms/step - loss: 0.5482 - accuracy: 0.8245 - val_loss: 0.6677 - val_accuracy: 0.7925\n",
            "Epoch 5/100\n",
            "791/791 [==============================] - 9s 11ms/step - loss: 0.4395 - accuracy: 0.8665 - val_loss: 0.6168 - val_accuracy: 0.7863\n",
            "Epoch 6/100\n",
            "791/791 [==============================] - 9s 11ms/step - loss: 0.3853 - accuracy: 0.8812 - val_loss: 0.4716 - val_accuracy: 0.8584\n",
            "Epoch 7/100\n",
            "791/791 [==============================] - 9s 11ms/step - loss: 0.3344 - accuracy: 0.8967 - val_loss: 0.4166 - val_accuracy: 0.8584\n",
            "Epoch 8/100\n",
            "791/791 [==============================] - 9s 11ms/step - loss: 0.2898 - accuracy: 0.9121 - val_loss: 0.4781 - val_accuracy: 0.8273\n",
            "Epoch 9/100\n",
            "791/791 [==============================] - 8s 11ms/step - loss: 0.2523 - accuracy: 0.9263 - val_loss: 0.6851 - val_accuracy: 0.7677\n",
            "Epoch 10/100\n",
            "791/791 [==============================] - 9s 11ms/step - loss: 0.2170 - accuracy: 0.9299 - val_loss: 0.3376 - val_accuracy: 0.8932\n",
            "Epoch 11/100\n",
            "791/791 [==============================] - 9s 11ms/step - loss: 0.1753 - accuracy: 0.9510 - val_loss: 0.3652 - val_accuracy: 0.8770\n",
            "Epoch 12/100\n",
            "791/791 [==============================] - 9s 11ms/step - loss: 0.1589 - accuracy: 0.9546 - val_loss: 0.4271 - val_accuracy: 0.8484\n",
            "Epoch 13/100\n",
            "791/791 [==============================] - 9s 11ms/step - loss: 0.1319 - accuracy: 0.9639 - val_loss: 0.4763 - val_accuracy: 0.8398\n",
            "Epoch 14/100\n",
            "791/791 [==============================] - 9s 11ms/step - loss: 0.1281 - accuracy: 0.9608 - val_loss: 0.4216 - val_accuracy: 0.8969\n",
            "Epoch 15/100\n",
            "791/791 [==============================] - 9s 11ms/step - loss: 0.1136 - accuracy: 0.9692 - val_loss: 0.2797 - val_accuracy: 0.9155\n",
            "Epoch 16/100\n",
            "791/791 [==============================] - 9s 11ms/step - loss: 0.0919 - accuracy: 0.9750 - val_loss: 0.4804 - val_accuracy: 0.8596\n",
            "Epoch 17/100\n",
            "791/791 [==============================] - 8s 11ms/step - loss: 0.0938 - accuracy: 0.9742 - val_loss: 0.4011 - val_accuracy: 0.8957\n",
            "Epoch 18/100\n",
            "791/791 [==============================] - 8s 11ms/step - loss: 0.0754 - accuracy: 0.9791 - val_loss: 0.4962 - val_accuracy: 0.8720\n",
            "Epoch 19/100\n",
            "791/791 [==============================] - 9s 11ms/step - loss: 0.0827 - accuracy: 0.9771 - val_loss: 0.4569 - val_accuracy: 0.8671\n",
            "Epoch 20/100\n",
            "791/791 [==============================] - 9s 12ms/step - loss: 0.0574 - accuracy: 0.9880 - val_loss: 0.7476 - val_accuracy: 0.8062\n",
            "Epoch 21/100\n",
            "791/791 [==============================] - 9s 12ms/step - loss: 0.0649 - accuracy: 0.9812 - val_loss: 0.8072 - val_accuracy: 0.8062\n",
            "Epoch 22/100\n",
            "791/791 [==============================] - 9s 11ms/step - loss: 0.0633 - accuracy: 0.9829 - val_loss: 0.3565 - val_accuracy: 0.9106\n",
            "Epoch 23/100\n",
            "791/791 [==============================] - 9s 11ms/step - loss: 0.0638 - accuracy: 0.9807 - val_loss: 0.5133 - val_accuracy: 0.8634\n",
            "Epoch 24/100\n",
            "791/791 [==============================] - 9s 11ms/step - loss: 0.0480 - accuracy: 0.9878 - val_loss: 0.3912 - val_accuracy: 0.9193\n",
            "Epoch 25/100\n",
            "791/791 [==============================] - 8s 11ms/step - loss: 0.0584 - accuracy: 0.9820 - val_loss: 0.3682 - val_accuracy: 0.9106\n",
            "Epoch 26/100\n",
            "791/791 [==============================] - 9s 11ms/step - loss: 0.0396 - accuracy: 0.9916 - val_loss: 0.2750 - val_accuracy: 0.9366\n",
            "Epoch 27/100\n",
            "791/791 [==============================] - 9s 11ms/step - loss: 0.0473 - accuracy: 0.9866 - val_loss: 0.3448 - val_accuracy: 0.9168\n",
            "Epoch 28/100\n",
            "791/791 [==============================] - 9s 11ms/step - loss: 0.0333 - accuracy: 0.9934 - val_loss: 0.3668 - val_accuracy: 0.9255\n",
            "Epoch 29/100\n",
            "791/791 [==============================] - 9s 11ms/step - loss: 0.0611 - accuracy: 0.9807 - val_loss: 0.7113 - val_accuracy: 0.8571\n",
            "Epoch 30/100\n",
            "791/791 [==============================] - 8s 11ms/step - loss: 0.0377 - accuracy: 0.9894 - val_loss: 0.1862 - val_accuracy: 0.9491\n",
            "Epoch 31/100\n",
            "791/791 [==============================] - 9s 11ms/step - loss: 0.0381 - accuracy: 0.9892 - val_loss: 0.3023 - val_accuracy: 0.9180\n",
            "Epoch 32/100\n",
            "791/791 [==============================] - 9s 11ms/step - loss: 0.0364 - accuracy: 0.9894 - val_loss: 0.2571 - val_accuracy: 0.9404\n",
            "Epoch 33/100\n",
            "791/791 [==============================] - 9s 12ms/step - loss: 0.0406 - accuracy: 0.9891 - val_loss: 0.2345 - val_accuracy: 0.9466\n",
            "Epoch 34/100\n",
            "791/791 [==============================] - 9s 11ms/step - loss: 0.0392 - accuracy: 0.9891 - val_loss: 0.7689 - val_accuracy: 0.8571\n",
            "Epoch 35/100\n",
            "791/791 [==============================] - 9s 11ms/step - loss: 0.0264 - accuracy: 0.9930 - val_loss: 0.4080 - val_accuracy: 0.8994\n",
            "Epoch 36/100\n",
            "791/791 [==============================] - 9s 11ms/step - loss: 0.0451 - accuracy: 0.9859 - val_loss: 0.3184 - val_accuracy: 0.9068\n",
            "Epoch 37/100\n",
            "791/791 [==============================] - 9s 11ms/step - loss: 0.0256 - accuracy: 0.9926 - val_loss: 0.4527 - val_accuracy: 0.9019\n",
            "Epoch 38/100\n",
            "791/791 [==============================] - 9s 11ms/step - loss: 0.0211 - accuracy: 0.9951 - val_loss: 0.5493 - val_accuracy: 0.8807\n",
            "Epoch 39/100\n",
            "791/791 [==============================] - 9s 11ms/step - loss: 0.0292 - accuracy: 0.9923 - val_loss: 0.3841 - val_accuracy: 0.9180\n",
            "Epoch 40/100\n",
            "791/791 [==============================] - 9s 12ms/step - loss: 0.0349 - accuracy: 0.9897 - val_loss: 0.3702 - val_accuracy: 0.8969\n",
            "Epoch 41/100\n",
            "791/791 [==============================] - 9s 12ms/step - loss: 0.0324 - accuracy: 0.9904 - val_loss: 0.2942 - val_accuracy: 0.9304\n",
            "Epoch 42/100\n",
            "791/791 [==============================] - 9s 12ms/step - loss: 0.0330 - accuracy: 0.9908 - val_loss: 0.3873 - val_accuracy: 0.9168\n",
            "Epoch 43/100\n",
            "791/791 [==============================] - 9s 12ms/step - loss: 0.0255 - accuracy: 0.9930 - val_loss: 0.2991 - val_accuracy: 0.9317\n",
            "Epoch 44/100\n",
            "791/791 [==============================] - 10s 12ms/step - loss: 0.0257 - accuracy: 0.9919 - val_loss: 0.3372 - val_accuracy: 0.9292\n",
            "Epoch 45/100\n",
            "791/791 [==============================] - 10s 13ms/step - loss: 0.0291 - accuracy: 0.9913 - val_loss: 0.3307 - val_accuracy: 0.9217\n",
            "Epoch 46/100\n",
            "791/791 [==============================] - 9s 11ms/step - loss: 0.0297 - accuracy: 0.9918 - val_loss: 0.2646 - val_accuracy: 0.9391\n",
            "Epoch 47/100\n",
            "791/791 [==============================] - 9s 11ms/step - loss: 0.0215 - accuracy: 0.9937 - val_loss: 0.2384 - val_accuracy: 0.9441\n",
            "Epoch 48/100\n",
            "791/791 [==============================] - 9s 11ms/step - loss: 0.0201 - accuracy: 0.9946 - val_loss: 0.2600 - val_accuracy: 0.9478\n",
            "Epoch 49/100\n",
            "791/791 [==============================] - 9s 11ms/step - loss: 0.0203 - accuracy: 0.9949 - val_loss: 0.2986 - val_accuracy: 0.9404\n",
            "Epoch 50/100\n",
            "791/791 [==============================] - 9s 12ms/step - loss: 0.0240 - accuracy: 0.9937 - val_loss: 0.1858 - val_accuracy: 0.9553\n",
            "Epoch 51/100\n",
            "791/791 [==============================] - 9s 12ms/step - loss: 0.0218 - accuracy: 0.9930 - val_loss: 0.2400 - val_accuracy: 0.9429\n",
            "Epoch 52/100\n",
            "791/791 [==============================] - 9s 12ms/step - loss: 0.0181 - accuracy: 0.9946 - val_loss: 0.3619 - val_accuracy: 0.9255\n",
            "Epoch 53/100\n",
            "791/791 [==============================] - 9s 11ms/step - loss: 0.0208 - accuracy: 0.9951 - val_loss: 0.2797 - val_accuracy: 0.9441\n",
            "Epoch 54/100\n",
            "791/791 [==============================] - 9s 11ms/step - loss: 0.0234 - accuracy: 0.9935 - val_loss: 0.2662 - val_accuracy: 0.9354\n",
            "Epoch 55/100\n",
            "791/791 [==============================] - 9s 11ms/step - loss: 0.0213 - accuracy: 0.9932 - val_loss: 0.2337 - val_accuracy: 0.9503\n",
            "Epoch 56/100\n",
            "791/791 [==============================] - 9s 11ms/step - loss: 0.0184 - accuracy: 0.9946 - val_loss: 0.8466 - val_accuracy: 0.8460\n",
            "Epoch 57/100\n",
            "791/791 [==============================] - 9s 12ms/step - loss: 0.0281 - accuracy: 0.9900 - val_loss: 0.2488 - val_accuracy: 0.9429\n",
            "Epoch 58/100\n",
            "791/791 [==============================] - 9s 12ms/step - loss: 0.0166 - accuracy: 0.9949 - val_loss: 0.3675 - val_accuracy: 0.9056\n",
            "Epoch 59/100\n",
            "791/791 [==============================] - 9s 11ms/step - loss: 0.0192 - accuracy: 0.9948 - val_loss: 0.3795 - val_accuracy: 0.9006\n",
            "Epoch 60/100\n",
            "791/791 [==============================] - 9s 11ms/step - loss: 0.0136 - accuracy: 0.9973 - val_loss: 0.2654 - val_accuracy: 0.9453\n",
            "Epoch 61/100\n",
            "791/791 [==============================] - 9s 11ms/step - loss: 0.0267 - accuracy: 0.9918 - val_loss: 0.4510 - val_accuracy: 0.9155\n",
            "Epoch 62/100\n",
            "791/791 [==============================] - 9s 11ms/step - loss: 0.0249 - accuracy: 0.9926 - val_loss: 0.3240 - val_accuracy: 0.9267\n",
            "Epoch 63/100\n",
            "791/791 [==============================] - 9s 11ms/step - loss: 0.0131 - accuracy: 0.9967 - val_loss: 0.3011 - val_accuracy: 0.9391\n",
            "Epoch 64/100\n",
            "791/791 [==============================] - 9s 11ms/step - loss: 0.0227 - accuracy: 0.9929 - val_loss: 0.5149 - val_accuracy: 0.8944\n",
            "Epoch 65/100\n",
            "791/791 [==============================] - 9s 11ms/step - loss: 0.0129 - accuracy: 0.9967 - val_loss: 0.2839 - val_accuracy: 0.9391\n",
            "Epoch 66/100\n",
            "791/791 [==============================] - 9s 11ms/step - loss: 0.0226 - accuracy: 0.9926 - val_loss: 0.3297 - val_accuracy: 0.9230\n",
            "Epoch 67/100\n",
            "791/791 [==============================] - 9s 11ms/step - loss: 0.0080 - accuracy: 0.9983 - val_loss: 0.2042 - val_accuracy: 0.9553\n",
            "Epoch 68/100\n",
            "791/791 [==============================] - 9s 11ms/step - loss: 0.0240 - accuracy: 0.9929 - val_loss: 0.2811 - val_accuracy: 0.9441\n",
            "Epoch 69/100\n",
            "791/791 [==============================] - 8s 11ms/step - loss: 0.0168 - accuracy: 0.9953 - val_loss: 0.3087 - val_accuracy: 0.9292\n",
            "Epoch 70/100\n",
            "791/791 [==============================] - 8s 11ms/step - loss: 0.0094 - accuracy: 0.9978 - val_loss: 0.2972 - val_accuracy: 0.9280\n",
            "Epoch 71/100\n",
            "791/791 [==============================] - 9s 11ms/step - loss: 0.0265 - accuracy: 0.9923 - val_loss: 0.3711 - val_accuracy: 0.9168\n",
            "Epoch 72/100\n",
            "791/791 [==============================] - 9s 11ms/step - loss: 0.0100 - accuracy: 0.9976 - val_loss: 0.2935 - val_accuracy: 0.9416\n",
            "Epoch 73/100\n",
            "791/791 [==============================] - 9s 11ms/step - loss: 0.0098 - accuracy: 0.9976 - val_loss: 0.8028 - val_accuracy: 0.8658\n",
            "Epoch 74/100\n",
            "791/791 [==============================] - 9s 11ms/step - loss: 0.0197 - accuracy: 0.9935 - val_loss: 0.4557 - val_accuracy: 0.9217\n",
            "Epoch 75/100\n",
            "791/791 [==============================] - 9s 11ms/step - loss: 0.0131 - accuracy: 0.9962 - val_loss: 0.2495 - val_accuracy: 0.9491\n",
            "Epoch 76/100\n",
            "791/791 [==============================] - 9s 11ms/step - loss: 0.0214 - accuracy: 0.9941 - val_loss: 0.3304 - val_accuracy: 0.9379\n",
            "Epoch 77/100\n",
            "791/791 [==============================] - 9s 11ms/step - loss: 0.0139 - accuracy: 0.9954 - val_loss: 0.3254 - val_accuracy: 0.9391\n",
            "Epoch 78/100\n",
            "791/791 [==============================] - 8s 11ms/step - loss: 0.0046 - accuracy: 0.9994 - val_loss: 0.2694 - val_accuracy: 0.9404\n",
            "Epoch 79/100\n",
            "791/791 [==============================] - 8s 11ms/step - loss: 0.0188 - accuracy: 0.9946 - val_loss: 0.2761 - val_accuracy: 0.9354\n",
            "Epoch 80/100\n",
            "791/791 [==============================] - 8s 11ms/step - loss: 0.0121 - accuracy: 0.9964 - val_loss: 0.3508 - val_accuracy: 0.9304\n",
            "Epoch 81/100\n",
            "791/791 [==============================] - 9s 11ms/step - loss: 0.0120 - accuracy: 0.9965 - val_loss: 0.4664 - val_accuracy: 0.8957\n",
            "Epoch 82/100\n",
            "791/791 [==============================] - 10s 12ms/step - loss: 0.0209 - accuracy: 0.9934 - val_loss: 0.2542 - val_accuracy: 0.9441\n",
            "Epoch 83/100\n",
            "791/791 [==============================] - 9s 11ms/step - loss: 0.0119 - accuracy: 0.9968 - val_loss: 0.2782 - val_accuracy: 0.9441\n",
            "Epoch 84/100\n",
            "791/791 [==============================] - 9s 11ms/step - loss: 0.0093 - accuracy: 0.9972 - val_loss: 0.3355 - val_accuracy: 0.9280\n",
            "Epoch 85/100\n",
            "791/791 [==============================] - 8s 11ms/step - loss: 0.0185 - accuracy: 0.9957 - val_loss: 0.3035 - val_accuracy: 0.9342\n",
            "Epoch 86/100\n",
            "791/791 [==============================] - 9s 11ms/step - loss: 0.0131 - accuracy: 0.9960 - val_loss: 0.2266 - val_accuracy: 0.9528\n",
            "Epoch 87/100\n",
            "791/791 [==============================] - 8s 11ms/step - loss: 0.0148 - accuracy: 0.9953 - val_loss: 0.2266 - val_accuracy: 0.9565\n",
            "Epoch 88/100\n",
            "791/791 [==============================] - 9s 11ms/step - loss: 0.0164 - accuracy: 0.9946 - val_loss: 0.3147 - val_accuracy: 0.9354\n",
            "Epoch 89/100\n",
            "791/791 [==============================] - 9s 11ms/step - loss: 0.0189 - accuracy: 0.9940 - val_loss: 0.4653 - val_accuracy: 0.9155\n",
            "Epoch 90/100\n",
            "791/791 [==============================] - 9s 11ms/step - loss: 0.0081 - accuracy: 0.9976 - val_loss: 0.3404 - val_accuracy: 0.9366\n",
            "Epoch 91/100\n",
            "791/791 [==============================] - 9s 11ms/step - loss: 0.0099 - accuracy: 0.9979 - val_loss: 0.2717 - val_accuracy: 0.9466\n",
            "Epoch 92/100\n",
            "791/791 [==============================] - 8s 11ms/step - loss: 0.0075 - accuracy: 0.9981 - val_loss: 0.3166 - val_accuracy: 0.9342\n",
            "Epoch 93/100\n",
            "791/791 [==============================] - 8s 11ms/step - loss: 0.0162 - accuracy: 0.9946 - val_loss: 0.4713 - val_accuracy: 0.9193\n",
            "Epoch 94/100\n",
            "791/791 [==============================] - 8s 11ms/step - loss: 0.0130 - accuracy: 0.9965 - val_loss: 0.2961 - val_accuracy: 0.9391\n",
            "Epoch 95/100\n",
            "791/791 [==============================] - 9s 11ms/step - loss: 0.0143 - accuracy: 0.9962 - val_loss: 0.3248 - val_accuracy: 0.9404\n",
            "Epoch 96/100\n",
            "791/791 [==============================] - 9s 11ms/step - loss: 0.0140 - accuracy: 0.9954 - val_loss: 0.7279 - val_accuracy: 0.8534\n",
            "Epoch 97/100\n",
            "791/791 [==============================] - 9s 11ms/step - loss: 0.0104 - accuracy: 0.9968 - val_loss: 0.2823 - val_accuracy: 0.9503\n",
            "Epoch 98/100\n",
            "791/791 [==============================] - 9s 11ms/step - loss: 0.0084 - accuracy: 0.9978 - val_loss: 0.4542 - val_accuracy: 0.9130\n",
            "Epoch 99/100\n",
            "791/791 [==============================] - 9s 11ms/step - loss: 0.0139 - accuracy: 0.9960 - val_loss: 0.3720 - val_accuracy: 0.9304\n",
            "Epoch 100/100\n",
            "791/791 [==============================] - 8s 11ms/step - loss: 0.0116 - accuracy: 0.9965 - val_loss: 0.2680 - val_accuracy: 0.9540\n",
            "101/101 [==============================] - 1s 7ms/step - loss: 0.2266 - accuracy: 0.9565\n",
            "final loss 0.22658145427703857, final acc 0.95652174949646\n",
            "7/7 [==============================] - 0s 18ms/step - loss: 1.0441 - accuracy: 0.7885\n",
            "test loss 1.0440911054611206, test acc 0.7884615659713745\n"
          ],
          "name": "stdout"
        }
      ]
    },
    {
      "cell_type": "code",
      "metadata": {
        "id": "ERPUp5I035tq"
      },
      "source": [
        "import cv2\n",
        "import numpy as np\n",
        "import math\n",
        "from scipy import ndimage\n",
        "import os\n",
        "import shutil\n",
        "from pathlib import Path\n",
        "import tarfile\n",
        "\n",
        "def getBestShift(img):\n",
        "    cy,cx = ndimage.measurements.center_of_mass(img)\n",
        "\n",
        "    rows,cols = img.shape\n",
        "    shiftx = np.round(cols/2.0-cx).astype(int)\n",
        "    shifty = np.round(rows/2.0-cy).astype(int)\n",
        "\n",
        "    return shiftx,shifty\n",
        "\n",
        "\n",
        "def shift(img,sx,sy):\n",
        "    rows,cols = img.shape\n",
        "    M = np.float32([[1,0,sx],[0,1,sy]])\n",
        "    shifted = cv2.warpAffine(img,M,(cols,rows))\n",
        "    return shifted\n",
        "\n",
        "def ignore_files(dir, files):\n",
        "    return [f for f in files if os.path.isfile(os.path.join(dir, f))]\n",
        "\n",
        "def tardir(path, tar_name):\n",
        "    with tarfile.open(tar_name, \"w:gz\") as tar_handle:\n",
        "        for root, dirs, files in os.walk(path):\n",
        "            for file in files:\n",
        "                tar_handle.add(os.path.join(root, file))"
      ],
      "execution_count": null,
      "outputs": []
    },
    {
      "cell_type": "code",
      "metadata": {
        "id": "gEfFWC0H4EcO"
      },
      "source": [
        "def preprocessor(data, new_data, zip_data = False):\n",
        "    old_path = os.path.join(os.getcwd(), data)\n",
        "    new_path = os.path.join(os.getcwd(), new_data)\n",
        "    \n",
        "    try:\n",
        "        shutil.copytree(old_path, new_path, ignore=ignore_files)\n",
        "    except FileExistsError:\n",
        "        pass\n",
        "\n",
        "    tmp1a = os.path.join(old_path, os.listdir(old_path)[0])\n",
        "    tmp1b = os.path.join(old_path, os.listdir(old_path)[1])\n",
        "    tmp2a = os.listdir(tmp1a)\n",
        "    tmp2b = os.listdir(tmp1b)\n",
        "    \n",
        "    if len(tmp2a) == len(tmp2b):\n",
        "        tmp3a = [os.path.join(tmp1a, i) for i in tmp2a]\n",
        "        tmp3b = [os.path.join(tmp1b, i) for i in tmp2b]\n",
        "    else:\n",
        "        print('Error!!!!........Length mismatch')\n",
        "        \n",
        "    train_file_paths, val_file_paths = [], []\n",
        "    \n",
        "    for i in tmp3a:\n",
        "        train_file_paths.extend([str(file.parent/file.name) for file in Path(i).glob('*.png')])\n",
        "        \n",
        "    for i in tmp3b:\n",
        "        val_file_paths.extend([str(file.parent/file.name) for file in Path(i).glob('*.png')])\n",
        "        \n",
        "    file_paths = train_file_paths+val_file_paths\n",
        "\n",
        "    for img_path in file_paths:\n",
        "        # read the image\n",
        "        gray = cv2.imread(img_path, 0)\n",
        "\n",
        "        pixel_dim = (32, 32) #(28, 28)\n",
        "        bounding_box_dim = (24, 24) #(20, 20)\n",
        "\n",
        "        # rescale it\n",
        "        gray = cv2.resize(255-gray, pixel_dim)\n",
        "        # better black and white version\n",
        "        (thresh, gray) = cv2.threshold(gray, 128, 255, cv2.THRESH_BINARY | cv2.THRESH_OTSU)\n",
        "\n",
        "        while np.sum(gray[0]) == 0:\n",
        "            gray = gray[1:]\n",
        "\n",
        "        while np.sum(gray[:,0]) == 0:\n",
        "            gray = np.delete(gray,0,1)\n",
        "\n",
        "        while np.sum(gray[-1]) == 0:\n",
        "            gray = gray[:-1]\n",
        "\n",
        "        while np.sum(gray[:,-1]) == 0:\n",
        "            gray = np.delete(gray,-1,1)\n",
        "\n",
        "        rows,cols = gray.shape\n",
        "\n",
        "        if rows > cols:\n",
        "            factor = bounding_box_dim[0]/rows\n",
        "            rows = bounding_box_dim[0]\n",
        "            cols = int(round(cols*factor))\n",
        "            # first cols than rows\n",
        "            gray = cv2.resize(gray, (cols,rows))\n",
        "        else:\n",
        "            factor = bounding_box_dim[1]/cols\n",
        "            cols = bounding_box_dim[0]\n",
        "            rows = int(round(rows*factor))\n",
        "            # first cols than rows\n",
        "            gray = cv2.resize(gray, (cols, rows))\n",
        "\n",
        "        colsPadding = (int(math.ceil((pixel_dim[0]-cols)/2.0)),int(math.floor((pixel_dim[0]-cols)/2.0)))\n",
        "        rowsPadding = (int(math.ceil((pixel_dim[1]-rows)/2.0)),int(math.floor((pixel_dim[1]-rows)/2.0)))\n",
        "        gray = np.lib.pad(gray,(rowsPadding,colsPadding),'constant')\n",
        "\n",
        "        shiftx,shifty = getBestShift(gray)\n",
        "        shifted = shift(gray,shiftx,shifty)\n",
        "        gray = shifted\n",
        "\n",
        "        # save the processed images\n",
        "        cv2.imwrite(img_path.replace(data, new_data), gray)\n",
        "        \n",
        "        if zip_data:\n",
        "            tardir(new_path, f'{new_data}.tar.gz')\n",
        "            \n",
        "#         shutil.rmtree(new_path)\n"
      ],
      "execution_count": null,
      "outputs": []
    },
    {
      "cell_type": "code",
      "metadata": {
        "id": "oEn4jw8l4Pi-"
      },
      "source": [
        "# os.chdir(r\"C:\\Users\\Samuel\\Desktop\")\n",
        "# preprocessor(data='data_v2', new_data='data_v3', zip_data=True)"
      ],
      "execution_count": null,
      "outputs": []
    },
    {
      "cell_type": "code",
      "metadata": {
        "id": "IF61LHAphGkn"
      },
      "source": [
        "def labels_gen(train):\n",
        "    imgs = train.file_paths\n",
        "    classes = train.class_names\n",
        "    tmp = {i:idx+1 for idx,i in enumerate(classes)}\n",
        "    y_train_labels = [i.split('/')[-2] for i in imgs]\n",
        "    y_train = [tmp.get(i) for i in y_train_labels]\n",
        "\n",
        "    return imgs, classes, y_train_labels, y_train"
      ],
      "execution_count": 7,
      "outputs": []
    },
    {
      "cell_type": "code",
      "metadata": {
        "id": "UJSix8c5yE4z"
      },
      "source": [
        "import pandas as pd\n",
        "import cv2\n",
        "import matplotlib.pyplot as plt\n",
        "\n",
        "def inspect_predictions(valid, rows=2, cols=3, figsize=(10,10)):\n",
        "    imgs, classes, y_test_labels, y_test = labels_gen(valid)\n",
        "    y_pred = [np.argmax(i)+1 for i in model.predict(valid)]\n",
        "    y_pred_labels = [classes[i-1] for i in y_pred]\n",
        "\n",
        "    predictions = pd.DataFrame({'Actual':y_test, 'Predicted':y_pred})\n",
        "    \n",
        "    n = 0\n",
        "    nrows = rows\n",
        "    ncols = cols\n",
        "    fig, ax = plt.subplots(nrows,ncols,sharex=True,sharey=True, figsize=figsize, constrained_layout = True)\n",
        " \n",
        "    for row in range(nrows):\n",
        "        for col in range(ncols):\n",
        "            ax[row,col].set_title(f\"Predicted label: {y_pred_labels[n]}\\nTrue label: {y_test_labels[n]}\")\n",
        "            ax[row,col].imshow((cv2.imread(imgs[n])))\n",
        "            n += 1\n",
        "\n",
        "    return predictions"
      ],
      "execution_count": 5,
      "outputs": []
    },
    {
      "cell_type": "code",
      "metadata": {
        "colab": {
          "base_uri": "https://localhost:8080/",
          "height": 529
        },
        "id": "hj35yvNE1iLs",
        "outputId": "ac6489e7-9698-40bb-fe7c-6a74165cac18"
      },
      "source": [
        "predictions = inspect_predictions(valid, rows=3, cols=7, figsize=(15,7))"
      ],
      "execution_count": 28,
      "outputs": [
        {
          "output_type": "display_data",
          "data": {
            "image/png": "[encoded data removed]",
            "text/plain": [
              "<Figure size 1080x504 with 21 Axes>"
            ]
          },
          "metadata": {
            "tags": [],
            "needs_background": "light"
          }
        }
      ]
    },
    {
      "cell_type": "markdown",
      "metadata": {
        "id": "3MVs6ie0laBl"
      },
      "source": [
        "# Class distribution of train set"
      ]
    },
    {
      "cell_type": "code",
      "metadata": {
        "id": "oyf6mtuGjemT",
        "colab": {
          "base_uri": "https://localhost:8080/"
        },
        "outputId": "b0e6bf8d-8bda-451f-92ad-a398a20e94bd"
      },
      "source": [
        "from collections import Counter\n",
        "\n",
        "_, _, _, y_train = labels_gen(train)\n",
        "train_total_sample_per_label = dict(Counter(y_train))\n",
        "train_total_sample_per_label"
      ],
      "execution_count": 9,
      "outputs": [
        {
          "output_type": "execute_result",
          "data": {
            "text/plain": [
              "{1: 975,\n",
              " 2: 695,\n",
              " 3: 665,\n",
              " 4: 583,\n",
              " 5: 537,\n",
              " 6: 584,\n",
              " 7: 483,\n",
              " 8: 493,\n",
              " 9: 554,\n",
              " 10: 754}"
            ]
          },
          "metadata": {
            "tags": []
          },
          "execution_count": 9
        }
      ]
    },
    {
      "cell_type": "markdown",
      "metadata": {
        "id": "kC1QNzxYlhB8"
      },
      "source": [
        "# Class distribution of validation set"
      ]
    },
    {
      "cell_type": "code",
      "metadata": {
        "id": "Oy5al4XxasHN",
        "colab": {
          "base_uri": "https://localhost:8080/"
        },
        "outputId": "8246fa0f-45d5-4cf8-98da-4153d8159a41"
      },
      "source": [
        "from pprint import pprint\n",
        "\n",
        "valid_total_sample_per_label = predictions.Actual.value_counts().to_dict()\n",
        "pprint(valid_total_sample_per_label, width=10)"
      ],
      "execution_count": 10,
      "outputs": [
        {
          "output_type": "stream",
          "text": [
            "{1: 81,\n",
            " 2: 82,\n",
            " 3: 78,\n",
            " 4: 82,\n",
            " 5: 83,\n",
            " 6: 82,\n",
            " 7: 75,\n",
            " 8: 83,\n",
            " 9: 79,\n",
            " 10: 80}\n"
          ],
          "name": "stdout"
        }
      ]
    },
    {
      "cell_type": "markdown",
      "metadata": {
        "id": "BvkG4B_Jlsr8"
      },
      "source": [
        "# Results: For each class in the validation set, what percentage was correctly identified by the model?"
      ]
    },
    {
      "cell_type": "code",
      "metadata": {
        "id": "A-EE1va5_vHj"
      },
      "source": [
        "def success_rater(data, model):\n",
        "    _, _, _, y_test = labels_gen(data)\n",
        "    y_pred = [np.argmax(i)+1 for i in model.predict(data)]\n",
        "\n",
        "    valid_predictions = pd.DataFrame({'Actual':y_test, 'Predicted':y_pred})\n",
        "\n",
        "    valid_total_sample_per_label = valid_predictions.Actual.value_counts().to_dict()\n",
        "\n",
        "    res = {}\n",
        "\n",
        "    for i in range(1, 11):\n",
        "        tmp = valid_predictions[valid_predictions.Actual==i].Predicted.value_counts().to_dict()\n",
        "        res[i] = f'{int((tmp.get(i)/valid_total_sample_per_label.get(i))*100)}% success rate'\n",
        "\n",
        "    return res, valid_predictions"
      ],
      "execution_count": 37,
      "outputs": []
    },
    {
      "cell_type": "code",
      "metadata": {
        "colab": {
          "base_uri": "https://localhost:8080/"
        },
        "id": "IkIIICzhC4rQ",
        "outputId": "c0402930-8d91-4e00-90eb-f7d4381b462c"
      },
      "source": [
        "success_rates, predictions = success_rater(valid, model)\n",
        "success_rates"
      ],
      "execution_count": 39,
      "outputs": [
        {
          "output_type": "execute_result",
          "data": {
            "text/plain": [
              "{1: '12% success rate',\n",
              " 2: '14% success rate',\n",
              " 3: '15% success rate',\n",
              " 4: '7% success rate',\n",
              " 5: '12% success rate',\n",
              " 6: '14% success rate',\n",
              " 7: '16% success rate',\n",
              " 8: '7% success rate',\n",
              " 9: '10% success rate',\n",
              " 10: '10% success rate'}"
            ]
          },
          "metadata": {
            "tags": []
          },
          "execution_count": 39
        }
      ]
    },
    {
      "cell_type": "code",
      "metadata": {
        "id": "eR0eSEV42s_f"
      },
      "source": [
        "# predictions[predictions.Actual==1]"
      ],
      "execution_count": null,
      "outputs": []
    },
    {
      "cell_type": "code",
      "metadata": {
        "id": "oocYTv9NAfjn"
      },
      "source": [
        ""
      ],
      "execution_count": null,
      "outputs": []
    }
  ]
}
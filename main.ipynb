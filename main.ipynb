{
  "nbformat": 4,
  "nbformat_minor": 0,
  "metadata": {
    "colab": {
      "name": "Untitled4.ipynb",
      "provenance": [],
      "authorship_tag": "ABX9TyMOzzWkUGpCjyrJxCmaxo5p",
      "include_colab_link": true
    },
    "kernelspec": {
      "name": "python3",
      "display_name": "Python 3"
    },
    "language_info": {
      "name": "python"
    },
    "accelerator": "GPU"
  },
  "cells": [
    {
      "cell_type": "markdown",
      "metadata": {
        "id": "view-in-github",
        "colab_type": "text"
      },
      "source": [
        "<a href=\"https://colab.research.google.com/github/KutuDev/DataCentricAIComp/blob/main/main.ipynb\" target=\"_parent\"><img src=\"https://colab.research.google.com/assets/colab-badge.svg\" alt=\"Open In Colab\"/></a>"
      ]
    },
    {
      "cell_type": "markdown",
      "metadata": {
        "id": "bHpFLzYN4MnD"
      },
      "source": [
        "[Announcement worksheet](https://worksheets.codalab.org/worksheets/0x7a8721f11e61436e93ac8f76da83f0e6)"
      ]
    },
    {
      "cell_type": "markdown",
      "metadata": {
        "id": "P1MosTohoMOU"
      },
      "source": [
        "[Data inspection discoveries](https://drive.google.com/file/d/162_c0DDd9UdTN206I9Q7A6TmJg3Fay96/view?usp=sharing)"
      ]
    },
    {
      "cell_type": "markdown",
      "metadata": {
        "id": "QiZhb6Le4i6Z"
      },
      "source": [
        "**To-Dos**\n",
        "\n",
        "**Aim:** 0.95+ accuracy \n",
        "\n",
        "✅Train the resnet baseline model on their 3k plus data towards obtaining the 0.65 accuracy score. This might require include using their 32 by 32 pixel script for image resizing, deleting corrupted files, and fixing labels.\n",
        "\n",
        "✅Inspect the 3k+ images for bad labels, bad image, etc. Fix all anomalies found. \n",
        "\n",
        "✅Download and read papers that uses the Roman MNIST dataset. We can get links to the dataset and other useful information.  \n",
        "\n",
        "\n",
        "✅Inspect the image classes distribution and take necessary actions. It's important that the dataset isn't skewed. \n",
        "\n",
        "✅Use fastai's image data augmentation functions \n",
        "\n",
        "✅Gather more Roman MNIST data in an increase rate of not more than 10x of the 3k data size. This data gathering can be done using any means available, web scraping inclusive.\n",
        "\n",
        "**N.B:** At the end of each steps above, we retrain the baseline model on the dataset in order to observe the effect on the model accuracy score."
      ]
    },
    {
      "cell_type": "markdown",
      "metadata": {
        "id": "xj3RYY0Rqxqu"
      },
      "source": [
        "# Notes\n",
        "\n",
        "* RENAME EACH FILES. Add an auto-increment serial number at the start of each names. This would aid easy lookup of images. Doing this will require creating a doc that contains the previous and new name.\n",
        "* the noise on some images can be erased using photo editing tools. This tool can also be used for data augmentation such as crop, resize.\n",
        "* the images labelled as 'trash' in [Data inspection discoveries](https://drive.google.com/file/d/162_c0DDd9UdTN206I9Q7A6TmJg3Fay96/view?usp=sharing) should be moved to a new folder having a new class named 'unrecognized'\n",
        "\n",
        "* in the I folder, there are images that look like small figure 1\n",
        "* some images needs to be cropped\n",
        "* some images have 1/2 vertical noisy lines\n",
        "* in the II folder, some images written with marker are so small, hence, they appear like roman numeral I.\n",
        "* in the II folder, some images have a bottom vertical noisy line\n",
        "* images' stroke are either thick or thin\n",
        "* some images are small lettered roman numeral \n",
        "* some images are capital lettered roman numeral\n",
        "* some images are capita+bars lettered roman numeral\n",
        "* some images are dashes\n",
        "* images are black on white background"
      ]
    },
    {
      "cell_type": "code",
      "metadata": {
        "colab": {
          "base_uri": "https://localhost:8080/"
        },
        "id": "mBavItuW3fTg",
        "outputId": "fc4fe2d0-c57e-4380-a879-238e989fe8b6"
      },
      "source": [
        "!git clone https://github.com/KutuDev/DataCentricAIComp"
      ],
      "execution_count": null,
      "outputs": [
        {
          "output_type": "stream",
          "text": [
            "Cloning into 'DataCentricAIComp'...\n",
            "remote: Enumerating objects: 15, done.\u001b[K\n",
            "remote: Counting objects: 100% (15/15), done.\u001b[K\n",
            "remote: Compressing objects: 100% (14/14), done.\u001b[K\n",
            "remote: Total 15 (delta 2), reused 0 (delta 0), pack-reused 0\u001b[K\n",
            "Unpacking objects: 100% (15/15), done.\n"
          ],
          "name": "stdout"
        }
      ]
    },
    {
      "cell_type": "code",
      "metadata": {
        "id": "TNs1zvkp3qbv"
      },
      "source": [
        "def unzipper(in_folderPath, out_folderPath):\n",
        "    import tarfile\n",
        "\n",
        "    file = tarfile.open(in_folderPath)\n",
        "    file.extractall(out_folderPath)\n",
        "    file.close()\n"
      ],
      "execution_count": null,
      "outputs": []
    },
    {
      "cell_type": "code",
      "metadata": {
        "id": "UQm38TFf5A0o"
      },
      "source": [
        "unzipper(in_folderPath='/content/DataCentricAIComp/data.tar.gz', out_folderPath='./images')\n",
        "unzipper(in_folderPath='/content/DataCentricAIComp/label_book.tar.gz', out_folderPath='./images')"
      ],
      "execution_count": null,
      "outputs": []
    },
    {
      "cell_type": "code",
      "metadata": {
        "id": "lTnruT3c7UQk"
      },
      "source": [
        "# !pip install pysimplegui"
      ],
      "execution_count": null,
      "outputs": []
    },
    {
      "cell_type": "code",
      "metadata": {
        "id": "Ml8h2fNe93my"
      },
      "source": [
        "# !apt-get install -y xvfb # Install X Virtual Frame Buffer\n",
        "# import os\n",
        "# os.system('Xvfb :1 -screen 0 1600x1200x16  &')    # create virtual display with size 1600x1200 and 16 bit color. Color can be changed to 24 or 8\n",
        "# os.environ['DISPLAY']=':1.0'    # tell X clients to use our virtual DISPLAY :1.0"
      ],
      "execution_count": null,
      "outputs": []
    },
    {
      "cell_type": "code",
      "metadata": {
        "id": "f3DbbEMB7ZA2"
      },
      "source": [
        "# !python '/content/DataCentricAIComp/annotgui.py'"
      ],
      "execution_count": null,
      "outputs": []
    },
    {
      "cell_type": "code",
      "metadata": {
        "id": "TfDIr8zpROj-",
        "colab": {
          "base_uri": "https://localhost:8080/"
        },
        "outputId": "5a41b344-3179-4209-f677-b4e3b1c7347f"
      },
      "source": [
        "import tensorflow as tf\n",
        "from tensorflow import keras\n",
        "import numpy as np\n",
        "import json\n",
        "import sys\n",
        "\n",
        "directory = \"/content/images\"\n",
        "user_data = directory + \"/data\"\n",
        "valid_data = directory + \"/data\"\n",
        "test_data = directory + \"/label_book\" # this can be the label book, or any other test set you create\n",
        "\n",
        "### DO NOT MODIFY BELOW THIS LINE, THIS IS THE FIXED MODEL ###\n",
        "batch_size = 8\n",
        "tf.random.set_seed(123)\n",
        "\n",
        "\n",
        "if __name__ == \"__main__\":\n",
        "    train = tf.keras.preprocessing.image_dataset_from_directory(\n",
        "        user_data + '/train',\n",
        "        labels=\"inferred\",\n",
        "        label_mode=\"categorical\",\n",
        "        class_names=[\"i\", \"ii\", \"iii\", \"iv\", \"v\", \"vi\", \"vii\", \"viii\", \"ix\", \"x\"],\n",
        "        shuffle=True,\n",
        "        seed=123,\n",
        "        batch_size=batch_size,\n",
        "        image_size=(32, 32),\n",
        "    )\n",
        "\n",
        "    valid = tf.keras.preprocessing.image_dataset_from_directory(\n",
        "        user_data + '/val',\n",
        "        labels=\"inferred\",\n",
        "        label_mode=\"categorical\",\n",
        "        class_names=[\"i\", \"ii\", \"iii\", \"iv\", \"v\", \"vi\", \"vii\", \"viii\", \"ix\", \"x\"],\n",
        "        shuffle=True,\n",
        "        seed=123,\n",
        "        batch_size=batch_size,\n",
        "        image_size=(32, 32),\n",
        "    )\n",
        "\n",
        "    total_length = ((train.cardinality() + valid.cardinality()) * batch_size).numpy()\n",
        "    if total_length > 10_000:\n",
        "        print(f\"Dataset size larger than 10,000. Got {total_length} examples\")\n",
        "        sys.exit()\n",
        "\n",
        "    test = tf.keras.preprocessing.image_dataset_from_directory(\n",
        "        test_data,\n",
        "        labels=\"inferred\",\n",
        "        label_mode=\"categorical\",\n",
        "        class_names=[\"i\", \"ii\", \"iii\", \"iv\", \"v\", \"vi\", \"vii\", \"viii\", \"ix\", \"x\"],\n",
        "        shuffle=False,\n",
        "        seed=123,\n",
        "        batch_size=batch_size,\n",
        "        image_size=(32, 32),\n",
        "    )\n",
        "\n",
        "    base_model = tf.keras.applications.ResNet50(\n",
        "        input_shape=(32, 32, 3),\n",
        "        include_top=False,\n",
        "        weights=None,\n",
        "    )\n",
        "    base_model = tf.keras.Model(\n",
        "        base_model.inputs, outputs=[base_model.get_layer(\"conv2_block3_out\").output]\n",
        "    )\n",
        "\n",
        "    inputs = tf.keras.Input(shape=(32, 32, 3))\n",
        "    x = tf.keras.applications.resnet.preprocess_input(inputs)\n",
        "    x = base_model(x)\n",
        "    x = tf.keras.layers.GlobalAveragePooling2D()(x)\n",
        "    x = tf.keras.layers.Dense(10)(x)\n",
        "    model = tf.keras.Model(inputs, x)\n",
        "\n",
        "    model.compile(\n",
        "        optimizer=tf.keras.optimizers.Adam(lr=0.0001),\n",
        "        loss=tf.keras.losses.CategoricalCrossentropy(from_logits=True),\n",
        "        metrics=[\"accuracy\"],\n",
        "    )\n",
        "    model.summary()\n",
        "    loss_0, acc_0 = model.evaluate(valid)\n",
        "    print(f\"loss {loss_0}, acc {acc_0}\")\n",
        "\n",
        "    checkpoint = tf.keras.callbacks.ModelCheckpoint(\n",
        "        \"best_model\",\n",
        "        monitor=\"val_accuracy\",\n",
        "        mode=\"max\",\n",
        "        save_best_only=True,\n",
        "        save_weights_only=True,\n",
        "    )\n",
        "\n",
        "    history = model.fit(\n",
        "        train,\n",
        "        validation_data=valid,\n",
        "        epochs=100,\n",
        "        callbacks=[checkpoint],\n",
        "    )\n",
        "\n",
        "    model.load_weights(\"best_model\")\n",
        "\n",
        "    loss, acc = model.evaluate(valid)\n",
        "    print(f\"final loss {loss}, final acc {acc}\")\n",
        "\n",
        "    test_loss, test_acc = model.evaluate(test)\n",
        "    print(f\"test loss {test_loss}, test acc {test_acc}\")"
      ],
      "execution_count": null,
      "outputs": [
        {
          "output_type": "stream",
          "text": [
            "Found 2067 files belonging to 10 classes.\n",
            "Found 813 files belonging to 10 classes.\n",
            "Found 52 files belonging to 10 classes.\n"
          ],
          "name": "stdout"
        },
        {
          "output_type": "stream",
          "text": [
            "/usr/local/lib/python3.7/dist-packages/tensorflow/python/keras/optimizer_v2/optimizer_v2.py:375: UserWarning: The `lr` argument is deprecated, use `learning_rate` instead.\n",
            "  \"The `lr` argument is deprecated, use `learning_rate` instead.\")\n"
          ],
          "name": "stderr"
        },
        {
          "output_type": "stream",
          "text": [
            "Model: \"model_1\"\n",
            "_________________________________________________________________\n",
            "Layer (type)                 Output Shape              Param #   \n",
            "=================================================================\n",
            "input_2 (InputLayer)         [(None, 32, 32, 3)]       0         \n",
            "_________________________________________________________________\n",
            "tf.__operators__.getitem (Sl (None, 32, 32, 3)         0         \n",
            "_________________________________________________________________\n",
            "tf.nn.bias_add (TFOpLambda)  (None, 32, 32, 3)         0         \n",
            "_________________________________________________________________\n",
            "model (Functional)           (None, 8, 8, 256)         229760    \n",
            "_________________________________________________________________\n",
            "global_average_pooling2d (Gl (None, 256)               0         \n",
            "_________________________________________________________________\n",
            "dense (Dense)                (None, 10)                2570      \n",
            "=================================================================\n",
            "Total params: 232,330\n",
            "Trainable params: 229,386\n",
            "Non-trainable params: 2,944\n",
            "_________________________________________________________________\n",
            "102/102 [==============================] - 31s 9ms/step - loss: 33.4250 - accuracy: 0.0996\n",
            "loss 33.425010681152344, acc 0.09963099658489227\n",
            "Epoch 1/100\n",
            "259/259 [==============================] - 7s 15ms/step - loss: 2.0181 - accuracy: 0.2937 - val_loss: 1.9508 - val_accuracy: 0.2214\n",
            "Epoch 2/100\n",
            "259/259 [==============================] - 4s 15ms/step - loss: 1.4669 - accuracy: 0.5269 - val_loss: 1.4967 - val_accuracy: 0.4539\n",
            "Epoch 3/100\n",
            "259/259 [==============================] - 4s 15ms/step - loss: 1.2178 - accuracy: 0.6134 - val_loss: 1.3245 - val_accuracy: 0.5141\n",
            "Epoch 4/100\n",
            "259/259 [==============================] - 4s 15ms/step - loss: 1.0236 - accuracy: 0.6696 - val_loss: 1.2496 - val_accuracy: 0.5375\n",
            "Epoch 5/100\n",
            "259/259 [==============================] - 4s 15ms/step - loss: 0.8815 - accuracy: 0.7218 - val_loss: 1.0616 - val_accuracy: 0.6544\n",
            "Epoch 6/100\n",
            "259/259 [==============================] - 4s 15ms/step - loss: 0.7896 - accuracy: 0.7441 - val_loss: 1.1332 - val_accuracy: 0.5855\n",
            "Epoch 7/100\n",
            "259/259 [==============================] - 4s 15ms/step - loss: 0.7001 - accuracy: 0.7900 - val_loss: 1.0795 - val_accuracy: 0.5892\n",
            "Epoch 8/100\n",
            "259/259 [==============================] - 4s 15ms/step - loss: 0.5824 - accuracy: 0.8254 - val_loss: 1.1093 - val_accuracy: 0.6101\n",
            "Epoch 9/100\n",
            "259/259 [==============================] - 4s 15ms/step - loss: 0.5225 - accuracy: 0.8466 - val_loss: 1.2407 - val_accuracy: 0.5461\n",
            "Epoch 10/100\n",
            "259/259 [==============================] - 4s 15ms/step - loss: 0.4601 - accuracy: 0.8718 - val_loss: 1.0611 - val_accuracy: 0.6236\n",
            "Epoch 11/100\n",
            "259/259 [==============================] - 4s 15ms/step - loss: 0.3913 - accuracy: 0.8873 - val_loss: 1.1765 - val_accuracy: 0.5843\n",
            "Epoch 12/100\n",
            "259/259 [==============================] - 4s 15ms/step - loss: 0.3533 - accuracy: 0.9071 - val_loss: 1.0928 - val_accuracy: 0.6199\n",
            "Epoch 13/100\n",
            "259/259 [==============================] - 4s 15ms/step - loss: 0.2807 - accuracy: 0.9342 - val_loss: 0.9957 - val_accuracy: 0.6679\n",
            "Epoch 14/100\n",
            "259/259 [==============================] - 4s 15ms/step - loss: 0.2670 - accuracy: 0.9357 - val_loss: 0.9378 - val_accuracy: 0.6704\n",
            "Epoch 15/100\n",
            "259/259 [==============================] - 4s 15ms/step - loss: 0.2089 - accuracy: 0.9608 - val_loss: 1.1923 - val_accuracy: 0.6162\n",
            "Epoch 16/100\n",
            "259/259 [==============================] - 4s 15ms/step - loss: 0.2131 - accuracy: 0.9497 - val_loss: 1.1779 - val_accuracy: 0.6298\n",
            "Epoch 17/100\n",
            "259/259 [==============================] - 4s 15ms/step - loss: 0.1681 - accuracy: 0.9676 - val_loss: 1.2723 - val_accuracy: 0.6187\n",
            "Epoch 18/100\n",
            "259/259 [==============================] - 4s 15ms/step - loss: 0.1589 - accuracy: 0.9627 - val_loss: 1.5288 - val_accuracy: 0.5375\n",
            "Epoch 19/100\n",
            "259/259 [==============================] - 4s 15ms/step - loss: 0.1382 - accuracy: 0.9753 - val_loss: 1.2146 - val_accuracy: 0.6298\n",
            "Epoch 20/100\n",
            "259/259 [==============================] - 4s 15ms/step - loss: 0.1435 - accuracy: 0.9681 - val_loss: 1.6017 - val_accuracy: 0.5363\n",
            "Epoch 21/100\n",
            "259/259 [==============================] - 4s 15ms/step - loss: 0.1332 - accuracy: 0.9763 - val_loss: 1.3468 - val_accuracy: 0.6310\n",
            "Epoch 22/100\n",
            "259/259 [==============================] - 4s 15ms/step - loss: 0.1008 - accuracy: 0.9806 - val_loss: 1.1593 - val_accuracy: 0.6052\n",
            "Epoch 23/100\n",
            "259/259 [==============================] - 4s 15ms/step - loss: 0.1126 - accuracy: 0.9758 - val_loss: 1.3296 - val_accuracy: 0.6150\n",
            "Epoch 24/100\n",
            "259/259 [==============================] - 4s 15ms/step - loss: 0.0929 - accuracy: 0.9840 - val_loss: 1.6338 - val_accuracy: 0.5990\n",
            "Epoch 25/100\n",
            "259/259 [==============================] - 4s 15ms/step - loss: 0.0965 - accuracy: 0.9806 - val_loss: 1.1782 - val_accuracy: 0.6544\n",
            "Epoch 26/100\n",
            "259/259 [==============================] - 4s 15ms/step - loss: 0.1068 - accuracy: 0.9744 - val_loss: 1.5842 - val_accuracy: 0.5867\n",
            "Epoch 27/100\n",
            "259/259 [==============================] - 4s 15ms/step - loss: 0.0920 - accuracy: 0.9782 - val_loss: 1.7656 - val_accuracy: 0.5646\n",
            "Epoch 28/100\n",
            "259/259 [==============================] - 4s 15ms/step - loss: 0.0869 - accuracy: 0.9850 - val_loss: 1.3608 - val_accuracy: 0.6064\n",
            "Epoch 29/100\n",
            "259/259 [==============================] - 4s 15ms/step - loss: 0.0725 - accuracy: 0.9860 - val_loss: 2.2172 - val_accuracy: 0.4416\n",
            "Epoch 30/100\n",
            "259/259 [==============================] - 4s 15ms/step - loss: 0.0700 - accuracy: 0.9845 - val_loss: 1.2158 - val_accuracy: 0.6445\n",
            "Epoch 31/100\n",
            "259/259 [==============================] - 4s 15ms/step - loss: 0.0838 - accuracy: 0.9840 - val_loss: 1.9143 - val_accuracy: 0.5412\n",
            "Epoch 32/100\n",
            "259/259 [==============================] - 4s 15ms/step - loss: 0.0472 - accuracy: 0.9927 - val_loss: 1.2494 - val_accuracy: 0.6371\n",
            "Epoch 33/100\n",
            "259/259 [==============================] - 4s 15ms/step - loss: 0.0494 - accuracy: 0.9908 - val_loss: 1.3978 - val_accuracy: 0.6089\n",
            "Epoch 34/100\n",
            "259/259 [==============================] - 4s 15ms/step - loss: 0.0449 - accuracy: 0.9937 - val_loss: 2.0474 - val_accuracy: 0.5683\n",
            "Epoch 35/100\n",
            "259/259 [==============================] - 4s 15ms/step - loss: 0.0556 - accuracy: 0.9889 - val_loss: 1.7314 - val_accuracy: 0.5843\n",
            "Epoch 36/100\n",
            "259/259 [==============================] - 4s 15ms/step - loss: 0.0916 - accuracy: 0.9777 - val_loss: 2.1964 - val_accuracy: 0.5178\n",
            "Epoch 37/100\n",
            "259/259 [==============================] - 4s 15ms/step - loss: 0.0493 - accuracy: 0.9927 - val_loss: 1.3040 - val_accuracy: 0.6396\n",
            "Epoch 38/100\n",
            "259/259 [==============================] - 4s 15ms/step - loss: 0.0531 - accuracy: 0.9903 - val_loss: 1.2270 - val_accuracy: 0.6531\n",
            "Epoch 39/100\n",
            "259/259 [==============================] - 4s 15ms/step - loss: 0.0467 - accuracy: 0.9908 - val_loss: 1.9076 - val_accuracy: 0.5695\n",
            "Epoch 40/100\n",
            "259/259 [==============================] - 4s 15ms/step - loss: 0.0414 - accuracy: 0.9913 - val_loss: 1.4737 - val_accuracy: 0.6248\n",
            "Epoch 41/100\n",
            "259/259 [==============================] - 4s 15ms/step - loss: 0.0597 - accuracy: 0.9792 - val_loss: 1.5952 - val_accuracy: 0.6101\n",
            "Epoch 42/100\n",
            "259/259 [==============================] - 4s 15ms/step - loss: 0.0528 - accuracy: 0.9889 - val_loss: 1.4259 - val_accuracy: 0.6285\n",
            "Epoch 43/100\n",
            "259/259 [==============================] - 4s 15ms/step - loss: 0.0558 - accuracy: 0.9831 - val_loss: 1.8929 - val_accuracy: 0.5707\n",
            "Epoch 44/100\n",
            "259/259 [==============================] - 4s 15ms/step - loss: 0.0392 - accuracy: 0.9913 - val_loss: 2.5765 - val_accuracy: 0.4957\n",
            "Epoch 45/100\n",
            "259/259 [==============================] - 4s 15ms/step - loss: 0.0437 - accuracy: 0.9903 - val_loss: 1.5413 - val_accuracy: 0.6261\n",
            "Epoch 46/100\n",
            "259/259 [==============================] - 4s 15ms/step - loss: 0.0700 - accuracy: 0.9831 - val_loss: 1.3717 - val_accuracy: 0.6470\n",
            "Epoch 47/100\n",
            "259/259 [==============================] - 4s 15ms/step - loss: 0.0396 - accuracy: 0.9913 - val_loss: 2.0111 - val_accuracy: 0.6015\n",
            "Epoch 48/100\n",
            "259/259 [==============================] - 4s 15ms/step - loss: 0.0460 - accuracy: 0.9894 - val_loss: 1.4176 - val_accuracy: 0.6064\n",
            "Epoch 49/100\n",
            "259/259 [==============================] - 4s 15ms/step - loss: 0.0252 - accuracy: 0.9961 - val_loss: 2.1519 - val_accuracy: 0.5363\n",
            "Epoch 50/100\n",
            "259/259 [==============================] - 4s 15ms/step - loss: 0.0346 - accuracy: 0.9927 - val_loss: 1.4996 - val_accuracy: 0.6371\n",
            "Epoch 51/100\n",
            "259/259 [==============================] - 4s 15ms/step - loss: 0.0350 - accuracy: 0.9923 - val_loss: 2.3361 - val_accuracy: 0.5289\n",
            "Epoch 52/100\n",
            "259/259 [==============================] - 4s 15ms/step - loss: 0.0213 - accuracy: 0.9985 - val_loss: 1.5043 - val_accuracy: 0.6310\n",
            "Epoch 53/100\n",
            "259/259 [==============================] - 4s 15ms/step - loss: 0.0313 - accuracy: 0.9932 - val_loss: 1.8859 - val_accuracy: 0.5720\n",
            "Epoch 54/100\n",
            "259/259 [==============================] - 4s 15ms/step - loss: 0.0687 - accuracy: 0.9831 - val_loss: 2.1987 - val_accuracy: 0.5203\n",
            "Epoch 55/100\n",
            "259/259 [==============================] - 4s 15ms/step - loss: 0.0565 - accuracy: 0.9845 - val_loss: 1.5305 - val_accuracy: 0.6285\n",
            "Epoch 56/100\n",
            "259/259 [==============================] - 4s 15ms/step - loss: 0.0376 - accuracy: 0.9913 - val_loss: 1.6593 - val_accuracy: 0.6335\n",
            "Epoch 57/100\n",
            "259/259 [==============================] - 4s 15ms/step - loss: 0.0394 - accuracy: 0.9898 - val_loss: 3.1107 - val_accuracy: 0.4600\n",
            "Epoch 58/100\n",
            "259/259 [==============================] - 4s 15ms/step - loss: 0.0461 - accuracy: 0.9894 - val_loss: 1.9361 - val_accuracy: 0.5978\n",
            "Epoch 59/100\n",
            "259/259 [==============================] - 4s 15ms/step - loss: 0.0214 - accuracy: 0.9961 - val_loss: 1.7267 - val_accuracy: 0.6101\n",
            "Epoch 60/100\n",
            "259/259 [==============================] - 4s 15ms/step - loss: 0.0290 - accuracy: 0.9918 - val_loss: 1.5862 - val_accuracy: 0.6052\n",
            "Epoch 61/100\n",
            "259/259 [==============================] - 4s 15ms/step - loss: 0.0354 - accuracy: 0.9894 - val_loss: 1.5229 - val_accuracy: 0.6015\n",
            "Epoch 62/100\n",
            "259/259 [==============================] - 4s 15ms/step - loss: 0.0430 - accuracy: 0.9884 - val_loss: 1.8805 - val_accuracy: 0.5597\n",
            "Epoch 63/100\n",
            "259/259 [==============================] - 4s 15ms/step - loss: 0.0269 - accuracy: 0.9952 - val_loss: 2.4468 - val_accuracy: 0.5510\n",
            "Epoch 64/100\n",
            "259/259 [==============================] - 4s 15ms/step - loss: 0.0301 - accuracy: 0.9923 - val_loss: 1.4823 - val_accuracy: 0.6482\n",
            "Epoch 65/100\n",
            "259/259 [==============================] - 4s 16ms/step - loss: 0.0377 - accuracy: 0.9903 - val_loss: 3.1237 - val_accuracy: 0.4354\n",
            "Epoch 66/100\n",
            "259/259 [==============================] - 4s 15ms/step - loss: 0.0394 - accuracy: 0.9894 - val_loss: 1.3927 - val_accuracy: 0.6556\n",
            "Epoch 67/100\n",
            "259/259 [==============================] - 4s 15ms/step - loss: 0.0365 - accuracy: 0.9894 - val_loss: 1.4286 - val_accuracy: 0.6482\n",
            "Epoch 68/100\n",
            "259/259 [==============================] - 4s 15ms/step - loss: 0.0400 - accuracy: 0.9903 - val_loss: 2.3220 - val_accuracy: 0.5806\n",
            "Epoch 69/100\n",
            "259/259 [==============================] - 4s 15ms/step - loss: 0.0266 - accuracy: 0.9937 - val_loss: 1.7470 - val_accuracy: 0.5953\n",
            "Epoch 70/100\n",
            "259/259 [==============================] - 4s 15ms/step - loss: 0.0242 - accuracy: 0.9956 - val_loss: 1.3549 - val_accuracy: 0.6371\n",
            "Epoch 71/100\n",
            "259/259 [==============================] - 4s 16ms/step - loss: 0.0240 - accuracy: 0.9952 - val_loss: 1.4109 - val_accuracy: 0.6212\n",
            "Epoch 72/100\n",
            "259/259 [==============================] - 4s 15ms/step - loss: 0.0510 - accuracy: 0.9865 - val_loss: 3.6273 - val_accuracy: 0.4649\n",
            "Epoch 73/100\n",
            "259/259 [==============================] - 4s 15ms/step - loss: 0.0345 - accuracy: 0.9923 - val_loss: 1.6676 - val_accuracy: 0.6187\n",
            "Epoch 74/100\n",
            "259/259 [==============================] - 4s 15ms/step - loss: 0.0573 - accuracy: 0.9816 - val_loss: 1.9765 - val_accuracy: 0.5597\n",
            "Epoch 75/100\n",
            "259/259 [==============================] - 4s 15ms/step - loss: 0.0419 - accuracy: 0.9884 - val_loss: 1.6780 - val_accuracy: 0.5867\n",
            "Epoch 76/100\n",
            "259/259 [==============================] - 4s 15ms/step - loss: 0.0284 - accuracy: 0.9927 - val_loss: 1.3983 - val_accuracy: 0.6433\n",
            "Epoch 77/100\n",
            "259/259 [==============================] - 4s 15ms/step - loss: 0.0112 - accuracy: 0.9990 - val_loss: 1.1756 - val_accuracy: 0.6691\n",
            "Epoch 78/100\n",
            "259/259 [==============================] - 4s 15ms/step - loss: 0.0279 - accuracy: 0.9927 - val_loss: 1.9733 - val_accuracy: 0.5646\n",
            "Epoch 79/100\n",
            "259/259 [==============================] - 4s 15ms/step - loss: 0.0277 - accuracy: 0.9932 - val_loss: 1.3830 - val_accuracy: 0.6568\n",
            "Epoch 80/100\n",
            "259/259 [==============================] - 4s 16ms/step - loss: 0.0207 - accuracy: 0.9956 - val_loss: 1.5687 - val_accuracy: 0.6298\n",
            "Epoch 81/100\n",
            "259/259 [==============================] - 4s 15ms/step - loss: 0.0292 - accuracy: 0.9913 - val_loss: 1.3862 - val_accuracy: 0.6679\n",
            "Epoch 82/100\n",
            "259/259 [==============================] - 4s 15ms/step - loss: 0.0147 - accuracy: 0.9981 - val_loss: 1.4209 - val_accuracy: 0.6494\n",
            "Epoch 83/100\n",
            "259/259 [==============================] - 4s 15ms/step - loss: 0.0094 - accuracy: 0.9985 - val_loss: 1.4856 - val_accuracy: 0.6310\n",
            "Epoch 84/100\n",
            "259/259 [==============================] - 4s 15ms/step - loss: 0.0144 - accuracy: 0.9966 - val_loss: 1.6633 - val_accuracy: 0.6236\n",
            "Epoch 85/100\n",
            "259/259 [==============================] - 4s 15ms/step - loss: 0.0265 - accuracy: 0.9932 - val_loss: 1.8087 - val_accuracy: 0.6039\n",
            "Epoch 86/100\n",
            "259/259 [==============================] - 4s 15ms/step - loss: 0.0176 - accuracy: 0.9966 - val_loss: 2.0900 - val_accuracy: 0.5597\n",
            "Epoch 87/100\n",
            "259/259 [==============================] - 5s 17ms/step - loss: 0.0371 - accuracy: 0.9927 - val_loss: 1.9482 - val_accuracy: 0.5769\n",
            "Epoch 88/100\n",
            "259/259 [==============================] - 4s 15ms/step - loss: 0.0376 - accuracy: 0.9884 - val_loss: 2.0168 - val_accuracy: 0.6125\n",
            "Epoch 89/100\n",
            "259/259 [==============================] - 4s 15ms/step - loss: 0.0211 - accuracy: 0.9942 - val_loss: 1.5189 - val_accuracy: 0.6371\n",
            "Epoch 90/100\n",
            "259/259 [==============================] - 4s 15ms/step - loss: 0.0203 - accuracy: 0.9942 - val_loss: 1.5733 - val_accuracy: 0.6261\n",
            "Epoch 91/100\n",
            "259/259 [==============================] - 4s 15ms/step - loss: 0.0163 - accuracy: 0.9961 - val_loss: 1.8125 - val_accuracy: 0.6150\n",
            "Epoch 92/100\n",
            "259/259 [==============================] - 4s 15ms/step - loss: 0.0187 - accuracy: 0.9966 - val_loss: 1.6056 - val_accuracy: 0.6298\n",
            "Epoch 93/100\n",
            "259/259 [==============================] - 4s 15ms/step - loss: 0.0155 - accuracy: 0.9966 - val_loss: 1.9044 - val_accuracy: 0.6076\n",
            "Epoch 94/100\n",
            "259/259 [==============================] - 4s 15ms/step - loss: 0.0183 - accuracy: 0.9961 - val_loss: 1.8122 - val_accuracy: 0.6162\n",
            "Epoch 95/100\n",
            "259/259 [==============================] - 4s 15ms/step - loss: 0.0227 - accuracy: 0.9937 - val_loss: 1.6635 - val_accuracy: 0.6285\n",
            "Epoch 96/100\n",
            "259/259 [==============================] - 4s 15ms/step - loss: 0.0473 - accuracy: 0.9845 - val_loss: 2.8925 - val_accuracy: 0.4945\n",
            "Epoch 97/100\n",
            "259/259 [==============================] - 4s 15ms/step - loss: 0.0237 - accuracy: 0.9947 - val_loss: 2.0573 - val_accuracy: 0.6052\n",
            "Epoch 98/100\n",
            "259/259 [==============================] - 4s 15ms/step - loss: 0.0321 - accuracy: 0.9927 - val_loss: 1.8489 - val_accuracy: 0.6113\n",
            "Epoch 99/100\n",
            "259/259 [==============================] - 4s 15ms/step - loss: 0.0191 - accuracy: 0.9952 - val_loss: 1.6663 - val_accuracy: 0.6175\n",
            "Epoch 100/100\n",
            "259/259 [==============================] - 4s 15ms/step - loss: 0.0201 - accuracy: 0.9937 - val_loss: 2.0657 - val_accuracy: 0.5941\n",
            "102/102 [==============================] - 1s 8ms/step - loss: 0.9378 - accuracy: 0.6704\n",
            "final loss 0.9378202557563782, final acc 0.6703566908836365\n",
            "7/7 [==============================] - 0s 18ms/step - loss: 1.3778 - accuracy: 0.5192\n",
            "test loss 1.3778074979782104, test acc 0.5192307829856873\n"
          ],
          "name": "stdout"
        }
      ]
    },
    {
      "cell_type": "code",
      "metadata": {
        "id": "CsKKBphe65ye"
      },
      "source": [
        ""
      ],
      "execution_count": null,
      "outputs": []
    }
  ]
}
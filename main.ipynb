{
  "nbformat": 4,
  "nbformat_minor": 0,
  "metadata": {
    "colab": {
      "name": "Untitled4.ipynb",
      "provenance": [],
      "authorship_tag": "ABX9TyM6vhc/mUg3ozoAKAU3ZZX/",
      "include_colab_link": true
    },
    "kernelspec": {
      "name": "python3",
      "display_name": "Python 3"
    },
    "language_info": {
      "name": "python"
    },
    "accelerator": "GPU"
  },
  "cells": [
    {
      "cell_type": "markdown",
      "metadata": {
        "id": "view-in-github",
        "colab_type": "text"
      },
      "source": [
        "<a href=\"https://colab.research.google.com/github/KutuDev/DataCentricAIComp/blob/main/main.ipynb\" target=\"_parent\"><img src=\"https://colab.research.google.com/assets/colab-badge.svg\" alt=\"Open In Colab\"/></a>"
      ]
    },
    {
      "cell_type": "markdown",
      "metadata": {
        "id": "bHpFLzYN4MnD"
      },
      "source": [
        "[Announcement worksheet](https://worksheets.codalab.org/worksheets/0x7a8721f11e61436e93ac8f76da83f0e6)"
      ]
    },
    {
      "cell_type": "markdown",
      "metadata": {
        "id": "X-PQQoUv5EYI"
      },
      "source": [
        "[Leaderboard](https://https-deeplearning-ai.github.io/data-centric-comp/?utm_source=thebatch&utm_medium=newsletter&utm_campaign=dc-ai-competition&utm_content=dl-ai)"
      ]
    },
    {
      "cell_type": "markdown",
      "metadata": {
        "id": "P1MosTohoMOU"
      },
      "source": [
        "[Data inspection discoveries](https://drive.google.com/file/d/162_c0DDd9UdTN206I9Q7A6TmJg3Fay96/view?usp=sharing)"
      ]
    },
    {
      "cell_type": "markdown",
      "metadata": {
        "id": "NIEm0b8gkoWk"
      },
      "source": [
        "**Results**\n",
        "* 1. *Baseline dataset*\n",
        "        * Final acc: 0.67, Test acc: 0.52\n",
        "        * Final loss: 0.94, Test loss: 1.38\n",
        "\n",
        "* 2. *Data v2*\n",
        "        * Final acc: 0.78, Test acc: 0.69\n",
        "        * Final loss: 0.93, Test loss: 1.66"
      ]
    },
    {
      "cell_type": "markdown",
      "metadata": {
        "id": "QiZhb6Le4i6Z"
      },
      "source": [
        "**To-Dos**\n",
        "\n",
        "**Aim:** 0.95+ accuracy \n",
        "\n",
        "✅Train the resnet baseline model on their 3k plus data towards obtaining the 0.65 accuracy score. This might require include using their 32 by 32 pixel script for image resizing, deleting corrupted files, and fixing labels.\n",
        "\n",
        "✅Inspect the 3k+ images for bad labels, bad image, etc. Fix all anomalies found. \n",
        "\n",
        "✅Download and read papers that uses the Roman MNIST dataset. We can get links to the dataset and other useful information.  \n",
        "\n",
        "\n",
        "✅Inspect the image classes distribution and take necessary actions. It's important that the dataset isn't skewed. \n",
        "\n",
        "✅Use fastai's image data augmentation functions \n",
        "\n",
        "✅Gather more Roman MNIST data in an increase rate of not more than 10x of the 3k data size. This data gathering can be done using any means available, web scraping inclusive.\n",
        "\n",
        "**N.B:** At the end of each steps above, we retrain the baseline model on the dataset in order to observe the effect on the model accuracy score."
      ]
    },
    {
      "cell_type": "markdown",
      "metadata": {
        "id": "xj3RYY0Rqxqu"
      },
      "source": [
        "# Notes\n",
        "\n",
        "* RENAME EACH FILES. Add an auto-increment serial number at the start of each names. This would aid easy lookup of images. Doing this will require creating a doc that contains the previous and new name.\n",
        "* the noise on some images can be erased using photo editing tools. This tool can also be used for data augmentation such as crop, resize.\n",
        "* the images labelled as 'trash' in [Data inspection discoveries](https://drive.google.com/file/d/162_c0DDd9UdTN206I9Q7A6TmJg3Fay96/view?usp=sharing) should be moved to a new folder having a new class named 'unrecognized'\n",
        "\n",
        "* in the I folder, there are images that look like small figure 1\n",
        "* some images needs to be cropped\n",
        "* some images have 1/2 vertical noisy lines\n",
        "* in the II folder, some images written with marker are so small, hence, they appear like roman numeral I.\n",
        "* in the II folder, some images have a bottom vertical noisy line\n",
        "* images' stroke are either thick or thin\n",
        "* some images are small lettered roman numeral \n",
        "* some images are capital lettered roman numeral\n",
        "* some images are capita+bars lettered roman numeral\n",
        "* some images are dashes\n",
        "* images are black on white background"
      ]
    },
    {
      "cell_type": "code",
      "metadata": {
        "colab": {
          "base_uri": "https://localhost:8080/"
        },
        "id": "mBavItuW3fTg",
        "outputId": "ec9ab104-23b8-4a5f-f54e-961ff7f36a5f"
      },
      "source": [
        "!git clone https://github.com/KutuDev/DataCentricAIComp"
      ],
      "execution_count": 1,
      "outputs": [
        {
          "output_type": "stream",
          "text": [
            "Cloning into 'DataCentricAIComp'...\n",
            "remote: Enumerating objects: 48, done.\u001b[K\n",
            "remote: Counting objects: 100% (48/48), done.\u001b[K\n",
            "remote: Compressing objects: 100% (47/47), done.\u001b[K\n",
            "remote: Total 48 (delta 23), reused 0 (delta 0), pack-reused 0\u001b[K\n",
            "Unpacking objects: 100% (48/48), done.\n"
          ],
          "name": "stdout"
        }
      ]
    },
    {
      "cell_type": "code",
      "metadata": {
        "id": "TNs1zvkp3qbv"
      },
      "source": [
        "def unzipper(in_folderPath, out_folderPath):\n",
        "    import tarfile\n",
        "\n",
        "    file = tarfile.open(in_folderPath)\n",
        "    file.extractall(out_folderPath)\n",
        "    file.close()"
      ],
      "execution_count": 2,
      "outputs": []
    },
    {
      "cell_type": "code",
      "metadata": {
        "id": "UQm38TFf5A0o"
      },
      "source": [
        "dataset_name = 'data_v2' \n",
        "\n",
        "unzipper(in_folderPath=f'/content/DataCentricAIComp/{dataset_name}.tar.gz', out_folderPath='./images')\n",
        "unzipper(in_folderPath='/content/DataCentricAIComp/label_book.tar.gz', out_folderPath='./images')"
      ],
      "execution_count": 3,
      "outputs": []
    },
    {
      "cell_type": "code",
      "metadata": {
        "id": "51x_efjdj8aS"
      },
      "source": [
        "# import shutil\n",
        "\n",
        "# shutil.move(f\"/content/images/Users/Samuel/Desktop/{dataset_name}\", \"/content/images\")"
      ],
      "execution_count": null,
      "outputs": []
    },
    {
      "cell_type": "code",
      "metadata": {
        "id": "lTnruT3c7UQk"
      },
      "source": [
        "# !pip install pysimplegui"
      ],
      "execution_count": null,
      "outputs": []
    },
    {
      "cell_type": "code",
      "metadata": {
        "id": "Ml8h2fNe93my"
      },
      "source": [
        "# !apt-get install -y xvfb # Install X Virtual Frame Buffer\n",
        "# import os\n",
        "# os.system('Xvfb :1 -screen 0 1600x1200x16  &')    # create virtual display with size 1600x1200 and 16 bit color. Color can be changed to 24 or 8\n",
        "# os.environ['DISPLAY']=':1.0'    # tell X clients to use our virtual DISPLAY :1.0"
      ],
      "execution_count": null,
      "outputs": []
    },
    {
      "cell_type": "code",
      "metadata": {
        "id": "f3DbbEMB7ZA2"
      },
      "source": [
        "# !python '/content/DataCentricAIComp/annotgui.py'"
      ],
      "execution_count": null,
      "outputs": []
    },
    {
      "cell_type": "code",
      "metadata": {
        "id": "TfDIr8zpROj-",
        "outputId": "24986cb9-05d9-4641-db37-17a9779e1fe8",
        "colab": {
          "base_uri": "https://localhost:8080/"
        }
      },
      "source": [
        "import tensorflow as tf\n",
        "from tensorflow import keras\n",
        "import numpy as np\n",
        "import json\n",
        "import sys\n",
        "\n",
        "directory = \"/content/images\" \n",
        "user_data = directory + f\"/{dataset_name}\"\n",
        "valid_data = directory + f\"/{dataset_name}\"\n",
        "test_data = directory + \"/label_book\" # this can be the label book, or any other test set you create\n",
        "\n",
        "### DO NOT MODIFY BELOW THIS LINE, THIS IS THE FIXED MODEL ###\n",
        "batch_size = 8\n",
        "tf.random.set_seed(123)\n",
        "\n",
        "\n",
        "if __name__ == \"__main__\":\n",
        "    train = tf.keras.preprocessing.image_dataset_from_directory(\n",
        "        user_data + '/train',\n",
        "        labels=\"inferred\",\n",
        "        label_mode=\"categorical\",\n",
        "        class_names=[\"i\", \"ii\", \"iii\", \"iv\", \"v\", \"vi\", \"vii\", \"viii\", \"ix\", \"x\"],\n",
        "        shuffle=True,\n",
        "        seed=123,\n",
        "        batch_size=batch_size,\n",
        "        image_size=(32, 32),\n",
        "    )\n",
        "\n",
        "    valid = tf.keras.preprocessing.image_dataset_from_directory(\n",
        "        user_data + '/val',\n",
        "        labels=\"inferred\",\n",
        "        label_mode=\"categorical\",\n",
        "        class_names=[\"i\", \"ii\", \"iii\", \"iv\", \"v\", \"vi\", \"vii\", \"viii\", \"ix\", \"x\"],\n",
        "        shuffle=True,\n",
        "        seed=123,\n",
        "        batch_size=batch_size,\n",
        "        image_size=(32, 32),\n",
        "    )\n",
        "\n",
        "    total_length = ((train.cardinality() + valid.cardinality()) * batch_size).numpy()\n",
        "    if total_length > 10_000:\n",
        "        print(f\"Dataset size larger than 10,000. Got {total_length} examples\")\n",
        "        sys.exit()\n",
        "\n",
        "    test = tf.keras.preprocessing.image_dataset_from_directory(\n",
        "        test_data,\n",
        "        labels=\"inferred\",\n",
        "        label_mode=\"categorical\",\n",
        "        class_names=[\"i\", \"ii\", \"iii\", \"iv\", \"v\", \"vi\", \"vii\", \"viii\", \"ix\", \"x\"],\n",
        "        shuffle=False,\n",
        "        seed=123,\n",
        "        batch_size=batch_size,\n",
        "        image_size=(32, 32),\n",
        "    )\n",
        "\n",
        "    base_model = tf.keras.applications.ResNet50(\n",
        "        input_shape=(32, 32, 3),\n",
        "        include_top=False,\n",
        "        weights=None,\n",
        "    )\n",
        "    base_model = tf.keras.Model(\n",
        "        base_model.inputs, outputs=[base_model.get_layer(\"conv2_block3_out\").output]\n",
        "    )\n",
        "\n",
        "    inputs = tf.keras.Input(shape=(32, 32, 3))\n",
        "    x = tf.keras.applications.resnet.preprocess_input(inputs)\n",
        "    x = base_model(x)\n",
        "    x = tf.keras.layers.GlobalAveragePooling2D()(x)\n",
        "    x = tf.keras.layers.Dense(10)(x)\n",
        "    model = tf.keras.Model(inputs, x)\n",
        "\n",
        "    model.compile(\n",
        "        optimizer=tf.keras.optimizers.Adam(lr=0.0001),\n",
        "        loss=tf.keras.losses.CategoricalCrossentropy(from_logits=True),\n",
        "        metrics=[\"accuracy\"],\n",
        "    )\n",
        "    model.summary()\n",
        "    loss_0, acc_0 = model.evaluate(valid)\n",
        "    print(f\"loss {loss_0}, acc {acc_0}\")\n",
        "\n",
        "    checkpoint = tf.keras.callbacks.ModelCheckpoint(\n",
        "        \"best_model\",\n",
        "        monitor=\"val_accuracy\",\n",
        "        mode=\"max\",\n",
        "        save_best_only=True,\n",
        "        save_weights_only=True,\n",
        "    )\n",
        "\n",
        "    history = model.fit(\n",
        "        train,\n",
        "        validation_data=valid,\n",
        "        epochs=100,\n",
        "        callbacks=[checkpoint],\n",
        "    )\n",
        "\n",
        "    model.load_weights(\"best_model\")\n",
        "\n",
        "    loss, acc = model.evaluate(valid)\n",
        "    print(f\"final loss {loss}, final acc {acc}\")\n",
        "\n",
        "    test_loss, test_acc = model.evaluate(test)\n",
        "    print(f\"test loss {test_loss}, test acc {test_acc}\")"
      ],
      "execution_count": 4,
      "outputs": [
        {
          "output_type": "stream",
          "text": [
            "Found 1892 files belonging to 10 classes.\n",
            "Found 813 files belonging to 10 classes.\n",
            "Found 52 files belonging to 10 classes.\n"
          ],
          "name": "stdout"
        },
        {
          "output_type": "stream",
          "text": [
            "/usr/local/lib/python3.7/dist-packages/tensorflow/python/keras/optimizer_v2/optimizer_v2.py:375: UserWarning: The `lr` argument is deprecated, use `learning_rate` instead.\n",
            "  \"The `lr` argument is deprecated, use `learning_rate` instead.\")\n"
          ],
          "name": "stderr"
        },
        {
          "output_type": "stream",
          "text": [
            "Model: \"model_1\"\n",
            "_________________________________________________________________\n",
            "Layer (type)                 Output Shape              Param #   \n",
            "=================================================================\n",
            "input_2 (InputLayer)         [(None, 32, 32, 3)]       0         \n",
            "_________________________________________________________________\n",
            "tf.__operators__.getitem (Sl (None, 32, 32, 3)         0         \n",
            "_________________________________________________________________\n",
            "tf.nn.bias_add (TFOpLambda)  (None, 32, 32, 3)         0         \n",
            "_________________________________________________________________\n",
            "model (Functional)           (None, 8, 8, 256)         229760    \n",
            "_________________________________________________________________\n",
            "global_average_pooling2d (Gl (None, 256)               0         \n",
            "_________________________________________________________________\n",
            "dense (Dense)                (None, 10)                2570      \n",
            "=================================================================\n",
            "Total params: 232,330\n",
            "Trainable params: 229,386\n",
            "Non-trainable params: 2,944\n",
            "_________________________________________________________________\n",
            "102/102 [==============================] - 31s 8ms/step - loss: 33.4250 - accuracy: 0.0996\n",
            "loss 33.425010681152344, acc 0.09963099658489227\n",
            "Epoch 1/100\n",
            "237/237 [==============================] - 6s 14ms/step - loss: 1.9591 - accuracy: 0.3272 - val_loss: 1.9141 - val_accuracy: 0.2558\n",
            "Epoch 2/100\n",
            "237/237 [==============================] - 3s 14ms/step - loss: 1.3232 - accuracy: 0.5856 - val_loss: 1.5939 - val_accuracy: 0.4416\n",
            "Epoch 3/100\n",
            "237/237 [==============================] - 4s 15ms/step - loss: 1.0383 - accuracy: 0.6866 - val_loss: 1.6230 - val_accuracy: 0.4305\n",
            "Epoch 4/100\n",
            "237/237 [==============================] - 4s 15ms/step - loss: 0.8606 - accuracy: 0.7294 - val_loss: 1.1546 - val_accuracy: 0.5892\n",
            "Epoch 5/100\n",
            "237/237 [==============================] - 4s 15ms/step - loss: 0.6840 - accuracy: 0.7912 - val_loss: 1.0855 - val_accuracy: 0.6101\n",
            "Epoch 6/100\n",
            "237/237 [==============================] - 4s 15ms/step - loss: 0.5665 - accuracy: 0.8436 - val_loss: 0.9669 - val_accuracy: 0.6556\n",
            "Epoch 7/100\n",
            "237/237 [==============================] - 4s 15ms/step - loss: 0.4795 - accuracy: 0.8668 - val_loss: 0.9037 - val_accuracy: 0.6765\n",
            "Epoch 8/100\n",
            "237/237 [==============================] - 3s 15ms/step - loss: 0.4295 - accuracy: 0.8774 - val_loss: 1.1256 - val_accuracy: 0.6199\n",
            "Epoch 9/100\n",
            "237/237 [==============================] - 3s 14ms/step - loss: 0.3830 - accuracy: 0.8916 - val_loss: 0.8748 - val_accuracy: 0.7134\n",
            "Epoch 10/100\n",
            "237/237 [==============================] - 3s 14ms/step - loss: 0.3048 - accuracy: 0.9212 - val_loss: 0.9790 - val_accuracy: 0.6777\n",
            "Epoch 11/100\n",
            "237/237 [==============================] - 3s 14ms/step - loss: 0.2920 - accuracy: 0.9271 - val_loss: 0.8672 - val_accuracy: 0.7109\n",
            "Epoch 12/100\n",
            "237/237 [==============================] - 3s 14ms/step - loss: 0.2428 - accuracy: 0.9371 - val_loss: 1.0539 - val_accuracy: 0.6421\n",
            "Epoch 13/100\n",
            "237/237 [==============================] - 3s 14ms/step - loss: 0.2264 - accuracy: 0.9413 - val_loss: 0.8140 - val_accuracy: 0.7257\n",
            "Epoch 14/100\n",
            "237/237 [==============================] - 3s 14ms/step - loss: 0.2058 - accuracy: 0.9456 - val_loss: 0.9483 - val_accuracy: 0.6851\n",
            "Epoch 15/100\n",
            "237/237 [==============================] - 3s 14ms/step - loss: 0.1591 - accuracy: 0.9678 - val_loss: 0.9510 - val_accuracy: 0.6986\n",
            "Epoch 16/100\n",
            "237/237 [==============================] - 3s 14ms/step - loss: 0.1650 - accuracy: 0.9630 - val_loss: 0.9556 - val_accuracy: 0.7085\n",
            "Epoch 17/100\n",
            "237/237 [==============================] - 3s 14ms/step - loss: 0.1355 - accuracy: 0.9746 - val_loss: 0.7837 - val_accuracy: 0.7515\n",
            "Epoch 18/100\n",
            "237/237 [==============================] - 4s 15ms/step - loss: 0.1264 - accuracy: 0.9752 - val_loss: 0.9235 - val_accuracy: 0.7085\n",
            "Epoch 19/100\n",
            "237/237 [==============================] - 4s 15ms/step - loss: 0.1220 - accuracy: 0.9730 - val_loss: 1.0644 - val_accuracy: 0.6950\n",
            "Epoch 20/100\n",
            "237/237 [==============================] - 4s 15ms/step - loss: 0.1030 - accuracy: 0.9820 - val_loss: 0.8353 - val_accuracy: 0.7134\n",
            "Epoch 21/100\n",
            "237/237 [==============================] - 4s 15ms/step - loss: 0.0936 - accuracy: 0.9826 - val_loss: 1.1993 - val_accuracy: 0.6704\n",
            "Epoch 22/100\n",
            "237/237 [==============================] - 4s 15ms/step - loss: 0.1142 - accuracy: 0.9715 - val_loss: 1.1527 - val_accuracy: 0.6630\n",
            "Epoch 23/100\n",
            "237/237 [==============================] - 4s 15ms/step - loss: 0.0869 - accuracy: 0.9841 - val_loss: 0.9464 - val_accuracy: 0.7171\n",
            "Epoch 24/100\n",
            "237/237 [==============================] - 3s 15ms/step - loss: 0.0639 - accuracy: 0.9931 - val_loss: 0.9523 - val_accuracy: 0.7048\n",
            "Epoch 25/100\n",
            "237/237 [==============================] - 3s 14ms/step - loss: 0.0797 - accuracy: 0.9863 - val_loss: 1.0788 - val_accuracy: 0.6827\n",
            "Epoch 26/100\n",
            "237/237 [==============================] - 3s 14ms/step - loss: 0.0790 - accuracy: 0.9799 - val_loss: 1.3517 - val_accuracy: 0.6384\n",
            "Epoch 27/100\n",
            "237/237 [==============================] - 3s 14ms/step - loss: 0.0611 - accuracy: 0.9884 - val_loss: 1.3397 - val_accuracy: 0.6150\n",
            "Epoch 28/100\n",
            "237/237 [==============================] - 3s 14ms/step - loss: 0.0502 - accuracy: 0.9910 - val_loss: 0.9052 - val_accuracy: 0.7331\n",
            "Epoch 29/100\n",
            "237/237 [==============================] - 3s 14ms/step - loss: 0.0477 - accuracy: 0.9926 - val_loss: 1.0778 - val_accuracy: 0.6937\n",
            "Epoch 30/100\n",
            "237/237 [==============================] - 3s 14ms/step - loss: 0.0457 - accuracy: 0.9915 - val_loss: 1.0455 - val_accuracy: 0.7085\n",
            "Epoch 31/100\n",
            "237/237 [==============================] - 3s 14ms/step - loss: 0.0489 - accuracy: 0.9889 - val_loss: 0.9977 - val_accuracy: 0.7220\n",
            "Epoch 32/100\n",
            "237/237 [==============================] - 3s 14ms/step - loss: 0.0500 - accuracy: 0.9942 - val_loss: 0.9484 - val_accuracy: 0.7023\n",
            "Epoch 33/100\n",
            "237/237 [==============================] - 3s 14ms/step - loss: 0.0573 - accuracy: 0.9878 - val_loss: 1.3615 - val_accuracy: 0.6679\n",
            "Epoch 34/100\n",
            "237/237 [==============================] - 3s 14ms/step - loss: 0.0677 - accuracy: 0.9857 - val_loss: 1.5466 - val_accuracy: 0.6359\n",
            "Epoch 35/100\n",
            "237/237 [==============================] - 4s 15ms/step - loss: 0.0494 - accuracy: 0.9868 - val_loss: 1.0618 - val_accuracy: 0.7023\n",
            "Epoch 36/100\n",
            "237/237 [==============================] - 4s 15ms/step - loss: 0.0461 - accuracy: 0.9889 - val_loss: 1.4233 - val_accuracy: 0.6605\n",
            "Epoch 37/100\n",
            "237/237 [==============================] - 4s 15ms/step - loss: 0.0450 - accuracy: 0.9905 - val_loss: 1.4895 - val_accuracy: 0.6519\n",
            "Epoch 38/100\n",
            "237/237 [==============================] - 4s 15ms/step - loss: 0.0464 - accuracy: 0.9921 - val_loss: 1.9033 - val_accuracy: 0.6162\n",
            "Epoch 39/100\n",
            "237/237 [==============================] - 4s 15ms/step - loss: 0.0486 - accuracy: 0.9905 - val_loss: 1.1466 - val_accuracy: 0.7097\n",
            "Epoch 40/100\n",
            "237/237 [==============================] - 3s 14ms/step - loss: 0.0242 - accuracy: 0.9963 - val_loss: 1.1152 - val_accuracy: 0.6814\n",
            "Epoch 41/100\n",
            "237/237 [==============================] - 3s 14ms/step - loss: 0.0329 - accuracy: 0.9921 - val_loss: 0.8632 - val_accuracy: 0.7528\n",
            "Epoch 42/100\n",
            "237/237 [==============================] - 4s 15ms/step - loss: 0.0298 - accuracy: 0.9937 - val_loss: 1.1120 - val_accuracy: 0.7023\n",
            "Epoch 43/100\n",
            "237/237 [==============================] - 4s 15ms/step - loss: 0.0319 - accuracy: 0.9926 - val_loss: 1.0531 - val_accuracy: 0.7196\n",
            "Epoch 44/100\n",
            "237/237 [==============================] - 4s 15ms/step - loss: 0.0324 - accuracy: 0.9937 - val_loss: 3.4430 - val_accuracy: 0.4649\n",
            "Epoch 45/100\n",
            "237/237 [==============================] - 4s 15ms/step - loss: 0.0494 - accuracy: 0.9878 - val_loss: 1.3664 - val_accuracy: 0.6617\n",
            "Epoch 46/100\n",
            "237/237 [==============================] - 4s 15ms/step - loss: 0.0483 - accuracy: 0.9894 - val_loss: 1.7490 - val_accuracy: 0.5953\n",
            "Epoch 47/100\n",
            "237/237 [==============================] - 3s 14ms/step - loss: 0.0437 - accuracy: 0.9889 - val_loss: 1.8141 - val_accuracy: 0.6691\n",
            "Epoch 48/100\n",
            "237/237 [==============================] - 3s 14ms/step - loss: 0.0214 - accuracy: 0.9968 - val_loss: 1.3131 - val_accuracy: 0.6667\n",
            "Epoch 49/100\n",
            "237/237 [==============================] - 3s 14ms/step - loss: 0.0253 - accuracy: 0.9958 - val_loss: 1.0874 - val_accuracy: 0.7171\n",
            "Epoch 50/100\n",
            "237/237 [==============================] - 3s 14ms/step - loss: 0.0239 - accuracy: 0.9937 - val_loss: 1.2163 - val_accuracy: 0.7060\n",
            "Epoch 51/100\n",
            "237/237 [==============================] - 3s 14ms/step - loss: 0.0423 - accuracy: 0.9894 - val_loss: 2.1647 - val_accuracy: 0.5843\n",
            "Epoch 52/100\n",
            "237/237 [==============================] - 3s 14ms/step - loss: 0.0431 - accuracy: 0.9894 - val_loss: 1.5704 - val_accuracy: 0.6814\n",
            "Epoch 53/100\n",
            "237/237 [==============================] - 3s 14ms/step - loss: 0.0285 - accuracy: 0.9937 - val_loss: 1.6646 - val_accuracy: 0.6310\n",
            "Epoch 54/100\n",
            "237/237 [==============================] - 3s 14ms/step - loss: 0.0376 - accuracy: 0.9900 - val_loss: 1.5014 - val_accuracy: 0.6740\n",
            "Epoch 55/100\n",
            "237/237 [==============================] - 3s 14ms/step - loss: 0.0279 - accuracy: 0.9926 - val_loss: 1.4443 - val_accuracy: 0.6679\n",
            "Epoch 56/100\n",
            "237/237 [==============================] - 3s 14ms/step - loss: 0.0232 - accuracy: 0.9942 - val_loss: 1.8274 - val_accuracy: 0.6494\n",
            "Epoch 57/100\n",
            "237/237 [==============================] - 4s 15ms/step - loss: 0.0347 - accuracy: 0.9921 - val_loss: 1.5753 - val_accuracy: 0.6827\n",
            "Epoch 58/100\n",
            "237/237 [==============================] - 4s 15ms/step - loss: 0.0317 - accuracy: 0.9937 - val_loss: 1.2044 - val_accuracy: 0.6900\n",
            "Epoch 59/100\n",
            "237/237 [==============================] - 4s 15ms/step - loss: 0.0240 - accuracy: 0.9963 - val_loss: 1.0480 - val_accuracy: 0.7245\n",
            "Epoch 60/100\n",
            "237/237 [==============================] - 4s 15ms/step - loss: 0.0295 - accuracy: 0.9915 - val_loss: 1.1520 - val_accuracy: 0.7122\n",
            "Epoch 61/100\n",
            "237/237 [==============================] - 4s 15ms/step - loss: 0.0329 - accuracy: 0.9905 - val_loss: 1.8175 - val_accuracy: 0.6273\n",
            "Epoch 62/100\n",
            "237/237 [==============================] - 4s 15ms/step - loss: 0.0142 - accuracy: 0.9984 - val_loss: 1.0601 - val_accuracy: 0.7245\n",
            "Epoch 63/100\n",
            "237/237 [==============================] - 3s 14ms/step - loss: 0.0368 - accuracy: 0.9889 - val_loss: 1.4386 - val_accuracy: 0.6433\n",
            "Epoch 64/100\n",
            "237/237 [==============================] - 3s 14ms/step - loss: 0.0296 - accuracy: 0.9952 - val_loss: 1.0795 - val_accuracy: 0.7306\n",
            "Epoch 65/100\n",
            "237/237 [==============================] - 3s 14ms/step - loss: 0.0217 - accuracy: 0.9952 - val_loss: 1.1697 - val_accuracy: 0.7048\n",
            "Epoch 66/100\n",
            "237/237 [==============================] - 3s 14ms/step - loss: 0.0359 - accuracy: 0.9910 - val_loss: 1.5825 - val_accuracy: 0.6482\n",
            "Epoch 67/100\n",
            "237/237 [==============================] - 3s 14ms/step - loss: 0.0208 - accuracy: 0.9958 - val_loss: 0.9241 - val_accuracy: 0.7601\n",
            "Epoch 68/100\n",
            "237/237 [==============================] - 3s 14ms/step - loss: 0.0429 - accuracy: 0.9894 - val_loss: 1.4492 - val_accuracy: 0.6728\n",
            "Epoch 69/100\n",
            "237/237 [==============================] - 3s 14ms/step - loss: 0.0370 - accuracy: 0.9910 - val_loss: 1.1269 - val_accuracy: 0.7294\n",
            "Epoch 70/100\n",
            "237/237 [==============================] - 3s 14ms/step - loss: 0.0377 - accuracy: 0.9889 - val_loss: 1.1140 - val_accuracy: 0.7159\n",
            "Epoch 71/100\n",
            "237/237 [==============================] - 3s 14ms/step - loss: 0.0176 - accuracy: 0.9974 - val_loss: 1.1299 - val_accuracy: 0.7331\n",
            "Epoch 72/100\n",
            "237/237 [==============================] - 4s 15ms/step - loss: 0.0152 - accuracy: 0.9974 - val_loss: 1.2200 - val_accuracy: 0.6962\n",
            "Epoch 73/100\n",
            "237/237 [==============================] - 4s 15ms/step - loss: 0.0164 - accuracy: 0.9963 - val_loss: 0.9101 - val_accuracy: 0.7503\n",
            "Epoch 74/100\n",
            "237/237 [==============================] - 4s 15ms/step - loss: 0.0286 - accuracy: 0.9921 - val_loss: 2.5845 - val_accuracy: 0.5670\n",
            "Epoch 75/100\n",
            "237/237 [==============================] - 4s 15ms/step - loss: 0.0250 - accuracy: 0.9942 - val_loss: 1.5525 - val_accuracy: 0.6937\n",
            "Epoch 76/100\n",
            "237/237 [==============================] - 4s 15ms/step - loss: 0.0144 - accuracy: 0.9974 - val_loss: 0.9242 - val_accuracy: 0.7688\n",
            "Epoch 77/100\n",
            "237/237 [==============================] - 4s 15ms/step - loss: 0.0223 - accuracy: 0.9942 - val_loss: 1.1712 - val_accuracy: 0.7109\n",
            "Epoch 78/100\n",
            "237/237 [==============================] - 4s 15ms/step - loss: 0.0203 - accuracy: 0.9947 - val_loss: 1.5046 - val_accuracy: 0.6335\n",
            "Epoch 79/100\n",
            "237/237 [==============================] - 4s 15ms/step - loss: 0.0204 - accuracy: 0.9942 - val_loss: 0.8712 - val_accuracy: 0.7528\n",
            "Epoch 80/100\n",
            "237/237 [==============================] - 3s 14ms/step - loss: 0.0391 - accuracy: 0.9894 - val_loss: 1.6437 - val_accuracy: 0.6605\n",
            "Epoch 81/100\n",
            "237/237 [==============================] - 3s 14ms/step - loss: 0.0232 - accuracy: 0.9952 - val_loss: 2.0821 - val_accuracy: 0.6421\n",
            "Epoch 82/100\n",
            "237/237 [==============================] - 3s 14ms/step - loss: 0.0177 - accuracy: 0.9968 - val_loss: 1.3190 - val_accuracy: 0.6999\n",
            "Epoch 83/100\n",
            "237/237 [==============================] - 3s 14ms/step - loss: 0.0168 - accuracy: 0.9968 - val_loss: 1.4447 - val_accuracy: 0.6986\n",
            "Epoch 84/100\n",
            "237/237 [==============================] - 3s 14ms/step - loss: 0.0144 - accuracy: 0.9958 - val_loss: 1.2776 - val_accuracy: 0.7220\n",
            "Epoch 85/100\n",
            "237/237 [==============================] - 3s 14ms/step - loss: 0.0226 - accuracy: 0.9937 - val_loss: 1.9040 - val_accuracy: 0.6261\n",
            "Epoch 86/100\n",
            "237/237 [==============================] - 3s 14ms/step - loss: 0.0311 - accuracy: 0.9894 - val_loss: 1.1456 - val_accuracy: 0.7220\n",
            "Epoch 87/100\n",
            "237/237 [==============================] - 3s 14ms/step - loss: 0.0192 - accuracy: 0.9937 - val_loss: 1.1695 - val_accuracy: 0.7146\n",
            "Epoch 88/100\n",
            "237/237 [==============================] - 3s 14ms/step - loss: 0.0140 - accuracy: 0.9963 - val_loss: 1.0716 - val_accuracy: 0.7478\n",
            "Epoch 89/100\n",
            "237/237 [==============================] - 3s 14ms/step - loss: 0.0170 - accuracy: 0.9952 - val_loss: 1.2366 - val_accuracy: 0.7245\n",
            "Epoch 90/100\n",
            "237/237 [==============================] - 4s 15ms/step - loss: 0.0145 - accuracy: 0.9958 - val_loss: 1.3374 - val_accuracy: 0.7048\n",
            "Epoch 91/100\n",
            "237/237 [==============================] - 4s 15ms/step - loss: 0.0225 - accuracy: 0.9910 - val_loss: 1.1538 - val_accuracy: 0.7294\n",
            "Epoch 92/100\n",
            "237/237 [==============================] - 4s 15ms/step - loss: 0.0200 - accuracy: 0.9942 - val_loss: 1.0417 - val_accuracy: 0.7331\n",
            "Epoch 93/100\n",
            "237/237 [==============================] - 4s 15ms/step - loss: 0.0145 - accuracy: 0.9968 - val_loss: 1.0915 - val_accuracy: 0.7282\n",
            "Epoch 94/100\n",
            "237/237 [==============================] - 4s 15ms/step - loss: 0.0173 - accuracy: 0.9958 - val_loss: 1.0811 - val_accuracy: 0.7417\n",
            "Epoch 95/100\n",
            "237/237 [==============================] - 3s 14ms/step - loss: 0.0216 - accuracy: 0.9937 - val_loss: 1.4574 - val_accuracy: 0.6765\n",
            "Epoch 96/100\n",
            "237/237 [==============================] - 3s 14ms/step - loss: 0.0183 - accuracy: 0.9942 - val_loss: 1.1112 - val_accuracy: 0.7355\n",
            "Epoch 97/100\n",
            "237/237 [==============================] - 3s 14ms/step - loss: 0.0124 - accuracy: 0.9968 - val_loss: 1.5386 - val_accuracy: 0.6937\n",
            "Epoch 98/100\n",
            "237/237 [==============================] - 3s 14ms/step - loss: 0.0313 - accuracy: 0.9910 - val_loss: 2.0928 - val_accuracy: 0.6371\n",
            "Epoch 99/100\n",
            "237/237 [==============================] - 3s 14ms/step - loss: 0.0395 - accuracy: 0.9915 - val_loss: 1.2901 - val_accuracy: 0.7196\n",
            "Epoch 100/100\n",
            "237/237 [==============================] - 3s 14ms/step - loss: 0.0280 - accuracy: 0.9921 - val_loss: 1.2386 - val_accuracy: 0.7146\n",
            "102/102 [==============================] - 1s 7ms/step - loss: 0.9242 - accuracy: 0.7688\n",
            "final loss 0.9242328405380249, final acc 0.768757700920105\n",
            "7/7 [==============================] - 0s 8ms/step - loss: 1.7520 - accuracy: 0.6346\n",
            "test loss 1.752036452293396, test acc 0.6346153616905212\n"
          ],
          "name": "stdout"
        }
      ]
    },
    {
      "cell_type": "code",
      "metadata": {
        "id": "dKoyvFvqoT8_"
      },
      "source": [
        "# import os\n",
        "# import tarfile\n",
        "# def tardir(path, tar_name):\n",
        "#     os.chdir(r'C:\\Users\\Samuel\\Desktop')\n",
        "#     with tarfile.open(tar_name, \"w:gz\") as tar_handle:\n",
        "#         for root, dirs, files in os.walk(path):\n",
        "#             for file in files:\n",
        "#                 tar_handle.add(os.path.join(root, file))\n",
        "# tardir('data_v2', 'data_v2.tar.gz')\n",
        "# tar.close()"
      ],
      "execution_count": null,
      "outputs": []
    },
    {
      "cell_type": "code",
      "metadata": {
        "id": "svKt4JL8x1E_",
        "outputId": "8bcc385a-674a-4ce2-9514-af5696a74683",
        "colab": {
          "base_uri": "https://localhost:8080/"
        }
      },
      "source": [
        "print(len(y_pred_labels))\n",
        "len(y_pred_labels) == len(valid.file_paths)"
      ],
      "execution_count": 16,
      "outputs": [
        {
          "output_type": "stream",
          "text": [
            "813\n"
          ],
          "name": "stdout"
        },
        {
          "output_type": "execute_result",
          "data": {
            "text/plain": [
              "True"
            ]
          },
          "metadata": {
            "tags": []
          },
          "execution_count": 16
        }
      ]
    },
    {
      "cell_type": "code",
      "metadata": {
        "id": "B_Ha1h3s3bDH",
        "outputId": "4f2886e2-5a43-4152-f273-4e17d8332999",
        "colab": {
          "base_uri": "https://localhost:8080/"
        }
      },
      "source": [
        "valid.file_paths[:3]"
      ],
      "execution_count": 24,
      "outputs": [
        {
          "output_type": "execute_result",
          "data": {
            "text/plain": [
              "['/content/images/data_v2/val/iii/b35e61b4-ce5d-11eb-b317-38f9d35ea60f.png',\n",
              " '/content/images/data_v2/val/iii/b340e742-ce5d-11eb-b317-38f9d35ea60f.png',\n",
              " '/content/images/data_v2/val/viii/b2147dc0-ce5d-11eb-b317-38f9d35ea60f.png']"
            ]
          },
          "metadata": {
            "tags": []
          },
          "execution_count": 24
        }
      ]
    },
    {
      "cell_type": "code",
      "metadata": {
        "id": "UJSix8c5yE4z"
      },
      "source": [
        "import cv2\n",
        "import matplotlib.pyplot as plt\n",
        "\n",
        "def inspect_predictions(valid, rows=2, cols=3):\n",
        "    imgs = valid.file_paths\n",
        "    y_test_labels = [i.split('/')[-2] for i in imgs]\n",
        "    classes = valid.class_names\n",
        "    y_pred = [np.argmax(i) for i in model.predict(valid)]\n",
        "    y_pred_labels = [classes[i] for i in y_pred]\n",
        "\n",
        "    plt.figure(figsize=(3,3))\n",
        "    n = 0\n",
        "    nrows = rows\n",
        "    ncols = cols\n",
        "    fig, ax = plt.subplots(nrows,ncols,sharex=True,sharey=True)\n",
        "    for row in range(nrows):\n",
        "        for col in range(ncols):\n",
        "            ax[row,col].set_title(f\"Predicted label: {y_pred_labels[n]}\\nTrue label: {y_test_labels[n]}\")\n",
        "            ax[row,col].imshow((cv2.imread(imgs[n])))\n",
        "            n += 1"
      ],
      "execution_count": 60,
      "outputs": []
    },
    {
      "cell_type": "code",
      "metadata": {
        "id": "hj35yvNE1iLs",
        "outputId": "fd32a52a-a8bf-4b0a-debf-998785337257",
        "colab": {
          "base_uri": "https://localhost:8080/",
          "height": 367
        }
      },
      "source": [
        "inspect_predictions(valid, rows=2, cols=3)"
      ],
      "execution_count": 61,
      "outputs": [
        {
          "output_type": "display_data",
          "data": {
            "text/plain": [
              "<Figure size 216x216 with 0 Axes>"
            ]
          },
          "metadata": {
            "tags": []
          }
        },
        {
          "output_type": "display_data",
          "data": {
            "image/png": "[encoded data removed]",
            "text/plain": [
              "<Figure size 432x288 with 6 Axes>"
            ]
          },
          "metadata": {
            "tags": [],
            "needs_background": "light"
          }
        }
      ]
    },
    {
      "cell_type": "code",
      "metadata": {
        "id": "t3TOvCCsmk6S"
      },
      "source": [
        "# dir(valid)"
      ],
      "execution_count": 22,
      "outputs": []
    },
    {
      "cell_type": "code",
      "metadata": {
        "id": "YAxb6KKHd5D7"
      },
      "source": [
        "# tf.math.confusion_matrix(labels=b,predictions=y_pred_labels)\n",
        "# dir(valid)"
      ],
      "execution_count": null,
      "outputs": []
    }
  ]
}
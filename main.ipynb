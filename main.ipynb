{
  "nbformat": 4,
  "nbformat_minor": 0,
  "metadata": {
    "colab": {
      "name": "Untitled4.ipynb",
      "provenance": [],
      "authorship_tag": "ABX9TyO9img3Y9Ur4fHxdqYyzoRz",
      "include_colab_link": true
    },
    "kernelspec": {
      "name": "python3",
      "display_name": "Python 3"
    },
    "language_info": {
      "name": "python"
    },
    "accelerator": "GPU"
  },
  "cells": [
    {
      "cell_type": "markdown",
      "metadata": {
        "id": "view-in-github",
        "colab_type": "text"
      },
      "source": [
        "<a href=\"https://colab.research.google.com/github/KutuDev/DataCentricAIComp/blob/main/main.ipynb\" target=\"_parent\"><img src=\"https://colab.research.google.com/assets/colab-badge.svg\" alt=\"Open In Colab\"/></a>"
      ]
    },
    {
      "cell_type": "markdown",
      "metadata": {
        "id": "bHpFLzYN4MnD"
      },
      "source": [
        "[Announcement worksheet](https://worksheets.codalab.org/worksheets/0x7a8721f11e61436e93ac8f76da83f0e6)"
      ]
    },
    {
      "cell_type": "markdown",
      "metadata": {
        "id": "X-PQQoUv5EYI"
      },
      "source": [
        "[Leaderboard](https://https-deeplearning-ai.github.io/data-centric-comp/?utm_source=thebatch&utm_medium=newsletter&utm_campaign=dc-ai-competition&utm_content=dl-ai)"
      ]
    },
    {
      "cell_type": "markdown",
      "metadata": {
        "id": "P1MosTohoMOU"
      },
      "source": [
        "[Data inspection discoveries](https://drive.google.com/file/d/162_c0DDd9UdTN206I9Q7A6TmJg3Fay96/view?usp=sharing)"
      ]
    },
    {
      "cell_type": "markdown",
      "metadata": {
        "id": "NIEm0b8gkoWk"
      },
      "source": [
        "**Results**\n",
        "* 1. *Baseline dataset*\n",
        "        * Final acc: 0.67, Test acc: 0.52\n",
        "        * Final loss: 0.94, Test loss: 1.38\n",
        "\n",
        "* 2. *Data v2*\n",
        "        * Final acc: 0.78, Test acc: 0.69\n",
        "        * Final loss: 0.93, Test loss: 1.66"
      ]
    },
    {
      "cell_type": "markdown",
      "metadata": {
        "id": "QiZhb6Le4i6Z"
      },
      "source": [
        "**To-Dos**\n",
        "\n",
        "**Aim:** 0.95+ accuracy \n",
        "\n",
        "✅Train the resnet baseline model on their 3k plus data towards obtaining the 0.65 accuracy score. This might require include using their 32 by 32 pixel script for image resizing, deleting corrupted files, and fixing labels.\n",
        "\n",
        "✅Inspect the 3k+ images for bad labels, bad image, etc. Fix all anomalies found. \n",
        "\n",
        "✅Download and read papers that uses the Roman MNIST dataset. We can get links to the dataset and other useful information.  \n",
        "\n",
        "\n",
        "✅Inspect the image classes distribution and take necessary actions. It's important that the dataset isn't skewed. \n",
        "\n",
        "✅Use fastai's image data augmentation functions \n",
        "\n",
        "✅Gather more Roman MNIST data in an increase rate of not more than 10x of the 3k data size. This data gathering can be done using any means available, web scraping inclusive.\n",
        "\n",
        "**N.B:** At the end of each steps above, we retrain the baseline model on the dataset in order to observe the effect on the model accuracy score."
      ]
    },
    {
      "cell_type": "markdown",
      "metadata": {
        "id": "xj3RYY0Rqxqu"
      },
      "source": [
        "# Notes\n",
        "\n",
        "* RENAME EACH FILES. Add an auto-increment serial number at the start of each names. This would aid easy lookup of images. Doing this will require creating a doc that contains the previous and new name.\n",
        "* the noise on some images can be erased using photo editing tools. This tool can also be used for data augmentation such as crop, resize.\n",
        "* the images labelled as 'trash' in [Data inspection discoveries](https://drive.google.com/file/d/162_c0DDd9UdTN206I9Q7A6TmJg3Fay96/view?usp=sharing) should be moved to a new folder having a new class named 'unrecognized'\n",
        "\n",
        "* in the I folder, there are images that look like small figure 1\n",
        "* some images needs to be cropped\n",
        "* some images have 1/2 vertical noisy lines\n",
        "* in the II folder, some images written with marker are so small, hence, they appear like roman numeral I.\n",
        "* in the II folder, some images have a bottom vertical noisy line\n",
        "* images' stroke are either thick or thin\n",
        "* some images are small lettered roman numeral \n",
        "* some images are capital lettered roman numeral\n",
        "* some images are capita+bars lettered roman numeral\n",
        "* some images are dashes\n",
        "* images are black on white background"
      ]
    },
    {
      "cell_type": "code",
      "metadata": {
        "colab": {
          "base_uri": "https://localhost:8080/"
        },
        "id": "mBavItuW3fTg",
        "outputId": "c6db49f5-1b4f-404c-836e-74927c5e6bfe"
      },
      "source": [
        "!git clone https://github.com/KutuDev/DataCentricAIComp"
      ],
      "execution_count": 1,
      "outputs": [
        {
          "output_type": "stream",
          "text": [
            "fatal: destination path 'DataCentricAIComp' already exists and is not an empty directory.\n"
          ],
          "name": "stdout"
        }
      ]
    },
    {
      "cell_type": "code",
      "metadata": {
        "id": "TNs1zvkp3qbv"
      },
      "source": [
        "def unzipper(in_folderPath, out_folderPath):\n",
        "    import tarfile\n",
        "\n",
        "    file = tarfile.open(in_folderPath)\n",
        "    file.extractall(out_folderPath)\n",
        "    file.close()\n"
      ],
      "execution_count": 2,
      "outputs": []
    },
    {
      "cell_type": "code",
      "metadata": {
        "id": "UQm38TFf5A0o"
      },
      "source": [
        "dataset_name = 'data_v2' \n",
        "\n",
        "unzipper(in_folderPath=f'/content/DataCentricAIComp/{dataset_name}.tar.gz', out_folderPath='./images')\n",
        "unzipper(in_folderPath='/content/DataCentricAIComp/label_book.tar.gz', out_folderPath='./images')"
      ],
      "execution_count": 4,
      "outputs": []
    },
    {
      "cell_type": "code",
      "metadata": {
        "colab": {
          "base_uri": "https://localhost:8080/",
          "height": 35
        },
        "id": "51x_efjdj8aS",
        "outputId": "bf6c47b7-a653-4d73-bc57-bd61cbc763ea"
      },
      "source": [
        "import shutil\n",
        "\n",
        "shutil.move(f\"/content/images/Users/Samuel/Desktop/{dataset_name}\", \"/content/images\")"
      ],
      "execution_count": 6,
      "outputs": [
        {
          "output_type": "execute_result",
          "data": {
            "application/vnd.google.colaboratory.intrinsic+json": {
              "type": "string"
            },
            "text/plain": [
              "'/content/images/data_v2'"
            ]
          },
          "metadata": {
            "tags": []
          },
          "execution_count": 6
        }
      ]
    },
    {
      "cell_type": "code",
      "metadata": {
        "id": "lTnruT3c7UQk"
      },
      "source": [
        "# !pip install pysimplegui"
      ],
      "execution_count": null,
      "outputs": []
    },
    {
      "cell_type": "code",
      "metadata": {
        "id": "Ml8h2fNe93my"
      },
      "source": [
        "# !apt-get install -y xvfb # Install X Virtual Frame Buffer\n",
        "# import os\n",
        "# os.system('Xvfb :1 -screen 0 1600x1200x16  &')    # create virtual display with size 1600x1200 and 16 bit color. Color can be changed to 24 or 8\n",
        "# os.environ['DISPLAY']=':1.0'    # tell X clients to use our virtual DISPLAY :1.0"
      ],
      "execution_count": null,
      "outputs": []
    },
    {
      "cell_type": "code",
      "metadata": {
        "id": "f3DbbEMB7ZA2"
      },
      "source": [
        "# !python '/content/DataCentricAIComp/annotgui.py'"
      ],
      "execution_count": null,
      "outputs": []
    },
    {
      "cell_type": "code",
      "metadata": {
        "id": "TfDIr8zpROj-",
        "colab": {
          "base_uri": "https://localhost:8080/"
        },
        "outputId": "a4c5dea6-ee9a-4177-c6dc-92fe12d88fd7"
      },
      "source": [
        "import tensorflow as tf\n",
        "from tensorflow import keras\n",
        "import numpy as np\n",
        "import json\n",
        "import sys\n",
        "\n",
        "directory = \"/content/images\" \n",
        "user_data = directory + f\"/{dataset_name}\"\n",
        "valid_data = directory + f\"/{dataset_name}\"\n",
        "test_data = directory + \"/label_book\" # this can be the label book, or any other test set you create\n",
        "\n",
        "### DO NOT MODIFY BELOW THIS LINE, THIS IS THE FIXED MODEL ###\n",
        "batch_size = 8\n",
        "tf.random.set_seed(123)\n",
        "\n",
        "\n",
        "if __name__ == \"__main__\":\n",
        "    train = tf.keras.preprocessing.image_dataset_from_directory(\n",
        "        user_data + '/train',\n",
        "        labels=\"inferred\",\n",
        "        label_mode=\"categorical\",\n",
        "        class_names=[\"i\", \"ii\", \"iii\", \"iv\", \"v\", \"vi\", \"vii\", \"viii\", \"ix\", \"x\"],\n",
        "        shuffle=True,\n",
        "        seed=123,\n",
        "        batch_size=batch_size,\n",
        "        image_size=(32, 32),\n",
        "    )\n",
        "\n",
        "    valid = tf.keras.preprocessing.image_dataset_from_directory(\n",
        "        user_data + '/val',\n",
        "        labels=\"inferred\",\n",
        "        label_mode=\"categorical\",\n",
        "        class_names=[\"i\", \"ii\", \"iii\", \"iv\", \"v\", \"vi\", \"vii\", \"viii\", \"ix\", \"x\"],\n",
        "        shuffle=True,\n",
        "        seed=123,\n",
        "        batch_size=batch_size,\n",
        "        image_size=(32, 32),\n",
        "    )\n",
        "\n",
        "    total_length = ((train.cardinality() + valid.cardinality()) * batch_size).numpy()\n",
        "    if total_length > 10_000:\n",
        "        print(f\"Dataset size larger than 10,000. Got {total_length} examples\")\n",
        "        sys.exit()\n",
        "\n",
        "    test = tf.keras.preprocessing.image_dataset_from_directory(\n",
        "        test_data,\n",
        "        labels=\"inferred\",\n",
        "        label_mode=\"categorical\",\n",
        "        class_names=[\"i\", \"ii\", \"iii\", \"iv\", \"v\", \"vi\", \"vii\", \"viii\", \"ix\", \"x\"],\n",
        "        shuffle=False,\n",
        "        seed=123,\n",
        "        batch_size=batch_size,\n",
        "        image_size=(32, 32),\n",
        "    )\n",
        "\n",
        "    base_model = tf.keras.applications.ResNet50(\n",
        "        input_shape=(32, 32, 3),\n",
        "        include_top=False,\n",
        "        weights=None,\n",
        "    )\n",
        "    base_model = tf.keras.Model(\n",
        "        base_model.inputs, outputs=[base_model.get_layer(\"conv2_block3_out\").output]\n",
        "    )\n",
        "\n",
        "    inputs = tf.keras.Input(shape=(32, 32, 3))\n",
        "    x = tf.keras.applications.resnet.preprocess_input(inputs)\n",
        "    x = base_model(x)\n",
        "    x = tf.keras.layers.GlobalAveragePooling2D()(x)\n",
        "    x = tf.keras.layers.Dense(10)(x)\n",
        "    model = tf.keras.Model(inputs, x)\n",
        "\n",
        "    model.compile(\n",
        "        optimizer=tf.keras.optimizers.Adam(lr=0.0001),\n",
        "        loss=tf.keras.losses.CategoricalCrossentropy(from_logits=True),\n",
        "        metrics=[\"accuracy\"],\n",
        "    )\n",
        "    model.summary()\n",
        "    loss_0, acc_0 = model.evaluate(valid)\n",
        "    print(f\"loss {loss_0}, acc {acc_0}\")\n",
        "\n",
        "    checkpoint = tf.keras.callbacks.ModelCheckpoint(\n",
        "        \"best_model\",\n",
        "        monitor=\"val_accuracy\",\n",
        "        mode=\"max\",\n",
        "        save_best_only=True,\n",
        "        save_weights_only=True,\n",
        "    )\n",
        "\n",
        "    history = model.fit(\n",
        "        train,\n",
        "        validation_data=valid,\n",
        "        epochs=100,\n",
        "        callbacks=[checkpoint],\n",
        "    )\n",
        "\n",
        "    model.load_weights(\"best_model\")\n",
        "\n",
        "    loss, acc = model.evaluate(valid)\n",
        "    print(f\"final loss {loss}, final acc {acc}\")\n",
        "\n",
        "    test_loss, test_acc = model.evaluate(test)\n",
        "    print(f\"test loss {test_loss}, test acc {test_acc}\")"
      ],
      "execution_count": 7,
      "outputs": [
        {
          "output_type": "stream",
          "text": [
            "Found 1892 files belonging to 10 classes.\n",
            "Found 813 files belonging to 10 classes.\n",
            "Found 52 files belonging to 10 classes.\n"
          ],
          "name": "stdout"
        },
        {
          "output_type": "stream",
          "text": [
            "/usr/local/lib/python3.7/dist-packages/tensorflow/python/keras/optimizer_v2/optimizer_v2.py:375: UserWarning: The `lr` argument is deprecated, use `learning_rate` instead.\n",
            "  \"The `lr` argument is deprecated, use `learning_rate` instead.\")\n"
          ],
          "name": "stderr"
        },
        {
          "output_type": "stream",
          "text": [
            "Model: \"model_1\"\n",
            "_________________________________________________________________\n",
            "Layer (type)                 Output Shape              Param #   \n",
            "=================================================================\n",
            "input_2 (InputLayer)         [(None, 32, 32, 3)]       0         \n",
            "_________________________________________________________________\n",
            "tf.__operators__.getitem (Sl (None, 32, 32, 3)         0         \n",
            "_________________________________________________________________\n",
            "tf.nn.bias_add (TFOpLambda)  (None, 32, 32, 3)         0         \n",
            "_________________________________________________________________\n",
            "model (Functional)           (None, 8, 8, 256)         229760    \n",
            "_________________________________________________________________\n",
            "global_average_pooling2d (Gl (None, 256)               0         \n",
            "_________________________________________________________________\n",
            "dense (Dense)                (None, 10)                2570      \n",
            "=================================================================\n",
            "Total params: 232,330\n",
            "Trainable params: 229,386\n",
            "Non-trainable params: 2,944\n",
            "_________________________________________________________________\n",
            "102/102 [==============================] - 31s 8ms/step - loss: 33.4250 - accuracy: 0.0996\n",
            "loss 33.425010681152344, acc 0.09963099658489227\n",
            "Epoch 1/100\n",
            "237/237 [==============================] - 6s 14ms/step - loss: 1.9588 - accuracy: 0.3293 - val_loss: 1.9277 - val_accuracy: 0.2706\n",
            "Epoch 2/100\n",
            "237/237 [==============================] - 3s 14ms/step - loss: 1.3265 - accuracy: 0.5872 - val_loss: 1.6057 - val_accuracy: 0.4182\n",
            "Epoch 3/100\n",
            "237/237 [==============================] - 3s 14ms/step - loss: 1.0506 - accuracy: 0.6786 - val_loss: 1.7009 - val_accuracy: 0.3948\n",
            "Epoch 4/100\n",
            "237/237 [==============================] - 3s 14ms/step - loss: 0.8741 - accuracy: 0.7283 - val_loss: 1.2760 - val_accuracy: 0.5326\n",
            "Epoch 5/100\n",
            "237/237 [==============================] - 4s 15ms/step - loss: 0.6950 - accuracy: 0.7812 - val_loss: 1.1579 - val_accuracy: 0.5892\n",
            "Epoch 6/100\n",
            "237/237 [==============================] - 4s 15ms/step - loss: 0.5766 - accuracy: 0.8362 - val_loss: 0.9447 - val_accuracy: 0.6790\n",
            "Epoch 7/100\n",
            "237/237 [==============================] - 4s 15ms/step - loss: 0.4908 - accuracy: 0.8599 - val_loss: 0.9337 - val_accuracy: 0.6851\n",
            "Epoch 8/100\n",
            "237/237 [==============================] - 4s 15ms/step - loss: 0.4323 - accuracy: 0.8716 - val_loss: 1.1978 - val_accuracy: 0.6052\n",
            "Epoch 9/100\n",
            "237/237 [==============================] - 4s 15ms/step - loss: 0.3866 - accuracy: 0.8953 - val_loss: 0.8413 - val_accuracy: 0.7122\n",
            "Epoch 10/100\n",
            "237/237 [==============================] - 4s 15ms/step - loss: 0.3061 - accuracy: 0.9186 - val_loss: 0.8849 - val_accuracy: 0.7048\n",
            "Epoch 11/100\n",
            "237/237 [==============================] - 3s 14ms/step - loss: 0.2960 - accuracy: 0.9239 - val_loss: 0.9375 - val_accuracy: 0.6900\n",
            "Epoch 12/100\n",
            "237/237 [==============================] - 3s 14ms/step - loss: 0.2379 - accuracy: 0.9461 - val_loss: 1.3973 - val_accuracy: 0.5818\n",
            "Epoch 13/100\n",
            "237/237 [==============================] - 3s 14ms/step - loss: 0.2296 - accuracy: 0.9477 - val_loss: 0.8591 - val_accuracy: 0.7245\n",
            "Epoch 14/100\n",
            "237/237 [==============================] - 3s 14ms/step - loss: 0.2010 - accuracy: 0.9461 - val_loss: 0.8851 - val_accuracy: 0.7122\n",
            "Epoch 15/100\n",
            "237/237 [==============================] - 3s 14ms/step - loss: 0.1618 - accuracy: 0.9604 - val_loss: 0.8893 - val_accuracy: 0.7183\n",
            "Epoch 16/100\n",
            "237/237 [==============================] - 3s 14ms/step - loss: 0.1546 - accuracy: 0.9725 - val_loss: 0.9352 - val_accuracy: 0.7097\n",
            "Epoch 17/100\n",
            "237/237 [==============================] - 3s 14ms/step - loss: 0.1321 - accuracy: 0.9725 - val_loss: 1.0596 - val_accuracy: 0.6544\n",
            "Epoch 18/100\n",
            "237/237 [==============================] - 3s 14ms/step - loss: 0.1285 - accuracy: 0.9773 - val_loss: 0.8920 - val_accuracy: 0.7306\n",
            "Epoch 19/100\n",
            "237/237 [==============================] - 3s 14ms/step - loss: 0.1252 - accuracy: 0.9704 - val_loss: 1.2699 - val_accuracy: 0.6470\n",
            "Epoch 20/100\n",
            "237/237 [==============================] - 4s 15ms/step - loss: 0.0964 - accuracy: 0.9820 - val_loss: 0.8096 - val_accuracy: 0.7663\n",
            "Epoch 21/100\n",
            "237/237 [==============================] - 4s 15ms/step - loss: 0.0938 - accuracy: 0.9831 - val_loss: 1.0532 - val_accuracy: 0.6913\n",
            "Epoch 22/100\n",
            "237/237 [==============================] - 4s 15ms/step - loss: 0.1183 - accuracy: 0.9693 - val_loss: 1.2772 - val_accuracy: 0.6605\n",
            "Epoch 23/100\n",
            "237/237 [==============================] - 4s 15ms/step - loss: 0.0863 - accuracy: 0.9841 - val_loss: 1.0381 - val_accuracy: 0.7036\n",
            "Epoch 24/100\n",
            "237/237 [==============================] - 4s 15ms/step - loss: 0.0660 - accuracy: 0.9889 - val_loss: 1.0598 - val_accuracy: 0.7036\n",
            "Epoch 25/100\n",
            "237/237 [==============================] - 4s 15ms/step - loss: 0.0746 - accuracy: 0.9857 - val_loss: 1.2793 - val_accuracy: 0.6396\n",
            "Epoch 26/100\n",
            "237/237 [==============================] - 4s 15ms/step - loss: 0.0715 - accuracy: 0.9852 - val_loss: 1.2331 - val_accuracy: 0.6728\n",
            "Epoch 27/100\n",
            "237/237 [==============================] - 3s 14ms/step - loss: 0.0602 - accuracy: 0.9915 - val_loss: 1.1454 - val_accuracy: 0.6593\n",
            "Epoch 28/100\n",
            "237/237 [==============================] - 3s 15ms/step - loss: 0.0537 - accuracy: 0.9894 - val_loss: 0.9330 - val_accuracy: 0.7331\n",
            "Epoch 29/100\n",
            "237/237 [==============================] - 3s 14ms/step - loss: 0.0481 - accuracy: 0.9931 - val_loss: 1.3685 - val_accuracy: 0.6470\n",
            "Epoch 30/100\n",
            "237/237 [==============================] - 3s 14ms/step - loss: 0.0668 - accuracy: 0.9852 - val_loss: 1.2874 - val_accuracy: 0.6261\n",
            "Epoch 31/100\n",
            "237/237 [==============================] - 3s 14ms/step - loss: 0.0475 - accuracy: 0.9915 - val_loss: 1.0888 - val_accuracy: 0.7073\n",
            "Epoch 32/100\n",
            "237/237 [==============================] - 3s 14ms/step - loss: 0.0633 - accuracy: 0.9863 - val_loss: 1.0542 - val_accuracy: 0.7196\n",
            "Epoch 33/100\n",
            "237/237 [==============================] - 4s 15ms/step - loss: 0.0428 - accuracy: 0.9915 - val_loss: 1.6905 - val_accuracy: 0.6076\n",
            "Epoch 34/100\n",
            "237/237 [==============================] - 3s 15ms/step - loss: 0.0536 - accuracy: 0.9857 - val_loss: 0.9829 - val_accuracy: 0.7269\n",
            "Epoch 35/100\n",
            "237/237 [==============================] - 4s 18ms/step - loss: 0.0432 - accuracy: 0.9905 - val_loss: 0.9135 - val_accuracy: 0.7294\n",
            "Epoch 36/100\n",
            "237/237 [==============================] - 4s 16ms/step - loss: 0.0558 - accuracy: 0.9857 - val_loss: 1.1554 - val_accuracy: 0.6999\n",
            "Epoch 37/100\n",
            "237/237 [==============================] - 4s 15ms/step - loss: 0.0536 - accuracy: 0.9868 - val_loss: 1.4369 - val_accuracy: 0.6790\n",
            "Epoch 38/100\n",
            "237/237 [==============================] - 4s 15ms/step - loss: 0.0547 - accuracy: 0.9873 - val_loss: 1.4892 - val_accuracy: 0.6507\n",
            "Epoch 39/100\n",
            "237/237 [==============================] - 4s 15ms/step - loss: 0.0464 - accuracy: 0.9910 - val_loss: 1.0503 - val_accuracy: 0.6950\n",
            "Epoch 40/100\n",
            "237/237 [==============================] - 4s 15ms/step - loss: 0.0324 - accuracy: 0.9931 - val_loss: 1.3435 - val_accuracy: 0.6704\n",
            "Epoch 41/100\n",
            "237/237 [==============================] - 4s 15ms/step - loss: 0.0453 - accuracy: 0.9878 - val_loss: 1.0540 - val_accuracy: 0.7036\n",
            "Epoch 42/100\n",
            "237/237 [==============================] - 4s 16ms/step - loss: 0.0289 - accuracy: 0.9963 - val_loss: 1.2914 - val_accuracy: 0.6827\n",
            "Epoch 43/100\n",
            "237/237 [==============================] - 4s 16ms/step - loss: 0.0377 - accuracy: 0.9900 - val_loss: 1.1995 - val_accuracy: 0.7085\n",
            "Epoch 44/100\n",
            "237/237 [==============================] - 4s 16ms/step - loss: 0.0430 - accuracy: 0.9921 - val_loss: 1.2611 - val_accuracy: 0.7232\n",
            "Epoch 45/100\n",
            "237/237 [==============================] - 4s 16ms/step - loss: 0.0270 - accuracy: 0.9947 - val_loss: 0.9495 - val_accuracy: 0.7331\n",
            "Epoch 46/100\n",
            "237/237 [==============================] - 4s 16ms/step - loss: 0.0375 - accuracy: 0.9900 - val_loss: 1.5893 - val_accuracy: 0.6507\n",
            "Epoch 47/100\n",
            "237/237 [==============================] - 4s 16ms/step - loss: 0.0474 - accuracy: 0.9905 - val_loss: 1.1358 - val_accuracy: 0.7109\n",
            "Epoch 48/100\n",
            "237/237 [==============================] - 4s 15ms/step - loss: 0.0191 - accuracy: 0.9984 - val_loss: 1.0092 - val_accuracy: 0.7208\n",
            "Epoch 49/100\n",
            "237/237 [==============================] - 4s 15ms/step - loss: 0.0315 - accuracy: 0.9931 - val_loss: 1.8837 - val_accuracy: 0.6224\n",
            "Epoch 50/100\n",
            "237/237 [==============================] - 4s 15ms/step - loss: 0.0205 - accuracy: 0.9974 - val_loss: 1.2024 - val_accuracy: 0.7282\n",
            "Epoch 51/100\n",
            "237/237 [==============================] - 3s 14ms/step - loss: 0.0217 - accuracy: 0.9963 - val_loss: 1.1356 - val_accuracy: 0.7060\n",
            "Epoch 52/100\n",
            "237/237 [==============================] - 4s 15ms/step - loss: 0.0496 - accuracy: 0.9847 - val_loss: 2.4404 - val_accuracy: 0.4686\n",
            "Epoch 53/100\n",
            "237/237 [==============================] - 4s 15ms/step - loss: 0.0410 - accuracy: 0.9863 - val_loss: 1.3366 - val_accuracy: 0.6839\n",
            "Epoch 54/100\n",
            "237/237 [==============================] - 4s 15ms/step - loss: 0.0522 - accuracy: 0.9847 - val_loss: 1.1940 - val_accuracy: 0.7085\n",
            "Epoch 55/100\n",
            "237/237 [==============================] - 4s 15ms/step - loss: 0.0261 - accuracy: 0.9947 - val_loss: 0.8822 - val_accuracy: 0.7675\n",
            "Epoch 56/100\n",
            "237/237 [==============================] - 4s 15ms/step - loss: 0.0392 - accuracy: 0.9894 - val_loss: 1.5233 - val_accuracy: 0.6581\n",
            "Epoch 57/100\n",
            "237/237 [==============================] - 4s 16ms/step - loss: 0.0409 - accuracy: 0.9873 - val_loss: 1.0953 - val_accuracy: 0.7159\n",
            "Epoch 58/100\n",
            "237/237 [==============================] - 4s 16ms/step - loss: 0.0364 - accuracy: 0.9921 - val_loss: 1.7787 - val_accuracy: 0.6777\n",
            "Epoch 59/100\n",
            "237/237 [==============================] - 4s 16ms/step - loss: 0.0205 - accuracy: 0.9958 - val_loss: 0.9610 - val_accuracy: 0.7675\n",
            "Epoch 60/100\n",
            "237/237 [==============================] - 4s 16ms/step - loss: 0.0174 - accuracy: 0.9968 - val_loss: 0.9111 - val_accuracy: 0.7528\n",
            "Epoch 61/100\n",
            "237/237 [==============================] - 4s 16ms/step - loss: 0.0184 - accuracy: 0.9968 - val_loss: 1.0845 - val_accuracy: 0.7368\n",
            "Epoch 62/100\n",
            "237/237 [==============================] - 4s 15ms/step - loss: 0.0153 - accuracy: 0.9963 - val_loss: 1.3989 - val_accuracy: 0.6691\n",
            "Epoch 63/100\n",
            "237/237 [==============================] - 4s 15ms/step - loss: 0.0212 - accuracy: 0.9952 - val_loss: 1.1202 - val_accuracy: 0.7269\n",
            "Epoch 64/100\n",
            "237/237 [==============================] - 4s 15ms/step - loss: 0.0203 - accuracy: 0.9968 - val_loss: 1.3592 - val_accuracy: 0.7306\n",
            "Epoch 65/100\n",
            "237/237 [==============================] - 3s 15ms/step - loss: 0.0468 - accuracy: 0.9857 - val_loss: 1.8994 - val_accuracy: 0.6396\n",
            "Epoch 66/100\n",
            "237/237 [==============================] - 3s 14ms/step - loss: 0.0352 - accuracy: 0.9900 - val_loss: 1.2808 - val_accuracy: 0.6986\n",
            "Epoch 67/100\n",
            "237/237 [==============================] - 3s 14ms/step - loss: 0.0351 - accuracy: 0.9910 - val_loss: 1.3003 - val_accuracy: 0.7048\n",
            "Epoch 68/100\n",
            "237/237 [==============================] - 3s 14ms/step - loss: 0.0288 - accuracy: 0.9937 - val_loss: 1.1690 - val_accuracy: 0.7073\n",
            "Epoch 69/100\n",
            "237/237 [==============================] - 3s 14ms/step - loss: 0.0213 - accuracy: 0.9952 - val_loss: 1.3965 - val_accuracy: 0.6974\n",
            "Epoch 70/100\n",
            "237/237 [==============================] - 3s 14ms/step - loss: 0.0336 - accuracy: 0.9926 - val_loss: 1.3068 - val_accuracy: 0.6913\n",
            "Epoch 71/100\n",
            "237/237 [==============================] - 3s 14ms/step - loss: 0.0234 - accuracy: 0.9947 - val_loss: 1.0153 - val_accuracy: 0.7442\n",
            "Epoch 72/100\n",
            "237/237 [==============================] - 4s 15ms/step - loss: 0.0114 - accuracy: 0.9984 - val_loss: 1.3764 - val_accuracy: 0.7060\n",
            "Epoch 73/100\n",
            "237/237 [==============================] - 4s 15ms/step - loss: 0.0148 - accuracy: 0.9968 - val_loss: 1.3397 - val_accuracy: 0.7085\n",
            "Epoch 74/100\n",
            "237/237 [==============================] - 4s 15ms/step - loss: 0.0177 - accuracy: 0.9963 - val_loss: 1.9211 - val_accuracy: 0.6359\n",
            "Epoch 75/100\n",
            "237/237 [==============================] - 4s 15ms/step - loss: 0.0307 - accuracy: 0.9900 - val_loss: 1.3316 - val_accuracy: 0.6716\n",
            "Epoch 76/100\n",
            "237/237 [==============================] - 4s 15ms/step - loss: 0.0329 - accuracy: 0.9921 - val_loss: 1.1352 - val_accuracy: 0.7343\n",
            "Epoch 77/100\n",
            "237/237 [==============================] - 4s 15ms/step - loss: 0.0168 - accuracy: 0.9974 - val_loss: 1.4165 - val_accuracy: 0.7073\n",
            "Epoch 78/100\n",
            "237/237 [==============================] - 4s 15ms/step - loss: 0.0268 - accuracy: 0.9942 - val_loss: 1.2443 - val_accuracy: 0.7294\n",
            "Epoch 79/100\n",
            "237/237 [==============================] - 3s 14ms/step - loss: 0.0196 - accuracy: 0.9974 - val_loss: 1.0907 - val_accuracy: 0.7429\n",
            "Epoch 80/100\n",
            "237/237 [==============================] - 3s 14ms/step - loss: 0.0282 - accuracy: 0.9926 - val_loss: 1.0936 - val_accuracy: 0.7171\n",
            "Epoch 81/100\n",
            "237/237 [==============================] - 3s 14ms/step - loss: 0.0102 - accuracy: 0.9984 - val_loss: 1.1045 - val_accuracy: 0.7294\n",
            "Epoch 82/100\n",
            "237/237 [==============================] - 3s 14ms/step - loss: 0.0293 - accuracy: 0.9921 - val_loss: 1.3654 - val_accuracy: 0.6581\n",
            "Epoch 83/100\n",
            "237/237 [==============================] - 3s 14ms/step - loss: 0.0168 - accuracy: 0.9974 - val_loss: 1.9543 - val_accuracy: 0.6802\n",
            "Epoch 84/100\n",
            "237/237 [==============================] - 3s 14ms/step - loss: 0.0101 - accuracy: 0.9984 - val_loss: 0.9319 - val_accuracy: 0.7823\n",
            "Epoch 85/100\n",
            "237/237 [==============================] - 3s 14ms/step - loss: 0.0089 - accuracy: 0.9989 - val_loss: 1.3062 - val_accuracy: 0.7036\n",
            "Epoch 86/100\n",
            "237/237 [==============================] - 3s 15ms/step - loss: 0.0209 - accuracy: 0.9942 - val_loss: 1.2209 - val_accuracy: 0.7122\n",
            "Epoch 87/100\n",
            "237/237 [==============================] - 3s 15ms/step - loss: 0.0233 - accuracy: 0.9942 - val_loss: 1.3170 - val_accuracy: 0.6999\n",
            "Epoch 88/100\n",
            "237/237 [==============================] - 4s 15ms/step - loss: 0.0182 - accuracy: 0.9947 - val_loss: 0.9942 - val_accuracy: 0.7601\n",
            "Epoch 89/100\n",
            "237/237 [==============================] - 4s 16ms/step - loss: 0.0171 - accuracy: 0.9942 - val_loss: 1.1145 - val_accuracy: 0.7343\n",
            "Epoch 90/100\n",
            "237/237 [==============================] - 4s 15ms/step - loss: 0.0188 - accuracy: 0.9926 - val_loss: 1.0689 - val_accuracy: 0.7319\n",
            "Epoch 91/100\n",
            "237/237 [==============================] - 4s 16ms/step - loss: 0.0443 - accuracy: 0.9852 - val_loss: 1.6615 - val_accuracy: 0.6396\n",
            "Epoch 92/100\n",
            "237/237 [==============================] - 4s 16ms/step - loss: 0.0301 - accuracy: 0.9910 - val_loss: 1.3209 - val_accuracy: 0.7060\n",
            "Epoch 93/100\n",
            "237/237 [==============================] - 4s 15ms/step - loss: 0.0178 - accuracy: 0.9947 - val_loss: 1.2244 - val_accuracy: 0.7159\n",
            "Epoch 94/100\n",
            "237/237 [==============================] - 4s 15ms/step - loss: 0.0179 - accuracy: 0.9952 - val_loss: 0.9299 - val_accuracy: 0.7552\n",
            "Epoch 95/100\n",
            "237/237 [==============================] - 3s 14ms/step - loss: 0.0076 - accuracy: 0.9989 - val_loss: 0.9295 - val_accuracy: 0.7601\n",
            "Epoch 96/100\n",
            "237/237 [==============================] - 3s 14ms/step - loss: 0.0091 - accuracy: 0.9979 - val_loss: 0.9097 - val_accuracy: 0.7786\n",
            "Epoch 97/100\n",
            "237/237 [==============================] - 3s 15ms/step - loss: 0.0069 - accuracy: 0.9995 - val_loss: 1.1827 - val_accuracy: 0.7232\n",
            "Epoch 98/100\n",
            "237/237 [==============================] - 3s 14ms/step - loss: 0.0164 - accuracy: 0.9968 - val_loss: 1.8131 - val_accuracy: 0.6458\n",
            "Epoch 99/100\n",
            "237/237 [==============================] - 3s 14ms/step - loss: 0.0252 - accuracy: 0.9947 - val_loss: 1.1296 - val_accuracy: 0.7368\n",
            "Epoch 100/100\n",
            "237/237 [==============================] - 3s 14ms/step - loss: 0.0225 - accuracy: 0.9947 - val_loss: 1.1292 - val_accuracy: 0.7515\n",
            "102/102 [==============================] - 1s 8ms/step - loss: 0.9319 - accuracy: 0.7823\n",
            "final loss 0.9319325089454651, final acc 0.7822878360748291\n",
            "7/7 [==============================] - 0s 8ms/step - loss: 1.6591 - accuracy: 0.6923\n",
            "test loss 1.659098744392395, test acc 0.692307710647583\n"
          ],
          "name": "stdout"
        }
      ]
    },
    {
      "cell_type": "code",
      "metadata": {
        "id": "dKoyvFvqoT8_"
      },
      "source": [
        "# import os\n",
        "# import tarfile\n",
        "# def tardir(path, tar_name):\n",
        "#     os.chdir(r'C:\\Users\\Samuel\\Desktop')\n",
        "#     with tarfile.open(tar_name, \"w:gz\") as tar_handle:\n",
        "#         for root, dirs, files in os.walk(path):\n",
        "#             for file in files:\n",
        "#                 tar_handle.add(os.path.join(root, file))\n",
        "# tardir('data_v2', 'data_v2.tar.gz')\n",
        "# tar.close()"
      ],
      "execution_count": null,
      "outputs": []
    }
  ]
}
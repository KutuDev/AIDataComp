{
  "nbformat": 4,
  "nbformat_minor": 0,
  "metadata": {
    "colab": {
      "name": "Untitled4.ipynb",
      "provenance": [],
      "authorship_tag": "ABX9TyPb8Q9wQeUayfLv68v53ghU",
      "include_colab_link": true
    },
    "kernelspec": {
      "name": "python3",
      "display_name": "Python 3"
    },
    "language_info": {
      "name": "python"
    },
    "accelerator": "GPU"
  },
  "cells": [
    {
      "cell_type": "markdown",
      "metadata": {
        "id": "view-in-github",
        "colab_type": "text"
      },
      "source": [
        "<a href=\"https://colab.research.google.com/github/KutuDev/AIDataComp/blob/main/main.ipynb\" target=\"_parent\"><img src=\"https://colab.research.google.com/assets/colab-badge.svg\" alt=\"Open In Colab\"/></a>"
      ]
    },
    {
      "cell_type": "markdown",
      "metadata": {
        "id": "bHpFLzYN4MnD"
      },
      "source": [
        "[Announcement worksheet](https://worksheets.codalab.org/worksheets/0x7a8721f11e61436e93ac8f76da83f0e6)"
      ]
    },
    {
      "cell_type": "markdown",
      "metadata": {
        "id": "X-PQQoUv5EYI"
      },
      "source": [
        "[Leaderboard](https://https-deeplearning-ai.github.io/data-centric-comp/?utm_source=thebatch&utm_medium=newsletter&utm_campaign=dc-ai-competition&utm_content=dl-ai)"
      ]
    },
    {
      "cell_type": "markdown",
      "metadata": {
        "id": "P1MosTohoMOU"
      },
      "source": [
        "[Data inspection discoveries](https://drive.google.com/file/d/162_c0DDd9UdTN206I9Q7A6TmJg3Fay96/view?usp=sharing)"
      ]
    },
    {
      "cell_type": "markdown",
      "metadata": {
        "id": "NIEm0b8gkoWk"
      },
      "source": [
        "**Results**\n",
        "* 1. *Baseline dataset*\n",
        "        * Final acc: 0.67, Test acc: 0.52\n",
        "        * Final acc: 0.94, Test loss: 1.38\n",
        "\n",
        "* 2. *Data v2*\n",
        "        * Final acc: 0.78, Test acc: 0.69\n",
        "        * Final acc: 0.93, Test loss: 1.66\n",
        "\n",
        "* 3. *Data v3*\n",
        "        * Final acc: 0.83, Test acc: 0.72\n",
        "        * Final acc: 0.096, Test loss: 12.30"
      ]
    },
    {
      "cell_type": "markdown",
      "metadata": {
        "id": "QiZhb6Le4i6Z"
      },
      "source": [
        "**To-Dos**\n",
        "\n",
        "**Aim:** 0.95+ accuracy \n",
        "\n",
        "✅Train the resnet baseline model on their 3k plus data towards obtaining the 0.65 accuracy score. This might require include using their 32 by 32 pixel script for image resizing, deleting corrupted files, and fixing labels.\n",
        "\n",
        "✅Inspect the 3k+ images for bad labels, bad image, etc. Fix all anomalies found. \n",
        "\n",
        "✅Download and read papers that uses the Roman MNIST dataset. We can get links to the dataset and other useful information.  \n",
        "\n",
        "\n",
        "✅Inspect the image classes distribution and take necessary actions. It's important that the dataset isn't skewed. \n",
        "\n",
        "✅Use fastai's image data augmentation functions \n",
        "\n",
        "✅Gather more Roman MNIST data in an increase rate of not more than 10x of the 3k data size. This data gathering can be done using any means available, web scraping inclusive.\n",
        "\n",
        "**N.B:** At the end of each steps above, we retrain the baseline model on the dataset in order to observe the effect on the model accuracy score."
      ]
    },
    {
      "cell_type": "markdown",
      "metadata": {
        "id": "xj3RYY0Rqxqu"
      },
      "source": [
        "# Notes\n",
        "\n",
        "* RENAME EACH FILES. Add an auto-increment serial number at the start of each names. This would aid easy lookup of images. Doing this will require creating a doc that contains the previous and new name.\n",
        "* the noise on some images can be erased using photo editing tools. This tool can also be used for data augmentation such as crop, resize.\n",
        "* the images labelled as 'trash' in [Data inspection discoveries](https://drive.google.com/file/d/162_c0DDd9UdTN206I9Q7A6TmJg3Fay96/view?usp=sharing) should be moved to a new folder having a new class named 'unrecognized'\n",
        "\n",
        "* in the I folder, there are images that look like small figure 1\n",
        "* some images needs to be cropped\n",
        "* some images have 1/2 vertical noisy lines\n",
        "* in the II folder, some images written with marker are so small, hence, they appear like roman numeral I.\n",
        "* in the II folder, some images have a bottom vertical noisy line\n",
        "* images' stroke are either thick or thin\n",
        "* some images are small lettered roman numeral \n",
        "* some images are capital lettered roman numeral\n",
        "* some images are capita+bars lettered roman numeral\n",
        "* some images are dashes\n",
        "* images are black on white background"
      ]
    },
    {
      "cell_type": "code",
      "metadata": {
        "colab": {
          "base_uri": "https://localhost:8080/"
        },
        "id": "mBavItuW3fTg",
        "outputId": "acd7a61d-bc1a-4c11-c70e-4d2c8a958f11"
      },
      "source": [
        "!git clone https://github.com/KutuDev/AIDataComp"
      ],
      "execution_count": 1,
      "outputs": [
        {
          "output_type": "stream",
          "text": [
            "Cloning into 'DataCentricAIComp'...\n",
            "remote: Enumerating objects: 84, done.\u001b[K\n",
            "remote: Counting objects: 100% (84/84), done.\u001b[K\n",
            "remote: Compressing objects: 100% (83/83), done.\u001b[K\n",
            "remote: Total 84 (delta 40), reused 0 (delta 0), pack-reused 0\u001b[K\n",
            "Unpacking objects: 100% (84/84), done.\n"
          ],
          "name": "stdout"
        }
      ]
    },
    {
      "cell_type": "code",
      "metadata": {
        "id": "TNs1zvkp3qbv"
      },
      "source": [
        "def unzipper(in_folderPath, out_folderPath):\n",
        "    import tarfile\n",
        "\n",
        "    file = tarfile.open(in_folderPath)\n",
        "    file.extractall(out_folderPath)\n",
        "    file.close()"
      ],
      "execution_count": 2,
      "outputs": []
    },
    {
      "cell_type": "code",
      "metadata": {
        "id": "UQm38TFf5A0o"
      },
      "source": [
        "dataset_name = 'data_v4' \n",
        "\n",
        "unzipper(in_folderPath=f'/content/DataCentricAIComp/{dataset_name}.tar.gz', out_folderPath='./images')\n",
        "unzipper(in_folderPath='/content/DataCentricAIComp/label_book.tar.gz', out_folderPath='./images')"
      ],
      "execution_count": 3,
      "outputs": []
    },
    {
      "cell_type": "markdown",
      "metadata": {
        "id": "SfCCWdolqB_N"
      },
      "source": [
        "# Before running the below code, inspect the file browser and copy and paste the needed part of the file path of the dataset"
      ]
    },
    {
      "cell_type": "code",
      "metadata": {
        "id": "51x_efjdj8aS",
        "colab": {
          "base_uri": "https://localhost:8080/",
          "height": 35
        },
        "outputId": "922df2d7-6eaf-48f4-8ff0-e67b23df9b4f"
      },
      "source": [
        "import shutil\n",
        "\n",
        "shutil.move(f\"/content/images/Users/Samuel/Downloads/{dataset_name}\", \"/content/images\")"
      ],
      "execution_count": 5,
      "outputs": [
        {
          "output_type": "execute_result",
          "data": {
            "application/vnd.google.colaboratory.intrinsic+json": {
              "type": "string"
            },
            "text/plain": [
              "'/content/images/data_v4'"
            ]
          },
          "metadata": {
            "tags": []
          },
          "execution_count": 5
        }
      ]
    },
    {
      "cell_type": "code",
      "metadata": {
        "id": "lTnruT3c7UQk"
      },
      "source": [
        "# !pip install pysimplegui"
      ],
      "execution_count": null,
      "outputs": []
    },
    {
      "cell_type": "code",
      "metadata": {
        "id": "Ml8h2fNe93my"
      },
      "source": [
        "# !apt-get install -y xvfb # Install X Virtual Frame Buffer\n",
        "# import os\n",
        "# os.system('Xvfb :1 -screen 0 1600x1200x16  &')    # create virtual display with size 1600x1200 and 16 bit color. Color can be changed to 24 or 8\n",
        "# os.environ['DISPLAY']=':1.0'    # tell X clients to use our virtual DISPLAY :1.0"
      ],
      "execution_count": null,
      "outputs": []
    },
    {
      "cell_type": "code",
      "metadata": {
        "id": "f3DbbEMB7ZA2"
      },
      "source": [
        "# !python '/content/DataCentricAIComp/annotgui.py'"
      ],
      "execution_count": null,
      "outputs": []
    },
    {
      "cell_type": "code",
      "metadata": {
        "id": "TfDIr8zpROj-",
        "colab": {
          "base_uri": "https://localhost:8080/"
        },
        "outputId": "e458ce7e-a350-49bc-d914-61a04a41a5bd"
      },
      "source": [
        "import tensorflow as tf\n",
        "from tensorflow import keras\n",
        "import numpy as np\n",
        "import json\n",
        "import sys\n",
        "\n",
        "directory = \"/content/images\" \n",
        "user_data = directory + f\"/{dataset_name}\"\n",
        "valid_data = directory + f\"/{dataset_name}\"\n",
        "test_data = directory + \"/label_book\" # this can be the label book, or any other test set you create\n",
        "\n",
        "### DO NOT MODIFY BELOW THIS LINE, THIS IS THE FIXED MODEL ###\n",
        "batch_size = 8\n",
        "tf.random.set_seed(123)\n",
        "\n",
        "\n",
        "if __name__ == \"__main__\":\n",
        "    train = tf.keras.preprocessing.image_dataset_from_directory(\n",
        "        user_data + '/train',\n",
        "        labels=\"inferred\",\n",
        "        label_mode=\"categorical\",\n",
        "        class_names=[\"i\", \"ii\", \"iii\", \"iv\", \"v\", \"vi\", \"vii\", \"viii\", \"ix\", \"x\"],\n",
        "        shuffle=True,\n",
        "        seed=123,\n",
        "        batch_size=batch_size,\n",
        "        image_size=(32, 32),\n",
        "    )\n",
        "\n",
        "    valid = tf.keras.preprocessing.image_dataset_from_directory(\n",
        "        user_data + '/val',\n",
        "        labels=\"inferred\",\n",
        "        label_mode=\"categorical\",\n",
        "        class_names=[\"i\", \"ii\", \"iii\", \"iv\", \"v\", \"vi\", \"vii\", \"viii\", \"ix\", \"x\"],\n",
        "        shuffle=True,\n",
        "        seed=123,\n",
        "        batch_size=batch_size,\n",
        "        image_size=(32, 32),\n",
        "    )\n",
        "\n",
        "    total_length = ((train.cardinality() + valid.cardinality()) * batch_size).numpy()\n",
        "    if total_length > 10_000:\n",
        "        print(f\"Dataset size larger than 10,000. Got {total_length} examples\")\n",
        "        sys.exit()\n",
        "\n",
        "    test = tf.keras.preprocessing.image_dataset_from_directory(\n",
        "        test_data,\n",
        "        labels=\"inferred\",\n",
        "        label_mode=\"categorical\",\n",
        "        class_names=[\"i\", \"ii\", \"iii\", \"iv\", \"v\", \"vi\", \"vii\", \"viii\", \"ix\", \"x\"],\n",
        "        shuffle=False,\n",
        "        seed=123,\n",
        "        batch_size=batch_size,\n",
        "        image_size=(32, 32),\n",
        "    )\n",
        "\n",
        "    base_model = tf.keras.applications.ResNet50(\n",
        "        input_shape=(32, 32, 3),\n",
        "        include_top=False,\n",
        "        weights=None,\n",
        "    )\n",
        "    base_model = tf.keras.Model(\n",
        "        base_model.inputs, outputs=[base_model.get_layer(\"conv2_block3_out\").output]\n",
        "    )\n",
        "\n",
        "    inputs = tf.keras.Input(shape=(32, 32, 3))\n",
        "    x = tf.keras.applications.resnet.preprocess_input(inputs)\n",
        "    x = base_model(x)\n",
        "    x = tf.keras.layers.GlobalAveragePooling2D()(x)\n",
        "    x = tf.keras.layers.Dense(10)(x)\n",
        "    model = tf.keras.Model(inputs, x)\n",
        "\n",
        "    model.compile(\n",
        "        optimizer=tf.keras.optimizers.Adam(lr=0.0001),\n",
        "        loss=tf.keras.losses.CategoricalCrossentropy(from_logits=True),\n",
        "        metrics=[\"accuracy\"],\n",
        "    )\n",
        "    model.summary()\n",
        "    loss_0, acc_0 = model.evaluate(valid)\n",
        "    print(f\"loss {loss_0}, acc {acc_0}\")\n",
        "\n",
        "    checkpoint = tf.keras.callbacks.ModelCheckpoint(\n",
        "        \"best_model\",\n",
        "        monitor=\"val_accuracy\",\n",
        "        mode=\"max\",\n",
        "        save_best_only=True,\n",
        "        save_weights_only=True,\n",
        "    )\n",
        "\n",
        "    history = model.fit(\n",
        "        train,\n",
        "        validation_data=valid,\n",
        "        epochs=100,\n",
        "        callbacks=[checkpoint],\n",
        "    )\n",
        "\n",
        "    model.load_weights(\"best_model\")\n",
        "\n",
        "    loss, acc = model.evaluate(valid)\n",
        "    print(f\"final loss {loss}, final acc {acc}\")\n",
        "\n",
        "    test_loss, test_acc = model.evaluate(test)\n",
        "    print(f\"test loss {test_loss}, test acc {test_acc}\")"
      ],
      "execution_count": 7,
      "outputs": [
        {
          "output_type": "stream",
          "text": [
            "Found 1871 files belonging to 10 classes.\n",
            "Found 781 files belonging to 10 classes.\n",
            "Found 52 files belonging to 10 classes.\n"
          ],
          "name": "stdout"
        },
        {
          "output_type": "stream",
          "text": [
            "/usr/local/lib/python3.7/dist-packages/tensorflow/python/keras/optimizer_v2/optimizer_v2.py:375: UserWarning: The `lr` argument is deprecated, use `learning_rate` instead.\n",
            "  \"The `lr` argument is deprecated, use `learning_rate` instead.\")\n"
          ],
          "name": "stderr"
        },
        {
          "output_type": "stream",
          "text": [
            "Model: \"model_3\"\n",
            "_________________________________________________________________\n",
            "Layer (type)                 Output Shape              Param #   \n",
            "=================================================================\n",
            "input_4 (InputLayer)         [(None, 32, 32, 3)]       0         \n",
            "_________________________________________________________________\n",
            "tf.__operators__.getitem_1 ( (None, 32, 32, 3)         0         \n",
            "_________________________________________________________________\n",
            "tf.nn.bias_add_1 (TFOpLambda (None, 32, 32, 3)         0         \n",
            "_________________________________________________________________\n",
            "model_2 (Functional)         (None, 8, 8, 256)         229760    \n",
            "_________________________________________________________________\n",
            "global_average_pooling2d_1 ( (None, 256)               0         \n",
            "_________________________________________________________________\n",
            "dense_1 (Dense)              (None, 10)                2570      \n",
            "=================================================================\n",
            "Total params: 232,330\n",
            "Trainable params: 229,386\n",
            "Non-trainable params: 2,944\n",
            "_________________________________________________________________\n",
            "98/98 [==============================] - 1s 5ms/step - loss: 36.9778 - accuracy: 0.0973\n",
            "loss 36.97779846191406, acc 0.09731113910675049\n",
            "Epoch 1/100\n",
            "234/234 [==============================] - 3s 10ms/step - loss: 1.7559 - accuracy: 0.4249 - val_loss: 1.8098 - val_accuracy: 0.2996\n",
            "Epoch 2/100\n",
            "234/234 [==============================] - 2s 10ms/step - loss: 1.1149 - accuracy: 0.6617 - val_loss: 1.1722 - val_accuracy: 0.6056\n",
            "Epoch 3/100\n",
            "234/234 [==============================] - 2s 10ms/step - loss: 0.8473 - accuracy: 0.7440 - val_loss: 0.9990 - val_accuracy: 0.6825\n",
            "Epoch 4/100\n",
            "234/234 [==============================] - 2s 10ms/step - loss: 0.6719 - accuracy: 0.8038 - val_loss: 0.8609 - val_accuracy: 0.7068\n",
            "Epoch 5/100\n",
            "234/234 [==============================] - 2s 10ms/step - loss: 0.5407 - accuracy: 0.8354 - val_loss: 0.8153 - val_accuracy: 0.7234\n",
            "Epoch 6/100\n",
            "234/234 [==============================] - 2s 10ms/step - loss: 0.4635 - accuracy: 0.8723 - val_loss: 0.7903 - val_accuracy: 0.7260\n",
            "Epoch 7/100\n",
            "234/234 [==============================] - 2s 10ms/step - loss: 0.3714 - accuracy: 0.9011 - val_loss: 0.7678 - val_accuracy: 0.7452\n",
            "Epoch 8/100\n",
            "234/234 [==============================] - 2s 10ms/step - loss: 0.3459 - accuracy: 0.9033 - val_loss: 0.6921 - val_accuracy: 0.7593\n",
            "Epoch 9/100\n",
            "234/234 [==============================] - 2s 10ms/step - loss: 0.2695 - accuracy: 0.9273 - val_loss: 0.7023 - val_accuracy: 0.7721\n",
            "Epoch 10/100\n",
            "234/234 [==============================] - 2s 10ms/step - loss: 0.2354 - accuracy: 0.9455 - val_loss: 0.6792 - val_accuracy: 0.7759\n",
            "Epoch 11/100\n",
            "234/234 [==============================] - 2s 10ms/step - loss: 0.2113 - accuracy: 0.9492 - val_loss: 0.5161 - val_accuracy: 0.8425\n",
            "Epoch 12/100\n",
            "234/234 [==============================] - 3s 11ms/step - loss: 0.1560 - accuracy: 0.9727 - val_loss: 0.6091 - val_accuracy: 0.8067\n",
            "Epoch 13/100\n",
            "234/234 [==============================] - 2s 10ms/step - loss: 0.1585 - accuracy: 0.9615 - val_loss: 0.6638 - val_accuracy: 0.7913\n",
            "Epoch 14/100\n",
            "234/234 [==============================] - 2s 10ms/step - loss: 0.1416 - accuracy: 0.9765 - val_loss: 0.6512 - val_accuracy: 0.7926\n",
            "Epoch 15/100\n",
            "234/234 [==============================] - 3s 11ms/step - loss: 0.1343 - accuracy: 0.9711 - val_loss: 0.8235 - val_accuracy: 0.7670\n",
            "Epoch 16/100\n",
            "234/234 [==============================] - 3s 11ms/step - loss: 0.0987 - accuracy: 0.9840 - val_loss: 0.5876 - val_accuracy: 0.8015\n",
            "Epoch 17/100\n",
            "234/234 [==============================] - 3s 11ms/step - loss: 0.1050 - accuracy: 0.9765 - val_loss: 0.6105 - val_accuracy: 0.8041\n",
            "Epoch 18/100\n",
            "234/234 [==============================] - 2s 10ms/step - loss: 0.0810 - accuracy: 0.9882 - val_loss: 0.6456 - val_accuracy: 0.7964\n",
            "Epoch 19/100\n",
            "234/234 [==============================] - 2s 10ms/step - loss: 0.0681 - accuracy: 0.9936 - val_loss: 0.5327 - val_accuracy: 0.8399\n",
            "Epoch 20/100\n",
            "234/234 [==============================] - 2s 10ms/step - loss: 0.0697 - accuracy: 0.9893 - val_loss: 0.6001 - val_accuracy: 0.8207\n",
            "Epoch 21/100\n",
            "234/234 [==============================] - 2s 10ms/step - loss: 0.0618 - accuracy: 0.9888 - val_loss: 0.6062 - val_accuracy: 0.8169\n",
            "Epoch 22/100\n",
            "234/234 [==============================] - 2s 10ms/step - loss: 0.0606 - accuracy: 0.9904 - val_loss: 0.6915 - val_accuracy: 0.7951\n",
            "Epoch 23/100\n",
            "234/234 [==============================] - 2s 10ms/step - loss: 0.0632 - accuracy: 0.9856 - val_loss: 0.7870 - val_accuracy: 0.7810\n",
            "Epoch 24/100\n",
            "234/234 [==============================] - 2s 10ms/step - loss: 0.0731 - accuracy: 0.9840 - val_loss: 0.6675 - val_accuracy: 0.8220\n",
            "Epoch 25/100\n",
            "234/234 [==============================] - 2s 10ms/step - loss: 0.0532 - accuracy: 0.9888 - val_loss: 0.6944 - val_accuracy: 0.8003\n",
            "Epoch 26/100\n",
            "234/234 [==============================] - 2s 10ms/step - loss: 0.0693 - accuracy: 0.9850 - val_loss: 0.7119 - val_accuracy: 0.7977\n",
            "Epoch 27/100\n",
            "234/234 [==============================] - 2s 10ms/step - loss: 0.0492 - accuracy: 0.9877 - val_loss: 0.9553 - val_accuracy: 0.7452\n",
            "Epoch 28/100\n",
            "234/234 [==============================] - 2s 10ms/step - loss: 0.0524 - accuracy: 0.9909 - val_loss: 0.6720 - val_accuracy: 0.8079\n",
            "Epoch 29/100\n",
            "234/234 [==============================] - 2s 10ms/step - loss: 0.0321 - accuracy: 0.9973 - val_loss: 0.6306 - val_accuracy: 0.8323\n",
            "Epoch 30/100\n",
            "234/234 [==============================] - 2s 10ms/step - loss: 0.0358 - accuracy: 0.9941 - val_loss: 0.9776 - val_accuracy: 0.7478\n",
            "Epoch 31/100\n",
            "234/234 [==============================] - 2s 10ms/step - loss: 0.0375 - accuracy: 0.9947 - val_loss: 0.8360 - val_accuracy: 0.7734\n",
            "Epoch 32/100\n",
            "234/234 [==============================] - 2s 10ms/step - loss: 0.0324 - accuracy: 0.9952 - val_loss: 0.6690 - val_accuracy: 0.8067\n",
            "Epoch 33/100\n",
            "234/234 [==============================] - 2s 10ms/step - loss: 0.0343 - accuracy: 0.9931 - val_loss: 0.8335 - val_accuracy: 0.7798\n",
            "Epoch 34/100\n",
            "234/234 [==============================] - 2s 11ms/step - loss: 0.0426 - accuracy: 0.9898 - val_loss: 1.0206 - val_accuracy: 0.7529\n",
            "Epoch 35/100\n",
            "234/234 [==============================] - 2s 11ms/step - loss: 0.0351 - accuracy: 0.9931 - val_loss: 0.7814 - val_accuracy: 0.7670\n",
            "Epoch 36/100\n",
            "234/234 [==============================] - 3s 11ms/step - loss: 0.0287 - accuracy: 0.9936 - val_loss: 0.5699 - val_accuracy: 0.8412\n",
            "Epoch 37/100\n",
            "234/234 [==============================] - 2s 11ms/step - loss: 0.0273 - accuracy: 0.9941 - val_loss: 0.7282 - val_accuracy: 0.8041\n",
            "Epoch 38/100\n",
            "234/234 [==============================] - 3s 11ms/step - loss: 0.0383 - accuracy: 0.9893 - val_loss: 0.5433 - val_accuracy: 0.8451\n",
            "Epoch 39/100\n",
            "234/234 [==============================] - 2s 11ms/step - loss: 0.0500 - accuracy: 0.9898 - val_loss: 1.5347 - val_accuracy: 0.6504\n",
            "Epoch 40/100\n",
            "234/234 [==============================] - 3s 11ms/step - loss: 0.0315 - accuracy: 0.9931 - val_loss: 0.6132 - val_accuracy: 0.8246\n",
            "Epoch 41/100\n",
            "234/234 [==============================] - 2s 11ms/step - loss: 0.0204 - accuracy: 0.9973 - val_loss: 0.5875 - val_accuracy: 0.8464\n",
            "Epoch 42/100\n",
            "234/234 [==============================] - 2s 11ms/step - loss: 0.0208 - accuracy: 0.9952 - val_loss: 0.6900 - val_accuracy: 0.8207\n",
            "Epoch 43/100\n",
            "234/234 [==============================] - 2s 10ms/step - loss: 0.0240 - accuracy: 0.9957 - val_loss: 0.5496 - val_accuracy: 0.8476\n",
            "Epoch 44/100\n",
            "234/234 [==============================] - 2s 10ms/step - loss: 0.0175 - accuracy: 0.9979 - val_loss: 0.7915 - val_accuracy: 0.8092\n",
            "Epoch 45/100\n",
            "234/234 [==============================] - 3s 11ms/step - loss: 0.0213 - accuracy: 0.9973 - val_loss: 0.7095 - val_accuracy: 0.8271\n",
            "Epoch 46/100\n",
            "234/234 [==============================] - 2s 10ms/step - loss: 0.0203 - accuracy: 0.9941 - val_loss: 0.7762 - val_accuracy: 0.8015\n",
            "Epoch 47/100\n",
            "234/234 [==============================] - 2s 10ms/step - loss: 0.0407 - accuracy: 0.9893 - val_loss: 1.2291 - val_accuracy: 0.7682\n",
            "Epoch 48/100\n",
            "234/234 [==============================] - 2s 10ms/step - loss: 0.0329 - accuracy: 0.9920 - val_loss: 0.5925 - val_accuracy: 0.8348\n",
            "Epoch 49/100\n",
            "234/234 [==============================] - 2s 10ms/step - loss: 0.0228 - accuracy: 0.9941 - val_loss: 0.6989 - val_accuracy: 0.8143\n",
            "Epoch 50/100\n",
            "234/234 [==============================] - 2s 10ms/step - loss: 0.0207 - accuracy: 0.9957 - val_loss: 0.6082 - val_accuracy: 0.8361\n",
            "Epoch 51/100\n",
            "234/234 [==============================] - 2s 10ms/step - loss: 0.0168 - accuracy: 0.9979 - val_loss: 0.6869 - val_accuracy: 0.8092\n",
            "Epoch 52/100\n",
            "234/234 [==============================] - 2s 10ms/step - loss: 0.0285 - accuracy: 0.9914 - val_loss: 1.0455 - val_accuracy: 0.7516\n",
            "Epoch 53/100\n",
            "234/234 [==============================] - 2s 10ms/step - loss: 0.0465 - accuracy: 0.9893 - val_loss: 0.8756 - val_accuracy: 0.7823\n",
            "Epoch 54/100\n",
            "234/234 [==============================] - 2s 10ms/step - loss: 0.0330 - accuracy: 0.9914 - val_loss: 0.7251 - val_accuracy: 0.8105\n",
            "Epoch 55/100\n",
            "234/234 [==============================] - 2s 10ms/step - loss: 0.0196 - accuracy: 0.9957 - val_loss: 0.7265 - val_accuracy: 0.8182\n",
            "Epoch 56/100\n",
            "234/234 [==============================] - 2s 10ms/step - loss: 0.0149 - accuracy: 0.9973 - val_loss: 0.5506 - val_accuracy: 0.8515\n",
            "Epoch 57/100\n",
            "234/234 [==============================] - 2s 10ms/step - loss: 0.0089 - accuracy: 0.9995 - val_loss: 0.6776 - val_accuracy: 0.8207\n",
            "Epoch 58/100\n",
            "234/234 [==============================] - 2s 10ms/step - loss: 0.0144 - accuracy: 0.9957 - val_loss: 0.7867 - val_accuracy: 0.7990\n",
            "Epoch 59/100\n",
            "234/234 [==============================] - 2s 10ms/step - loss: 0.0290 - accuracy: 0.9898 - val_loss: 1.0581 - val_accuracy: 0.7580\n",
            "Epoch 60/100\n",
            "234/234 [==============================] - 3s 11ms/step - loss: 0.0212 - accuracy: 0.9952 - val_loss: 0.5957 - val_accuracy: 0.8246\n",
            "Epoch 61/100\n",
            "234/234 [==============================] - 2s 11ms/step - loss: 0.0283 - accuracy: 0.9925 - val_loss: 0.9044 - val_accuracy: 0.7810\n",
            "Epoch 62/100\n",
            "234/234 [==============================] - 3s 11ms/step - loss: 0.0160 - accuracy: 0.9968 - val_loss: 0.7660 - val_accuracy: 0.8028\n",
            "Epoch 63/100\n",
            "234/234 [==============================] - 3s 11ms/step - loss: 0.0111 - accuracy: 0.9979 - val_loss: 0.5923 - val_accuracy: 0.8566\n",
            "Epoch 64/100\n",
            "234/234 [==============================] - 3s 11ms/step - loss: 0.0140 - accuracy: 0.9989 - val_loss: 0.6348 - val_accuracy: 0.8476\n",
            "Epoch 65/100\n",
            "234/234 [==============================] - 2s 11ms/step - loss: 0.0077 - accuracy: 0.9984 - val_loss: 0.6871 - val_accuracy: 0.8246\n",
            "Epoch 66/100\n",
            "234/234 [==============================] - 3s 11ms/step - loss: 0.0159 - accuracy: 0.9968 - val_loss: 0.9708 - val_accuracy: 0.7875\n",
            "Epoch 67/100\n",
            "234/234 [==============================] - 2s 10ms/step - loss: 0.0377 - accuracy: 0.9893 - val_loss: 0.8409 - val_accuracy: 0.7849\n",
            "Epoch 68/100\n",
            "234/234 [==============================] - 2s 10ms/step - loss: 0.0227 - accuracy: 0.9947 - val_loss: 0.8110 - val_accuracy: 0.7849\n",
            "Epoch 69/100\n",
            "234/234 [==============================] - 2s 10ms/step - loss: 0.0124 - accuracy: 0.9979 - val_loss: 0.7689 - val_accuracy: 0.8156\n",
            "Epoch 70/100\n",
            "234/234 [==============================] - 2s 10ms/step - loss: 0.0088 - accuracy: 0.9989 - val_loss: 0.6839 - val_accuracy: 0.8361\n",
            "Epoch 71/100\n",
            "234/234 [==============================] - 2s 10ms/step - loss: 0.0223 - accuracy: 0.9925 - val_loss: 0.8221 - val_accuracy: 0.7875\n",
            "Epoch 72/100\n",
            "234/234 [==============================] - 2s 10ms/step - loss: 0.0342 - accuracy: 0.9914 - val_loss: 1.0700 - val_accuracy: 0.7542\n",
            "Epoch 73/100\n",
            "234/234 [==============================] - 2s 10ms/step - loss: 0.0154 - accuracy: 0.9957 - val_loss: 0.7065 - val_accuracy: 0.8374\n",
            "Epoch 74/100\n",
            "234/234 [==============================] - 2s 10ms/step - loss: 0.0130 - accuracy: 0.9973 - val_loss: 0.6015 - val_accuracy: 0.8579\n",
            "Epoch 75/100\n",
            "234/234 [==============================] - 2s 10ms/step - loss: 0.0143 - accuracy: 0.9984 - val_loss: 0.7303 - val_accuracy: 0.8246\n",
            "Epoch 76/100\n",
            "234/234 [==============================] - 2s 10ms/step - loss: 0.0081 - accuracy: 0.9989 - val_loss: 0.5508 - val_accuracy: 0.8668\n",
            "Epoch 77/100\n",
            "234/234 [==============================] - 2s 10ms/step - loss: 0.0112 - accuracy: 0.9973 - val_loss: 0.8103 - val_accuracy: 0.8028\n",
            "Epoch 78/100\n",
            "234/234 [==============================] - 2s 10ms/step - loss: 0.0328 - accuracy: 0.9909 - val_loss: 1.0388 - val_accuracy: 0.7759\n",
            "Epoch 79/100\n",
            "234/234 [==============================] - 2s 10ms/step - loss: 0.0266 - accuracy: 0.9931 - val_loss: 0.5750 - val_accuracy: 0.8579\n",
            "Epoch 80/100\n",
            "234/234 [==============================] - 2s 10ms/step - loss: 0.0163 - accuracy: 0.9963 - val_loss: 0.8862 - val_accuracy: 0.7926\n",
            "Epoch 81/100\n",
            "234/234 [==============================] - 2s 10ms/step - loss: 0.0088 - accuracy: 0.9984 - val_loss: 0.5887 - val_accuracy: 0.8720\n",
            "Epoch 82/100\n",
            "234/234 [==============================] - 2s 10ms/step - loss: 0.0086 - accuracy: 0.9995 - val_loss: 0.5718 - val_accuracy: 0.8604\n",
            "Epoch 83/100\n",
            "234/234 [==============================] - 2s 10ms/step - loss: 0.0131 - accuracy: 0.9968 - val_loss: 0.6733 - val_accuracy: 0.8310\n",
            "Epoch 84/100\n",
            "234/234 [==============================] - 3s 11ms/step - loss: 0.0128 - accuracy: 0.9968 - val_loss: 0.5497 - val_accuracy: 0.8656\n",
            "Epoch 85/100\n",
            "234/234 [==============================] - 3s 11ms/step - loss: 0.0050 - accuracy: 0.9989 - val_loss: 0.5859 - val_accuracy: 0.8412\n",
            "Epoch 86/100\n",
            "234/234 [==============================] - 3s 11ms/step - loss: 0.0129 - accuracy: 0.9979 - val_loss: 0.4767 - val_accuracy: 0.8796\n",
            "Epoch 87/100\n",
            "234/234 [==============================] - 3s 11ms/step - loss: 0.0298 - accuracy: 0.9914 - val_loss: 1.0493 - val_accuracy: 0.7567\n",
            "Epoch 88/100\n",
            "234/234 [==============================] - 3s 11ms/step - loss: 0.0510 - accuracy: 0.9845 - val_loss: 1.3407 - val_accuracy: 0.7362\n",
            "Epoch 89/100\n",
            "234/234 [==============================] - 3s 11ms/step - loss: 0.0181 - accuracy: 0.9957 - val_loss: 0.6904 - val_accuracy: 0.8425\n",
            "Epoch 90/100\n",
            "234/234 [==============================] - 2s 10ms/step - loss: 0.0149 - accuracy: 0.9957 - val_loss: 0.6447 - val_accuracy: 0.8387\n",
            "Epoch 91/100\n",
            "234/234 [==============================] - 2s 10ms/step - loss: 0.0111 - accuracy: 0.9968 - val_loss: 0.5603 - val_accuracy: 0.8681\n",
            "Epoch 92/100\n",
            "234/234 [==============================] - 3s 11ms/step - loss: 0.0071 - accuracy: 0.9984 - val_loss: 0.5341 - val_accuracy: 0.8860\n",
            "Epoch 93/100\n",
            "234/234 [==============================] - 2s 11ms/step - loss: 0.0051 - accuracy: 0.9989 - val_loss: 0.5733 - val_accuracy: 0.8720\n",
            "Epoch 94/100\n",
            "234/234 [==============================] - 3s 11ms/step - loss: 0.0130 - accuracy: 0.9968 - val_loss: 0.6329 - val_accuracy: 0.8438\n",
            "Epoch 95/100\n",
            "234/234 [==============================] - 3s 11ms/step - loss: 0.0063 - accuracy: 0.9989 - val_loss: 0.5707 - val_accuracy: 0.8656\n",
            "Epoch 96/100\n",
            "234/234 [==============================] - 3s 11ms/step - loss: 0.0102 - accuracy: 0.9973 - val_loss: 1.0702 - val_accuracy: 0.8003\n",
            "Epoch 97/100\n",
            "234/234 [==============================] - 3s 11ms/step - loss: 0.0205 - accuracy: 0.9957 - val_loss: 1.1493 - val_accuracy: 0.7439\n",
            "Epoch 98/100\n",
            "234/234 [==============================] - 3s 11ms/step - loss: 0.0190 - accuracy: 0.9963 - val_loss: 0.7120 - val_accuracy: 0.8438\n",
            "Epoch 99/100\n",
            "234/234 [==============================] - 3s 11ms/step - loss: 0.0118 - accuracy: 0.9957 - val_loss: 0.6458 - val_accuracy: 0.8489\n",
            "Epoch 100/100\n",
            "234/234 [==============================] - 2s 10ms/step - loss: 0.0084 - accuracy: 0.9984 - val_loss: 0.6646 - val_accuracy: 0.8540\n",
            "98/98 [==============================] - 1s 5ms/step - loss: 0.5341 - accuracy: 0.8860\n",
            "final loss 0.5341272950172424, final acc 0.8860435485839844\n",
            "7/7 [==============================] - 0s 7ms/step - loss: 2.4737 - accuracy: 0.4615\n",
            "test loss 2.473747730255127, test acc 0.4615384638309479\n"
          ],
          "name": "stdout"
        }
      ]
    },
    {
      "cell_type": "code",
      "metadata": {
        "id": "ERPUp5I035tq"
      },
      "source": [
        "import cv2\n",
        "import numpy as np\n",
        "import math\n",
        "from scipy import ndimage\n",
        "import os\n",
        "import shutil\n",
        "from pathlib import Path\n",
        "import tarfile\n",
        "\n",
        "def getBestShift(img):\n",
        "    cy,cx = ndimage.measurements.center_of_mass(img)\n",
        "\n",
        "    rows,cols = img.shape\n",
        "    shiftx = np.round(cols/2.0-cx).astype(int)\n",
        "    shifty = np.round(rows/2.0-cy).astype(int)\n",
        "\n",
        "    return shiftx,shifty\n",
        "\n",
        "\n",
        "def shift(img,sx,sy):\n",
        "    rows,cols = img.shape\n",
        "    M = np.float32([[1,0,sx],[0,1,sy]])\n",
        "    shifted = cv2.warpAffine(img,M,(cols,rows))\n",
        "    return shifted\n",
        "\n",
        "def ignore_files(dir, files):\n",
        "    return [f for f in files if os.path.isfile(os.path.join(dir, f))]\n",
        "\n",
        "def tardir(path, tar_name):\n",
        "    with tarfile.open(tar_name, \"w:gz\") as tar_handle:\n",
        "        for root, dirs, files in os.walk(path):\n",
        "            for file in files:\n",
        "                tar_handle.add(os.path.join(root, file))"
      ],
      "execution_count": null,
      "outputs": []
    },
    {
      "cell_type": "code",
      "metadata": {
        "id": "gEfFWC0H4EcO"
      },
      "source": [
        "def preprocessor(data, new_data, zip_data = False):\n",
        "    old_path = os.path.join(os.getcwd(), data)\n",
        "    new_path = os.path.join(os.getcwd(), new_data)\n",
        "    \n",
        "    try:\n",
        "        shutil.copytree(old_path, new_path, ignore=ignore_files)\n",
        "    except FileExistsError:\n",
        "        pass\n",
        "\n",
        "    tmp1a = os.path.join(old_path, os.listdir(old_path)[0])\n",
        "    tmp1b = os.path.join(old_path, os.listdir(old_path)[1])\n",
        "    tmp2a = os.listdir(tmp1a)\n",
        "    tmp2b = os.listdir(tmp1b)\n",
        "    \n",
        "    if len(tmp2a) == len(tmp2b):\n",
        "        tmp3a = [os.path.join(tmp1a, i) for i in tmp2a]\n",
        "        tmp3b = [os.path.join(tmp1b, i) for i in tmp2b]\n",
        "    else:\n",
        "        print('Error!!!!........Length mismatch')\n",
        "        \n",
        "    train_file_paths, val_file_paths = [], []\n",
        "    \n",
        "    for i in tmp3a:\n",
        "        train_file_paths.extend([str(file.parent/file.name) for file in Path(i).glob('*.png')])\n",
        "        \n",
        "    for i in tmp3b:\n",
        "        val_file_paths.extend([str(file.parent/file.name) for file in Path(i).glob('*.png')])\n",
        "        \n",
        "    file_paths = train_file_paths+val_file_paths\n",
        "\n",
        "    for img_path in file_paths:\n",
        "        # read the image\n",
        "        gray = cv2.imread(img_path, 0)\n",
        "\n",
        "        pixel_dim = (32, 32) #(28, 28)\n",
        "        bounding_box_dim = (24, 24) #(20, 20)\n",
        "\n",
        "        # rescale it\n",
        "        gray = cv2.resize(255-gray, pixel_dim)\n",
        "        # better black and white version\n",
        "        (thresh, gray) = cv2.threshold(gray, 128, 255, cv2.THRESH_BINARY | cv2.THRESH_OTSU)\n",
        "\n",
        "        while np.sum(gray[0]) == 0:\n",
        "            gray = gray[1:]\n",
        "\n",
        "        while np.sum(gray[:,0]) == 0:\n",
        "            gray = np.delete(gray,0,1)\n",
        "\n",
        "        while np.sum(gray[-1]) == 0:\n",
        "            gray = gray[:-1]\n",
        "\n",
        "        while np.sum(gray[:,-1]) == 0:\n",
        "            gray = np.delete(gray,-1,1)\n",
        "\n",
        "        rows,cols = gray.shape\n",
        "\n",
        "        if rows > cols:\n",
        "            factor = bounding_box_dim[0]/rows\n",
        "            rows = bounding_box_dim[0]\n",
        "            cols = int(round(cols*factor))\n",
        "            # first cols than rows\n",
        "            gray = cv2.resize(gray, (cols,rows))\n",
        "        else:\n",
        "            factor = bounding_box_dim[1]/cols\n",
        "            cols = bounding_box_dim[0]\n",
        "            rows = int(round(rows*factor))\n",
        "            # first cols than rows\n",
        "            gray = cv2.resize(gray, (cols, rows))\n",
        "\n",
        "        colsPadding = (int(math.ceil((pixel_dim[0]-cols)/2.0)),int(math.floor((pixel_dim[0]-cols)/2.0)))\n",
        "        rowsPadding = (int(math.ceil((pixel_dim[1]-rows)/2.0)),int(math.floor((pixel_dim[1]-rows)/2.0)))\n",
        "        gray = np.lib.pad(gray,(rowsPadding,colsPadding),'constant')\n",
        "\n",
        "        shiftx,shifty = getBestShift(gray)\n",
        "        shifted = shift(gray,shiftx,shifty)\n",
        "        gray = shifted\n",
        "\n",
        "        # save the processed images\n",
        "        cv2.imwrite(img_path.replace(data, new_data), gray)\n",
        "        \n",
        "        if zip_data:\n",
        "            tardir(new_path, f'{new_data}.tar.gz')\n",
        "            \n",
        "#         shutil.rmtree(new_path)\n"
      ],
      "execution_count": null,
      "outputs": []
    },
    {
      "cell_type": "code",
      "metadata": {
        "id": "oEn4jw8l4Pi-"
      },
      "source": [
        "# os.chdir(r\"C:\\Users\\Samuel\\Desktop\")\n",
        "# preprocessor(data='data_v2', new_data='data_v3', zip_data=True)"
      ],
      "execution_count": null,
      "outputs": []
    },
    {
      "cell_type": "code",
      "metadata": {
        "id": "IF61LHAphGkn"
      },
      "source": [
        "def labels_gen(train):\n",
        "    imgs = train.file_paths\n",
        "    classes = train.class_names\n",
        "    tmp = {i:idx+1 for idx,i in enumerate(classes)}\n",
        "    y_train_labels = [i.split('/')[-2] for i in imgs]\n",
        "    y_train = [tmp.get(i) for i in y_train_labels]\n",
        "\n",
        "    return imgs, classes, y_train_labels, y_train"
      ],
      "execution_count": null,
      "outputs": []
    },
    {
      "cell_type": "code",
      "metadata": {
        "id": "UJSix8c5yE4z"
      },
      "source": [
        "import pandas as pd\n",
        "import cv2\n",
        "import matplotlib.pyplot as plt\n",
        "\n",
        "def inspect_predictions(valid, rows=2, cols=3, figsize=(10,10)):\n",
        "    imgs, classes, y_test_labels, y_test = labels_gen(valid)\n",
        "    y_pred = [np.argmax(i)+1 for i in model.predict(valid)]\n",
        "    y_pred_labels = [classes[i-1] for i in y_pred]\n",
        "\n",
        "    predictions = pd.DataFrame({'Actual':y_test, 'Predicted':y_pred})\n",
        "    \n",
        "    n = 0\n",
        "    nrows = rows\n",
        "    ncols = cols\n",
        "    fig, ax = plt.subplots(nrows,ncols,sharex=True,sharey=True, figsize=figsize, constrained_layout = True)\n",
        " \n",
        "    for row in range(nrows):\n",
        "        for col in range(ncols):\n",
        "            ax[row,col].set_title(f\"Predicted label: {y_pred_labels[n]}\\nTrue label: {y_test_labels[n]}\")\n",
        "            ax[row,col].imshow((cv2.imread(imgs[n])))\n",
        "            n += 1\n",
        "\n",
        "    return predictions"
      ],
      "execution_count": null,
      "outputs": []
    },
    {
      "cell_type": "code",
      "metadata": {
        "colab": {
          "base_uri": "https://localhost:8080/",
          "height": 529
        },
        "id": "hj35yvNE1iLs",
        "outputId": "5ac8ea92-76f1-4636-e8b3-46063778cb72"
      },
      "source": [
        "predictions = inspect_predictions(valid, rows=3, cols=7, figsize=(15,7))"
      ],
      "execution_count": null,
      "outputs": [
        {
          "output_type": "display_data",
          "data": {
            "image/png": "[encoded data removed]",
            "text/plain": [
              "<Figure size 1080x504 with 21 Axes>"
            ]
          },
          "metadata": {
            "tags": [],
            "needs_background": "light"
          }
        }
      ]
    },
    {
      "cell_type": "markdown",
      "metadata": {
        "id": "3MVs6ie0laBl"
      },
      "source": [
        "# Class distribution of train set"
      ]
    },
    {
      "cell_type": "code",
      "metadata": {
        "id": "oyf6mtuGjemT",
        "colab": {
          "base_uri": "https://localhost:8080/"
        },
        "outputId": "d0d9ccde-0a95-4703-b813-1ba25dc4a10d"
      },
      "source": [
        "from collections import Counter\n",
        "\n",
        "_, _, _, y_train = labels_gen(train)\n",
        "train_total_sample_per_label = dict(Counter(y_train))\n",
        "train_total_sample_per_label"
      ],
      "execution_count": null,
      "outputs": [
        {
          "output_type": "execute_result",
          "data": {
            "text/plain": [
              "{1: 247,\n",
              " 2: 156,\n",
              " 3: 163,\n",
              " 4: 258,\n",
              " 5: 181,\n",
              " 6: 161,\n",
              " 7: 176,\n",
              " 8: 167,\n",
              " 9: 207,\n",
              " 10: 176}"
            ]
          },
          "metadata": {
            "tags": []
          },
          "execution_count": 11
        }
      ]
    },
    {
      "cell_type": "markdown",
      "metadata": {
        "id": "kC1QNzxYlhB8"
      },
      "source": [
        "# Class distribution of validation set"
      ]
    },
    {
      "cell_type": "code",
      "metadata": {
        "id": "Oy5al4XxasHN",
        "colab": {
          "base_uri": "https://localhost:8080/"
        },
        "outputId": "8f0dfc72-85db-46d1-ad1c-4587a3ce18ab"
      },
      "source": [
        "from pprint import pprint\n",
        "\n",
        "valid_total_sample_per_label = predictions.Actual.value_counts().to_dict()\n",
        "pprint(valid_total_sample_per_label, width=10)"
      ],
      "execution_count": null,
      "outputs": [
        {
          "output_type": "stream",
          "text": [
            "{1: 82,\n",
            " 2: 81,\n",
            " 3: 79,\n",
            " 4: 84,\n",
            " 5: 83,\n",
            " 6: 82,\n",
            " 7: 77,\n",
            " 8: 83,\n",
            " 9: 81,\n",
            " 10: 81}\n"
          ],
          "name": "stdout"
        }
      ]
    },
    {
      "cell_type": "markdown",
      "metadata": {
        "id": "BvkG4B_Jlsr8"
      },
      "source": [
        "# Results: For each class in the validation set, what percentage was correctly identified by the model?"
      ]
    },
    {
      "cell_type": "code",
      "metadata": {
        "id": "Qc7DMw6KbiAE",
        "colab": {
          "base_uri": "https://localhost:8080/"
        },
        "outputId": "1c5d99bc-26a7-49d1-cf94-2133651866b7"
      },
      "source": [
        "res = {}\n",
        "\n",
        "for i in range(1, 11):\n",
        "    # print(f'* For {i}: {predictions[predictions.Actual==i].Predicted.value_counts().to_dict()}')\n",
        "    tmp = predictions[predictions.Actual==i].Predicted.value_counts().to_dict()\n",
        "    res[i] = f'{int((tmp.get(i)/valid_total_sample_per_label.get(i))*100)}% success rate'\n",
        "\n",
        "res"
      ],
      "execution_count": null,
      "outputs": [
        {
          "output_type": "execute_result",
          "data": {
            "text/plain": [
              "{1: '3% success rate',\n",
              " 2: '4% success rate',\n",
              " 3: '10% success rate',\n",
              " 4: '9% success rate',\n",
              " 5: '10% success rate',\n",
              " 6: '9% success rate',\n",
              " 7: '9% success rate',\n",
              " 8: '3% success rate',\n",
              " 9: '7% success rate',\n",
              " 10: '7% success rate'}"
            ]
          },
          "metadata": {
            "tags": []
          },
          "execution_count": 13
        }
      ]
    },
    {
      "cell_type": "code",
      "metadata": {
        "id": "t3TOvCCsmk6S",
        "colab": {
          "base_uri": "https://localhost:8080/",
          "height": 204
        },
        "outputId": "b7baa01c-e70a-46df-fba8-6900c96a7720"
      },
      "source": [
        "predictions[predictions.Actual==1].head(5)"
      ],
      "execution_count": null,
      "outputs": [
        {
          "output_type": "execute_result",
          "data": {
            "text/html": [
              "<div>\n",
              "<style scoped>\n",
              "    .dataframe tbody tr th:only-of-type {\n",
              "        vertical-align: middle;\n",
              "    }\n",
              "\n",
              "    .dataframe tbody tr th {\n",
              "        vertical-align: top;\n",
              "    }\n",
              "\n",
              "    .dataframe thead th {\n",
              "        text-align: right;\n",
              "    }\n",
              "</style>\n",
              "<table border=\"1\" class=\"dataframe\">\n",
              "  <thead>\n",
              "    <tr style=\"text-align: right;\">\n",
              "      <th></th>\n",
              "      <th>Actual</th>\n",
              "      <th>Predicted</th>\n",
              "    </tr>\n",
              "  </thead>\n",
              "  <tbody>\n",
              "    <tr>\n",
              "      <th>19</th>\n",
              "      <td>1</td>\n",
              "      <td>3</td>\n",
              "    </tr>\n",
              "    <tr>\n",
              "      <th>27</th>\n",
              "      <td>1</td>\n",
              "      <td>6</td>\n",
              "    </tr>\n",
              "    <tr>\n",
              "      <th>30</th>\n",
              "      <td>1</td>\n",
              "      <td>3</td>\n",
              "    </tr>\n",
              "    <tr>\n",
              "      <th>36</th>\n",
              "      <td>1</td>\n",
              "      <td>7</td>\n",
              "    </tr>\n",
              "    <tr>\n",
              "      <th>38</th>\n",
              "      <td>1</td>\n",
              "      <td>5</td>\n",
              "    </tr>\n",
              "  </tbody>\n",
              "</table>\n",
              "</div>"
            ],
            "text/plain": [
              "    Actual  Predicted\n",
              "19       1          3\n",
              "27       1          6\n",
              "30       1          3\n",
              "36       1          7\n",
              "38       1          5"
            ]
          },
          "metadata": {
            "tags": []
          },
          "execution_count": 14
        }
      ]
    },
    {
      "cell_type": "code",
      "metadata": {
        "id": "YAxb6KKHd5D7"
      },
      "source": [
        "# tf.math.confusion_matrix(labels=b,predictions=y_pred_labels)\n",
        "# dir(valid)"
      ],
      "execution_count": null,
      "outputs": []
    }
  ]
}
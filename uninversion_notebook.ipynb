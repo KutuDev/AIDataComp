{
  "nbformat": 4,
  "nbformat_minor": 0,
  "metadata": {
    "colab": {
      "name": "uninversion notebook.ipynb",
      "provenance": [],
      "collapsed_sections": []
    },
    "kernelspec": {
      "name": "python3",
      "display_name": "Python 3"
    },
    "language_info": {
      "name": "python"
    }
  },
  "cells": [
    {
      "cell_type": "code",
      "metadata": {
        "colab": {
          "base_uri": "https://localhost:8080/"
        },
        "id": "BnI9tyhfyrTc",
        "outputId": "300b12f9-9608-410d-e7df-51ca535e7dc5"
      },
      "source": [
        "!git clone https://github.com/KutuDev/DataCentricAIComp  # colne github repo"
      ],
      "execution_count": 6,
      "outputs": [
        {
          "output_type": "stream",
          "text": [
            "Cloning into 'DataCentricAIComp'...\n",
            "remote: Enumerating objects: 66, done.\u001b[K\n",
            "remote: Counting objects: 100% (66/66), done.\u001b[K\n",
            "remote: Compressing objects: 100% (65/65), done.\u001b[K\n",
            "remote: Total 66 (delta 31), reused 0 (delta 0), pack-reused 0\u001b[K\n",
            "Unpacking objects: 100% (66/66), done.\n"
          ],
          "name": "stdout"
        }
      ]
    },
    {
      "cell_type": "code",
      "metadata": {
        "id": "29M1hqzo3cF0"
      },
      "source": [
        "def unzipper(in_folderPath, out_folderPath):  # folder unzip function\n",
        "    import tarfile\n",
        "\n",
        "    file = tarfile.open(in_folderPath)\n",
        "    file.extractall(out_folderPath)\n",
        "    file.close()"
      ],
      "execution_count": 7,
      "outputs": []
    },
    {
      "cell_type": "code",
      "metadata": {
        "id": "LgC_VZHu3jn0"
      },
      "source": [
        "unzipper(in_folderPath='/content/DataCentricAIComp/data_v3.tar.gz', out_folderPath='./images')  #unzip files from github into the notebook"
      ],
      "execution_count": 15,
      "outputs": []
    },
    {
      "cell_type": "code",
      "metadata": {
        "id": "2GjGecdc-QNR"
      },
      "source": [
        "import os\n",
        "from PIL import Image\n",
        "import matplotlib.pyplot as plt\n",
        "from pathlib import Path"
      ],
      "execution_count": 52,
      "outputs": []
    },
    {
      "cell_type": "code",
      "metadata": {
        "id": "qo9Xcru760lW"
      },
      "source": [
        " pat=(\"/content/images/Users/Samuel/Desktop/data_v3/train\")  #the path where the data set is stored on my google colab notebook (for the train set)\n",
        " for filename in os.listdir(pat): #getting the folders in the file path\n",
        "   folder=os.path.join(pat,filename)  #joining the folder names to the file path so we can go into the folders\n",
        "   os.mkdir(\"/content/drive/MyDrive/Ai_projects/data centric ai /data_v4/train/\"+ filename)  #making a directory to store the uninverted images in my google drive account,\n",
        "   for files in os.listdir(folder): #getting the files in the folders\n",
        "    file=os.path.join(folder,files)  #adding the file names to the file path so our uninvert function can access them directly uninvert directly\n",
        "    im=Image.open(file) # our images are accessed directly\n",
        "    im_invert = ImageOps.invert(im)  # images are uninverted\n",
        "    im_invert.save(\"/content/drive/MyDrive/Ai_projects/data centric ai /data_v4/train/\"+ filename + '/' + files) #uninverted images are stored in the folder i created in my google drive account"
      ],
      "execution_count": 65,
      "outputs": []
    },
    {
      "cell_type": "code",
      "metadata": {
        "id": "ZEzSo-rI8bzT"
      },
      "source": [
        "pat_val=(\"/content/images/Users/Samuel/Desktop/data_v3/val\")  #repeated the procedures above for the val set changing only the file paths.\n",
        "for filename in os.listdir(pat_val):\n",
        "   folder=os.path.join(pat,filename)\n",
        "   os.mkdir(\"/content/drive/MyDrive/Ai_projects/data centric ai /data_v4/val/\" + filename)\n",
        "   for files in os.listdir(folder):\n",
        "    file=os.path.join(folder,files)\n",
        "    im=Image.open(file)\n",
        "    im_invert = ImageOps.invert(im)\n",
        "    im_invert.save(\"/content/drive/MyDrive/Ai_projects/data centric ai /data_v4/val/\"+ filename + '/' + files)"
      ],
      "execution_count": 78,
      "outputs": []
    },
    {
      "cell_type": "code",
      "metadata": {
        "id": "lUhQ1UCN474j"
      },
      "source": [
        "'''for filename in os.listdir(path):\n",
        "  k=os.path.join(path, filename)\n",
        "  im=Image.open(k)\n",
        "  im_invert = ImageOps.invert(im)\n",
        "  im_invert.save(\"/content/images/Users/Samuel/Desktop/data_v3/train_1/i/\"+ filename)'''"
      ],
      "execution_count": 55,
      "outputs": []
    }
  ]
}